{
 "cells": [
  {
   "cell_type": "code",
   "execution_count": 3,
   "metadata": {},
   "outputs": [],
   "source": [
    "import numpy as np\n",
    "import pandas as pd\n",
    "import pandas_datareader as pdr\n",
    "from numpy.linalg import inv\n",
    "import matplotlib.pyplot as plt\n",
    "from scipy.optimize import minimize\n",
    "import seaborn as sns"
   ]
  },
  {
   "cell_type": "code",
   "execution_count": 4,
   "metadata": {},
   "outputs": [
    {
     "name": "stdout",
     "output_type": "stream",
     "text": [
      "10 Industry Portfolios\n",
      "----------------------\n",
      "\n",
      "This file was created by CMPT_IND_RETS using the 202109 CRSP database. It contains value- and equal-weighted returns for 10 industry portfolios. The portfolios are constructed at the end of June. The annual returns are from January to December. Missing data are indicated by -99.99 or -999. Copyright 2021 Kenneth R. French\n",
      "\n",
      "  0 : Average Value Weighted Returns -- Monthly (1143 rows x 10 cols)\n",
      "  1 : Average Equal Weighted Returns -- Monthly (1143 rows x 10 cols)\n",
      "  2 : Average Value Weighted Returns -- Annual (94 rows x 10 cols)\n",
      "  3 : Average Equal Weighted Returns -- Annual (94 rows x 10 cols)\n",
      "  4 : Number of Firms in Portfolios (1143 rows x 10 cols)\n",
      "  5 : Average Firm Size (1143 rows x 10 cols)\n",
      "  6 : Sum of BE / Sum of ME (96 rows x 10 cols)\n",
      "  7 : Value-Weighted Average of BE/ME (96 rows x 10 cols)\n"
     ]
    }
   ],
   "source": [
    "cmap = sns.color_palette()\n",
    "factor = pdr.get_data_famafrench('F-F_Research_Data_Factors', start='1-1-1926') # get risk free rate\n",
    "asset = pdr.get_data_famafrench('10_Industry_Portfolios', start='1-1-1926') # construct portfolio with 10 industry in us\n",
    "print(asset['DESCR'])"
   ]
  },
  {
   "cell_type": "markdown",
   "metadata": {},
   "source": []
  },
  {
   "cell_type": "code",
   "execution_count": 5,
   "metadata": {},
   "outputs": [],
   "source": [
    "# 只取我們需要的時間\n",
    "df_FF = factor[0].loc['2000':'2020']\n",
    "df_R = asset[0].loc['2000':'2020']\n",
    "df_ER = df_R.subtract(df_FF.RF,axis=0) # excessive return"
   ]
  },
  {
   "cell_type": "code",
   "execution_count": 7,
   "metadata": {},
   "outputs": [
    {
     "data": {
      "text/html": [
       "<div>\n",
       "<style scoped>\n",
       "    .dataframe tbody tr th:only-of-type {\n",
       "        vertical-align: middle;\n",
       "    }\n",
       "\n",
       "    .dataframe tbody tr th {\n",
       "        vertical-align: top;\n",
       "    }\n",
       "\n",
       "    .dataframe thead th {\n",
       "        text-align: right;\n",
       "    }\n",
       "</style>\n",
       "<table border=\"1\" class=\"dataframe\">\n",
       "  <thead>\n",
       "    <tr style=\"text-align: right;\">\n",
       "      <th></th>\n",
       "      <th>NoDur</th>\n",
       "      <th>Durbl</th>\n",
       "      <th>Manuf</th>\n",
       "      <th>Enrgy</th>\n",
       "      <th>HiTec</th>\n",
       "      <th>Telcm</th>\n",
       "      <th>Shops</th>\n",
       "      <th>Hlth</th>\n",
       "      <th>Utils</th>\n",
       "      <th>Other</th>\n",
       "    </tr>\n",
       "    <tr>\n",
       "      <th>Date</th>\n",
       "      <th></th>\n",
       "      <th></th>\n",
       "      <th></th>\n",
       "      <th></th>\n",
       "      <th></th>\n",
       "      <th></th>\n",
       "      <th></th>\n",
       "      <th></th>\n",
       "      <th></th>\n",
       "      <th></th>\n",
       "    </tr>\n",
       "  </thead>\n",
       "  <tbody>\n",
       "    <tr>\n",
       "      <th>2000-01</th>\n",
       "      <td>-4.78</td>\n",
       "      <td>-0.87</td>\n",
       "      <td>-8.67</td>\n",
       "      <td>0.91</td>\n",
       "      <td>-4.70</td>\n",
       "      <td>-3.98</td>\n",
       "      <td>-11.36</td>\n",
       "      <td>7.54</td>\n",
       "      <td>6.06</td>\n",
       "      <td>-4.69</td>\n",
       "    </tr>\n",
       "    <tr>\n",
       "      <th>2000-02</th>\n",
       "      <td>-6.19</td>\n",
       "      <td>-8.02</td>\n",
       "      <td>-3.94</td>\n",
       "      <td>-5.66</td>\n",
       "      <td>18.19</td>\n",
       "      <td>-3.47</td>\n",
       "      <td>-3.74</td>\n",
       "      <td>-2.92</td>\n",
       "      <td>-7.26</td>\n",
       "      <td>-7.12</td>\n",
       "    </tr>\n",
       "    <tr>\n",
       "      <th>2000-03</th>\n",
       "      <td>7.76</td>\n",
       "      <td>10.55</td>\n",
       "      <td>7.48</td>\n",
       "      <td>12.09</td>\n",
       "      <td>3.94</td>\n",
       "      <td>7.52</td>\n",
       "      <td>13.32</td>\n",
       "      <td>0.30</td>\n",
       "      <td>5.77</td>\n",
       "      <td>14.08</td>\n",
       "    </tr>\n",
       "    <tr>\n",
       "      <th>2000-04</th>\n",
       "      <td>-1.82</td>\n",
       "      <td>9.28</td>\n",
       "      <td>1.45</td>\n",
       "      <td>-1.92</td>\n",
       "      <td>-10.69</td>\n",
       "      <td>-7.87</td>\n",
       "      <td>-4.47</td>\n",
       "      <td>5.28</td>\n",
       "      <td>7.60</td>\n",
       "      <td>-3.12</td>\n",
       "    </tr>\n",
       "    <tr>\n",
       "      <th>2000-05</th>\n",
       "      <td>7.22</td>\n",
       "      <td>-13.24</td>\n",
       "      <td>-1.66</td>\n",
       "      <td>9.54</td>\n",
       "      <td>-10.84</td>\n",
       "      <td>-10.43</td>\n",
       "      <td>-2.77</td>\n",
       "      <td>3.95</td>\n",
       "      <td>3.90</td>\n",
       "      <td>3.40</td>\n",
       "    </tr>\n",
       "  </tbody>\n",
       "</table>\n",
       "</div>"
      ],
      "text/plain": [
       "         NoDur  Durbl  Manuf  Enrgy  HiTec  Telcm  Shops  Hlth   Utils  Other\n",
       "Date                                                                         \n",
       "2000-01  -4.78  -0.87  -8.67   0.91  -4.70  -3.98 -11.36   7.54   6.06  -4.69\n",
       "2000-02  -6.19  -8.02  -3.94  -5.66  18.19  -3.47  -3.74  -2.92  -7.26  -7.12\n",
       "2000-03   7.76  10.55   7.48  12.09   3.94   7.52  13.32   0.30   5.77  14.08\n",
       "2000-04  -1.82   9.28   1.45  -1.92 -10.69  -7.87  -4.47   5.28   7.60  -3.12\n",
       "2000-05   7.22 -13.24  -1.66   9.54 -10.84 -10.43  -2.77   3.95   3.90   3.40"
      ]
     },
     "execution_count": 7,
     "metadata": {},
     "output_type": "execute_result"
    }
   ],
   "source": [
    "df_ER.head()"
   ]
  },
  {
   "cell_type": "code",
   "execution_count": null,
   "metadata": {},
   "outputs": [],
   "source": []
  },
  {
   "cell_type": "code",
   "execution_count": 8,
   "metadata": {},
   "outputs": [],
   "source": [
    "\n",
    "S = df_R.cov() # sample variance-covariance matrix\n",
    "R = df_R.mean(axis=0) # sample average return\n",
    "ER = df_ER.mean(axis=0) # sample average EXCESS RETURN\n",
    "N = len(ER) # number of assets (10 industry)\n",
    "\n",
    "# create the GMVP and MSRP in matrix form\n",
    "ONE = np.ones(len(ER))\n",
    "GMVP = (inv(S) @ ONE) / (ONE.T @ inv(S) @ ONE)\n",
    "MSRP = (inv(S) @ ER) / (ONE.T @ inv(S) @ ER)\n"
   ]
  },
  {
   "cell_type": "code",
   "execution_count": 9,
   "metadata": {},
   "outputs": [
    {
     "data": {
      "image/png": "[encoded data removed]",
      "text/plain": [
       "<Figure size 576x396 with 1 Axes>"
      ]
     },
     "metadata": {},
     "output_type": "display_data"
    }
   ],
   "source": [
    "plt.style.use('seaborn')\n",
    "ind = np.arange(N)\n",
    "plt.bar(ind, GMVP, width=0.25, alpha=0.5, color=cmap[0])\n",
    "plt.bar(ind + 0.25, MSRP, width=0.25, alpha=0.5, color=cmap[1])\n",
    "plt.xticks(ind + 0.25 / 2, ER.index)\n",
    "plt.legend(['GMVP','MSRP'])\n",
    "plt.title('Analytical GMVP and MSRP')\n",
    "plt.show()"
   ]
  },
  {
   "cell_type": "markdown",
   "metadata": {},
   "source": [
    "What does the above pic shows?   \n",
    "- Big short selling position in Telcm and Other (really extreme allocation), you may have short selling trading restriction\n",
    "- Sum of weight is NOT 1 (suggest you have large margin trading on LONG)  \n",
    "- Compare MSRP and GMVP，GMVP provides more conservatve allocation (check notes)  \n",
    "JUST by looking the portfolio, we dont need to backtest and we know this allocation is bad. "
   ]
  },
  {
   "cell_type": "markdown",
   "metadata": {},
   "source": []
  },
  {
   "cell_type": "code",
   "execution_count": 11,
   "metadata": {},
   "outputs": [],
   "source": [
    "def pvar(w, S):\n",
    "    return (w.T @ S @ w)\n",
    "def pret(w, ER):\n",
    "    return (w.T @ ER)\n",
    "def sharpe(w, ER, S): \n",
    "    return -(w.T @ ER)/np.sqrt(w.T @ S @ w) \n",
    "    # 要改成負號 -> for computer (因為電腦做的都是 minimize，但我們的目標是 maxmize sharpe ratio)"
   ]
  },
  {
   "cell_type": "code",
   "execution_count": 15,
   "metadata": {},
   "outputs": [
    {
     "name": "stdout",
     "output_type": "stream",
     "text": [
      "Optimization terminated successfully    (Exit mode 0)\n",
      "            Current function value: 9.390318779923101\n",
      "            Iterations: 11\n",
      "            Function evaluations: 135\n",
      "            Gradient evaluations: 11\n"
     ]
    },
    {
     "data": {
      "text/plain": [
       "     fun: 9.390318779923101\n",
       "     jac: array([18.78063774, 18.78063762, 18.78063762, 18.78063762, 18.78063762,\n",
       "       18.78063762, 18.7806375 , 18.78063762, 18.78063762, 18.78063762])\n",
       " message: 'Optimization terminated successfully'\n",
       "    nfev: 135\n",
       "     nit: 11\n",
       "    njev: 11\n",
       "  status: 0\n",
       " success: True\n",
       "       x: array([ 4.13749772e-01, -1.20916713e-01,  7.84584593e-05, -5.99124443e-02,\n",
       "        1.70376320e-02,  2.34342157e-02,  3.03490762e-01,  2.61001553e-01,\n",
       "        3.08067001e-01, -1.46030237e-01])"
      ]
     },
     "execution_count": 15,
     "metadata": {},
     "output_type": "execute_result"
    }
   ],
   "source": [
    "x0 = np.ones(N)/N # w_i = 0.1 (equal-weighted )\n",
    "cons = ({'type': 'eq', 'fun' : lambda x: np.sum(x) - 1}), # w_1 + ... + w_i = 1 weight 家總要是 1 \n",
    "NGMVP = minimize(pvar, x0, method='SLSQP', args=S, constraints=cons,\n",
    "options={'disp': True, 'ftol': 1e-9}) # method: check the sciypy reference page\n",
    "NGMVP"
   ]
  },
  {
   "cell_type": "code",
   "execution_count": 16,
   "metadata": {},
   "outputs": [
    {
     "data": {
      "image/png": "[encoded data removed]",
      "text/plain": [
       "<Figure size 576x396 with 1 Axes>"
      ]
     },
     "metadata": {},
     "output_type": "display_data"
    }
   ],
   "source": [
    "ind = np.arange(N)\n",
    "plt.bar(ind, GMVP, width=0.25, alpha=0.5, color=cmap[0])\n",
    "plt.bar(ind + 0.25, NGMVP.x, width=0.25, alpha=0.5, color='blue')\n",
    "plt.xticks(ind + 0.25 / 2, ER.index)\n",
    "plt.legend(['GMVP','Numerical GMVP'])\n",
    "plt.title('Analytical GMVP versus Numerical GMVP')\n",
    "plt.show()"
   ]
  },
  {
   "cell_type": "code",
   "execution_count": 18,
   "metadata": {},
   "outputs": [],
   "source": [
    "# they look idential -> becasue the constraints are the same\n",
    "# we just do a check to ensure we are asking the right question"
   ]
  },
  {
   "cell_type": "code",
   "execution_count": 19,
   "metadata": {},
   "outputs": [
    {
     "ename": "NameError",
     "evalue": "name 'NMSRP' is not defined",
     "output_type": "error",
     "traceback": [
      "\u001b[1;31m---------------------------------------------------------------------------\u001b[0m",
      "\u001b[1;31mNameError\u001b[0m                                 Traceback (most recent call last)",
      "\u001b[1;32m~\\AppData\\Local\\Temp/ipykernel_14840/1042993856.py\u001b[0m in \u001b[0;36m<module>\u001b[1;34m\u001b[0m\n\u001b[0;32m      1\u001b[0m \u001b[0mind\u001b[0m \u001b[1;33m=\u001b[0m \u001b[0mnp\u001b[0m\u001b[1;33m.\u001b[0m\u001b[0marange\u001b[0m\u001b[1;33m(\u001b[0m\u001b[0mN\u001b[0m\u001b[1;33m)\u001b[0m\u001b[1;33m\u001b[0m\u001b[1;33m\u001b[0m\u001b[0m\n\u001b[0;32m      2\u001b[0m \u001b[0mplt\u001b[0m\u001b[1;33m.\u001b[0m\u001b[0mbar\u001b[0m\u001b[1;33m(\u001b[0m\u001b[0mind\u001b[0m\u001b[1;33m,\u001b[0m \u001b[0mMSRP\u001b[0m\u001b[1;33m,\u001b[0m \u001b[0mwidth\u001b[0m\u001b[1;33m=\u001b[0m\u001b[1;36m0.25\u001b[0m\u001b[1;33m,\u001b[0m \u001b[0malpha\u001b[0m\u001b[1;33m=\u001b[0m\u001b[1;36m0.5\u001b[0m\u001b[1;33m,\u001b[0m \u001b[0mcolor\u001b[0m\u001b[1;33m=\u001b[0m\u001b[0mcmap\u001b[0m\u001b[1;33m[\u001b[0m\u001b[1;36m1\u001b[0m\u001b[1;33m]\u001b[0m\u001b[1;33m)\u001b[0m\u001b[1;33m\u001b[0m\u001b[1;33m\u001b[0m\u001b[0m\n\u001b[1;32m----> 3\u001b[1;33m \u001b[0mplt\u001b[0m\u001b[1;33m.\u001b[0m\u001b[0mbar\u001b[0m\u001b[1;33m(\u001b[0m\u001b[0mind\u001b[0m \u001b[1;33m+\u001b[0m \u001b[1;36m0.25\u001b[0m\u001b[1;33m,\u001b[0m \u001b[0mNMSRP\u001b[0m\u001b[1;33m.\u001b[0m\u001b[0mx\u001b[0m\u001b[1;33m,\u001b[0m \u001b[0mwidth\u001b[0m\u001b[1;33m=\u001b[0m\u001b[1;36m0.25\u001b[0m\u001b[1;33m,\u001b[0m \u001b[0malpha\u001b[0m\u001b[1;33m=\u001b[0m\u001b[1;36m0.5\u001b[0m\u001b[1;33m,\u001b[0m \u001b[0mcolor\u001b[0m\u001b[1;33m=\u001b[0m\u001b[1;34m'orange'\u001b[0m\u001b[1;33m)\u001b[0m\u001b[1;33m\u001b[0m\u001b[1;33m\u001b[0m\u001b[0m\n\u001b[0m\u001b[0;32m      4\u001b[0m \u001b[0mplt\u001b[0m\u001b[1;33m.\u001b[0m\u001b[0mxticks\u001b[0m\u001b[1;33m(\u001b[0m\u001b[0mind\u001b[0m \u001b[1;33m+\u001b[0m \u001b[1;36m0.25\u001b[0m \u001b[1;33m/\u001b[0m \u001b[1;36m2\u001b[0m\u001b[1;33m,\u001b[0m \u001b[0mER\u001b[0m\u001b[1;33m.\u001b[0m\u001b[0mindex\u001b[0m\u001b[1;33m)\u001b[0m\u001b[1;33m\u001b[0m\u001b[1;33m\u001b[0m\u001b[0m\n\u001b[0;32m      5\u001b[0m \u001b[0mplt\u001b[0m\u001b[1;33m.\u001b[0m\u001b[0mlegend\u001b[0m\u001b[1;33m(\u001b[0m\u001b[1;33m[\u001b[0m\u001b[1;34m'MSRP'\u001b[0m\u001b[1;33m,\u001b[0m\u001b[1;34m'Numerical MSRP'\u001b[0m\u001b[1;33m]\u001b[0m\u001b[1;33m)\u001b[0m\u001b[1;33m\u001b[0m\u001b[1;33m\u001b[0m\u001b[0m\n",
      "\u001b[1;31mNameError\u001b[0m: name 'NMSRP' is not defined"
     ]
    },
    {
     "data": {
      "image/png": "[encoded data removed]",
      "text/plain": [
       "<Figure size 576x396 with 1 Axes>"
      ]
     },
     "metadata": {},
     "output_type": "display_data"
    }
   ],
   "source": [
    "ind = np.arange(N)\n",
    "plt.bar(ind, MSRP, width=0.25, alpha=0.5, color=cmap[1])\n",
    "plt.bar(ind + 0.25, NMSRP.x, width=0.25, alpha=0.5, color='orange')\n",
    "plt.xticks(ind + 0.25 / 2, ER.index)\n",
    "plt.legend(['MSRP','Numerical MSRP'])\n",
    "plt.title('Analytical MSRP versus Numerical MSRP')\n",
    "plt.show()\n"
   ]
  },
  {
   "cell_type": "code",
   "execution_count": null,
   "metadata": {},
   "outputs": [],
   "source": []
  },
  {
   "cell_type": "code",
   "execution_count": 21,
   "metadata": {},
   "outputs": [
    {
     "name": "stdout",
     "output_type": "stream",
     "text": [
      "Optimization terminated successfully    (Exit mode 0)\n",
      "            Current function value: 10.677670244601314\n",
      "            Iterations: 8\n",
      "            Function evaluations: 91\n",
      "            Gradient evaluations: 8\n"
     ]
    },
    {
     "data": {
      "text/plain": [
       "     fun: 10.677670244601314\n",
       "     jac: array([21.35534096, 33.41619253, 25.80424976, 28.39166653, 23.65987611,\n",
       "       22.79438603, 21.35534108, 21.35534024, 21.35534048, 26.61532676])\n",
       " message: 'Optimization terminated successfully'\n",
       "    nfev: 91\n",
       "     nit: 8\n",
       "    njev: 8\n",
       "  status: 0\n",
       " success: True\n",
       "       x: array([3.75368010e-01, 4.35581179e-13, 7.42927243e-14, 1.80881519e-13,\n",
       "       0.00000000e+00, 0.00000000e+00, 8.67982792e-02, 2.46870691e-01,\n",
       "       2.90963020e-01, 1.16764618e-13])"
      ]
     },
     "execution_count": 21,
     "metadata": {},
     "output_type": "execute_result"
    }
   ],
   "source": [
    "from scipy.optimize import Bounds\n",
    "bounds = Bounds(0, 1) # no margin tardig and short selling\n",
    "x0 = GMVP\n",
    "cons = ({'type': 'eq', 'fun' : lambda x: np.sum(x) - 1})\n",
    "\n",
    "# bounds = bound is the only difference \n",
    "NGMVPnoSS = minimize(pvar, x0, method='SLSQP', constraints=cons, args=S,\n",
    "options={'disp': True, 'ftol': 1e-9}, bounds=bounds)\n",
    "NGMVPnoSS\n"
   ]
  },
  {
   "cell_type": "code",
   "execution_count": 22,
   "metadata": {},
   "outputs": [
    {
     "data": {
      "image/png": "[encoded data removed]",
      "text/plain": [
       "<Figure size 576x396 with 1 Axes>"
      ]
     },
     "metadata": {},
     "output_type": "display_data"
    }
   ],
   "source": [
    "ind = np.arange(N)\n",
    "plt.bar(ind, GMVP, width=0.25, alpha=0.5, color=cmap[0])\n",
    "plt.bar(ind + 0.25, NGMVPnoSS.x, width=0.25, alpha=0.5, color='darkblue')\n",
    "plt.xticks(ind + 0.25 / 2, ER.index)\n",
    "plt.legend(['GMVP','Numerical GMVP with short selling constraint'])\n",
    "plt.title('Analytical GMVP versus Numerical GMVP with short selling constraint')\n",
    "plt.show()\n",
    "\n",
    "# note that there's no short selling anymore"
   ]
  },
  {
   "cell_type": "markdown",
   "metadata": {},
   "source": []
  },
  {
   "cell_type": "code",
   "execution_count": null,
   "metadata": {},
   "outputs": [],
   "source": []
  },
  {
   "cell_type": "code",
   "execution_count": 23,
   "metadata": {},
   "outputs": [
    {
     "name": "stdout",
     "output_type": "stream",
     "text": [
      "Optimization terminated successfully    (Exit mode 0)\n",
      "            Current function value: -0.21830140101314743\n",
      "            Iterations: 15\n",
      "            Function evaluations: 165\n",
      "            Gradient evaluations: 15\n"
     ]
    },
    {
     "data": {
      "text/plain": [
       "     fun: -0.21830140101314743\n",
       "     jac: array([-2.45869160e-06,  7.86497220e-02,  4.41473275e-02,  1.43232193e-01,\n",
       "        5.68958651e-02,  1.58268830e-01, -1.41561031e-07, -8.06525350e-07,\n",
       "        3.87616456e-06,  1.17732631e-01])\n",
       " message: 'Optimization terminated successfully'\n",
       "    nfev: 165\n",
       "     nit: 15\n",
       "    njev: 15\n",
       "  status: 0\n",
       " success: True\n",
       "       x: array([3.83522884e-01, 0.00000000e+00, 7.83945933e-17, 1.82145965e-17,\n",
       "       0.00000000e+00, 1.14959312e-17, 1.51734337e-01, 1.78931853e-01,\n",
       "       2.85810927e-01, 6.26804381e-18])"
      ]
     },
     "execution_count": 23,
     "metadata": {},
     "output_type": "execute_result"
    }
   ],
   "source": [
    "from scipy.optimize import Bounds\n",
    "bounds = Bounds(0, 1)\n",
    "x0 = MSRP\n",
    "cons = ({'type': 'eq', 'fun' : lambda x: np.sum(x) - 1})\n",
    "NMSRPnoSS = minimize(sharpe, x0, method='SLSQP', constraints=cons, args=(ER, S),\n",
    "options={'disp': True, 'ftol': 1e-9}, bounds=bounds)\n",
    "NMSRPnoSS"
   ]
  },
  {
   "cell_type": "code",
   "execution_count": 24,
   "metadata": {},
   "outputs": [
    {
     "data": {
      "image/png": "[encoded data removed]",
      "text/plain": [
       "<Figure size 576x396 with 1 Axes>"
      ]
     },
     "metadata": {},
     "output_type": "display_data"
    }
   ],
   "source": [
    "ind = np.arange(N)\n",
    "plt.bar(ind, MSRP, width=0.25, alpha=0.5, color=cmap[1])\n",
    "plt.bar(ind + 0.25, NMSRPnoSS.x, width=0.25, alpha=0.5, color='orangered')\n",
    "plt.xticks(ind + 0.25 / 2, ER.index)\n",
    "plt.legend(['MSRP','Numerical MSRP with short selling constraint'])\n",
    "plt.title('Analytical MSRP versus Numerical MSRP with short selling constraint')\n",
    "plt.show()\n",
    "\n",
    "# again, there's no short selling anymore\n",
    "# if no short sell, G and M provide similar result\n"
   ]
  },
  {
   "cell_type": "code",
   "execution_count": 25,
   "metadata": {},
   "outputs": [
    {
     "ename": "IndentationError",
     "evalue": "expected an indented block (Temp/ipykernel_14840/2578767137.py, line 13)",
     "output_type": "error",
     "traceback": [
      "\u001b[1;36m  File \u001b[1;32m\"C:\\Users\\User\\AppData\\Local\\Temp/ipykernel_14840/2578767137.py\"\u001b[1;36m, line \u001b[1;32m13\u001b[0m\n\u001b[1;33m    MVFR.append(u*GMVPR + (1-u)*MSRPR)\u001b[0m\n\u001b[1;37m    ^\u001b[0m\n\u001b[1;31mIndentationError\u001b[0m\u001b[1;31m:\u001b[0m expected an indented block\n"
     ]
    }
   ],
   "source": [
    " GMVPR = pret(GMVP, R)\n",
    "GMVPSD = np.sqrt(pvar(GMVP, S))\n",
    "MSRPR = pret(MSRP, R)\n",
    "MSRPSD = np.sqrt(pvar(MSRP, S))\n",
    "NGMVPnoSSR = pret(NGMVPnoSS.x, R)\n",
    "NGMVPnoSSSD = np.sqrt(pvar(NGMVPnoSS.x, S))\n",
    "NMSRPnoSSR = pret(NMSRPnoSS.x, R)\n",
    "NMSRPnoSSSD = np.sqrt(pvar(NMSRPnoSS.x, S))\n",
    "W = np.linspace(-4, 4, 100, endpoint=True)\n",
    "MVFR = []\n",
    "MVFSD = []\n",
    "for u in W:\n",
    "MVFR.append(u*GMVPR + (1-u)*MSRPR)\n",
    "MVFSD.append(np.sqrt(u**2 * GMVPSD**2 + (1-u)**2 * MSRPSD**2 + 2*u*(1-u)*np.\n",
    ",→dot(GMVP, np.dot(S, MSRP))))\n",
    "\n",
    "NRand = 500\n",
    "WRand = pd.DataFrame(np.random.uniform(0, 1, size=(NRand, N)))\n",
    "WRand = WRand.divide(WRand.sum(axis=1), axis=0).to_numpy()\n",
    "RandR = []\n",
    "RandSD = []\n",
    "for i in range(NRand):\n",
    "RandR.append(pret(WRand[i], R))\n",
    "RandSD.append(np.sqrt(pvar(WRand[i], S)))\n",
    "MVFnoSSR = []\n",
    "MVFnoSSSD = []\n",
    "TR = np.linspace(0, 1.75, 100, endpoint=True)\n",
    "for r in TR:\n",
    "x0 = np.arange(N)/N\n",
    "cons = ({'type': 'eq', 'fun' : lambda x: np.sum(x) - 1},\n",
    "{'type': 'eq', 'fun' : lambda x: pret(x, R) - r})\n",
    "TMP = minimize(pvar, x0, method='SLSQP', constraints=cons, args=S,\n",
    "options={'disp': False, 'ftol': 1e-9}, bounds=bounds)\n",
    "MVFnoSSR.append(pret(TMP.x, R))\n",
    "MVFnoSSSD.append(np.sqrt(pvar(TMP.x, S)))\n",
    "\n",
    "\n",
    "\n",
    "plt.plot(MVFSD, MVFR, color='orangered', linewidth=2.5, alpha=0.25)\n",
    "plt.plot(MVFnoSSSD, MVFnoSSR, color='purple', linewidth=2.5, alpha=0.25)\n",
    "plt.scatter(x=MSRPSD, y=MSRPR, c='red', marker='D', s=50, alpha=1)\n",
    "plt.scatter(x=GMVPSD, y=GMVPR, c='orange', marker='D', s=50, alpha=1)\n",
    "plt.scatter(x=NGMVPnoSSSD, y=NGMVPnoSSR, c='blue', marker='x', s=50, alpha=0.5)\n",
    "plt.scatter(x=NMSRPnoSSSD, y=NMSRPnoSSR, c='green', marker='o', s=50, alpha=0.5)\n",
    "plt.scatter(x=RandSD, y=RandR, c='gray', marker=',', s=10, alpha=0.25)\n",
    "plt.xlim([0, 5])\n",
    "plt.ylim([0, 2])\n",
    "plt.legend(['MVF','MVFnoSS','MSRP','GMVP','NGMVPnoSS','NMSRPnoSS','Rand'])\n",
    "plt.title('Analytical MVF versus Numerical MVF with short selling constraint')\n",
    "plt.show()\n"
   ]
  },
  {
   "cell_type": "code",
   "execution_count": 26,
   "metadata": {},
   "outputs": [],
   "source": [
    "# define the objective function\n",
    "# inplment contraints (bound, ...)\n",
    "# do backtesting"
   ]
  },
  {
   "cell_type": "code",
   "execution_count": 27,
   "metadata": {},
   "outputs": [],
   "source": [
    "# pdf NO2"
   ]
  },
  {
   "cell_type": "code",
   "execution_count": 28,
   "metadata": {},
   "outputs": [],
   "source": [
    "import numpy as np\n",
    "import pandas as pd\n",
    "import pandas_datareader as pdr\n",
    "from numpy.linalg import inv\n",
    "import matplotlib.pyplot as plt\n",
    "from scipy.optimize import minimize\n",
    "import seaborn as sns\n",
    "cmap = sns.color_palette()\n",
    "factor = pdr.get_data_famafrench('F-F_Research_Data_Factors', start='1-1-1926')\n",
    "asset = pdr.get_data_famafrench('10_Industry_Portfolios', start='1-1-1926')\n",
    "start_year = '1980'\n",
    "end_year = '2021'\n",
    "df_FF = factor[0].loc[start_year:end_year]\n",
    "df_R = asset[0].loc[start_year:end_year]\n",
    "df_ER = df_R.subtract(df_FF.RF,axis=0).shift(1) \n",
    "# lag the data one month (bc we are doing backtesting, cant look infront)"
   ]
  },
  {
   "cell_type": "code",
   "execution_count": 29,
   "metadata": {},
   "outputs": [
    {
     "data": {
      "text/html": [
       "<div>\n",
       "<style scoped>\n",
       "    .dataframe tbody tr th:only-of-type {\n",
       "        vertical-align: middle;\n",
       "    }\n",
       "\n",
       "    .dataframe tbody tr th {\n",
       "        vertical-align: top;\n",
       "    }\n",
       "\n",
       "    .dataframe thead th {\n",
       "        text-align: right;\n",
       "    }\n",
       "</style>\n",
       "<table border=\"1\" class=\"dataframe\">\n",
       "  <thead>\n",
       "    <tr style=\"text-align: right;\">\n",
       "      <th></th>\n",
       "      <th>NoDur</th>\n",
       "      <th>Durbl</th>\n",
       "      <th>Manuf</th>\n",
       "      <th>Enrgy</th>\n",
       "      <th>HiTec</th>\n",
       "      <th>Telcm</th>\n",
       "      <th>Shops</th>\n",
       "      <th>Hlth</th>\n",
       "      <th>Utils</th>\n",
       "      <th>Other</th>\n",
       "    </tr>\n",
       "    <tr>\n",
       "      <th>Date</th>\n",
       "      <th></th>\n",
       "      <th></th>\n",
       "      <th></th>\n",
       "      <th></th>\n",
       "      <th></th>\n",
       "      <th></th>\n",
       "      <th></th>\n",
       "      <th></th>\n",
       "      <th></th>\n",
       "      <th></th>\n",
       "    </tr>\n",
       "  </thead>\n",
       "  <tbody>\n",
       "    <tr>\n",
       "      <th>1980-01</th>\n",
       "      <td>NaN</td>\n",
       "      <td>NaN</td>\n",
       "      <td>NaN</td>\n",
       "      <td>NaN</td>\n",
       "      <td>NaN</td>\n",
       "      <td>NaN</td>\n",
       "      <td>NaN</td>\n",
       "      <td>NaN</td>\n",
       "      <td>NaN</td>\n",
       "      <td>NaN</td>\n",
       "    </tr>\n",
       "    <tr>\n",
       "      <th>1980-02</th>\n",
       "      <td>2.32</td>\n",
       "      <td>8.26</td>\n",
       "      <td>6.26</td>\n",
       "      <td>13.35</td>\n",
       "      <td>6.57</td>\n",
       "      <td>-2.85</td>\n",
       "      <td>0.57</td>\n",
       "      <td>-2.09</td>\n",
       "      <td>0.80</td>\n",
       "      <td>4.71</td>\n",
       "    </tr>\n",
       "    <tr>\n",
       "      <th>1980-03</th>\n",
       "      <td>-5.69</td>\n",
       "      <td>-7.20</td>\n",
       "      <td>-3.41</td>\n",
       "      <td>11.69</td>\n",
       "      <td>-4.44</td>\n",
       "      <td>-2.37</td>\n",
       "      <td>-5.70</td>\n",
       "      <td>-5.52</td>\n",
       "      <td>-4.25</td>\n",
       "      <td>-4.22</td>\n",
       "    </tr>\n",
       "    <tr>\n",
       "      <th>1980-04</th>\n",
       "      <td>-9.37</td>\n",
       "      <td>-9.95</td>\n",
       "      <td>-12.94</td>\n",
       "      <td>-19.00</td>\n",
       "      <td>-13.87</td>\n",
       "      <td>-3.85</td>\n",
       "      <td>-9.91</td>\n",
       "      <td>-4.05</td>\n",
       "      <td>-7.88</td>\n",
       "      <td>-13.48</td>\n",
       "    </tr>\n",
       "    <tr>\n",
       "      <th>1980-05</th>\n",
       "      <td>5.26</td>\n",
       "      <td>-3.17</td>\n",
       "      <td>1.94</td>\n",
       "      <td>5.59</td>\n",
       "      <td>-0.54</td>\n",
       "      <td>6.04</td>\n",
       "      <td>2.03</td>\n",
       "      <td>3.02</td>\n",
       "      <td>10.70</td>\n",
       "      <td>4.82</td>\n",
       "    </tr>\n",
       "  </tbody>\n",
       "</table>\n",
       "</div>"
      ],
      "text/plain": [
       "         NoDur  Durbl  Manuf  Enrgy  HiTec  Telcm  Shops  Hlth   Utils  Other\n",
       "Date                                                                         \n",
       "1980-01    NaN    NaN    NaN    NaN    NaN    NaN    NaN    NaN    NaN    NaN\n",
       "1980-02   2.32   8.26   6.26  13.35   6.57  -2.85   0.57  -2.09   0.80   4.71\n",
       "1980-03  -5.69  -7.20  -3.41  11.69  -4.44  -2.37  -5.70  -5.52  -4.25  -4.22\n",
       "1980-04  -9.37  -9.95 -12.94 -19.00 -13.87  -3.85  -9.91  -4.05  -7.88 -13.48\n",
       "1980-05   5.26  -3.17   1.94   5.59  -0.54   6.04   2.03   3.02  10.70   4.82"
      ]
     },
     "execution_count": 29,
     "metadata": {},
     "output_type": "execute_result"
    }
   ],
   "source": [
    "df_ER.head()"
   ]
  },
  {
   "cell_type": "code",
   "execution_count": 30,
   "metadata": {},
   "outputs": [],
   "source": [
    "def gmvp(S):\n",
    "    ONE = np.ones(len(S))\n",
    "    return (inv(S) @ ONE) / (ONE.T @ inv(S) @ ONE)\n",
    "def msrp(ER, S):\n",
    "    ONE = np.ones(len(S))\n",
    "    return (inv(S) @ ER) / (ONE.T @ inv(S) @ ER)\n",
    "def pret(w, R):\n",
    "    return (w @ R)\n"
   ]
  },
  {
   "cell_type": "code",
   "execution_count": 37,
   "metadata": {},
   "outputs": [
    {
     "ename": "ModuleNotFoundError",
     "evalue": "No module named 'tqdm'",
     "output_type": "error",
     "traceback": [
      "\u001b[1;31m---------------------------------------------------------------------------\u001b[0m",
      "\u001b[1;31mModuleNotFoundError\u001b[0m                       Traceback (most recent call last)",
      "\u001b[1;32m~\\AppData\\Local\\Temp/ipykernel_14840/2296396757.py\u001b[0m in \u001b[0;36m<module>\u001b[1;34m\u001b[0m\n\u001b[0;32m      1\u001b[0m \u001b[1;32mimport\u001b[0m \u001b[0mtime\u001b[0m\u001b[1;33m\u001b[0m\u001b[1;33m\u001b[0m\u001b[0m\n\u001b[0;32m      2\u001b[0m \u001b[0mstart_time\u001b[0m \u001b[1;33m=\u001b[0m \u001b[0mtime\u001b[0m\u001b[1;33m.\u001b[0m\u001b[0mtime\u001b[0m\u001b[1;33m(\u001b[0m\u001b[1;33m)\u001b[0m\u001b[1;33m\u001b[0m\u001b[1;33m\u001b[0m\u001b[0m\n\u001b[1;32m----> 3\u001b[1;33m \u001b[1;32mfrom\u001b[0m \u001b[0mtqdm\u001b[0m \u001b[1;32mimport\u001b[0m \u001b[0mtqdm\u001b[0m\u001b[1;33m\u001b[0m\u001b[1;33m\u001b[0m\u001b[0m\n\u001b[0m\u001b[0;32m      4\u001b[0m \u001b[1;33m\u001b[0m\u001b[0m\n\u001b[0;32m      5\u001b[0m \u001b[0mWSize\u001b[0m \u001b[1;33m=\u001b[0m \u001b[1;36m60\u001b[0m \u001b[1;31m# backtest 微度: 5 years\u001b[0m\u001b[1;33m\u001b[0m\u001b[1;33m\u001b[0m\u001b[0m\n",
      "\u001b[1;31mModuleNotFoundError\u001b[0m: No module named 'tqdm'"
     ]
    }
   ],
   "source": [
    "import time\n",
    "start_time = time.time()\n",
    "from tqdm import tqdm\n",
    "\n",
    "WSize = 60 # backtest 微度: 5 years\n",
    "AvgER_rolling = df_ER.rolling(WSize).mean() # rolling histroical averages\n",
    "CovER_rolling = df_ER.rolling(WSize).cov() # rolling histroical variacne covariance matrix          \n",
    "Backtest_R = pd.DataFrame(index=df_R.index,columns=['GMVP','MSRP','EW'])\n",
    "for d in tqdm(df_ER.index):\n",
    "    ER = AvgER_rolling.loc[d]\n",
    "    S = CovER_rolling.loc[d]\n",
    "    R = df_R.loc[d]\n",
    "    Backtest_R.loc[d,'GMVP'] = pret(gmvp(S), R)\n",
    "    Backtest_R.loc[d,'MSRP'] = pret(msrp(ER, S), R)\n",
    "    Backtest_R.loc[:,'EW'] = df_R.mean(axis=1)\n",
    "    Backtest_R = Backtest_R.loc[(df_R.index[0] + WSize):] # remove first 5 years without gmvp and msrp   \n",
    "\n",
    "print(\"---%s seconds ---\"% (time.time() - start_time))\n",
    "\n",
    "\n",
    "# USE parrel programming to do the HW part"
   ]
  },
  {
   "cell_type": "code",
   "execution_count": 34,
   "metadata": {},
   "outputs": [
    {
     "data": {
      "text/html": [
       "<div>\n",
       "<style scoped>\n",
       "    .dataframe tbody tr th:only-of-type {\n",
       "        vertical-align: middle;\n",
       "    }\n",
       "\n",
       "    .dataframe tbody tr th {\n",
       "        vertical-align: top;\n",
       "    }\n",
       "\n",
       "    .dataframe thead th {\n",
       "        text-align: right;\n",
       "    }\n",
       "</style>\n",
       "<table border=\"1\" class=\"dataframe\">\n",
       "  <thead>\n",
       "    <tr style=\"text-align: right;\">\n",
       "      <th></th>\n",
       "      <th>GMVP</th>\n",
       "      <th>MSRP</th>\n",
       "      <th>EW</th>\n",
       "    </tr>\n",
       "    <tr>\n",
       "      <th>Date</th>\n",
       "      <th></th>\n",
       "      <th></th>\n",
       "      <th></th>\n",
       "    </tr>\n",
       "  </thead>\n",
       "  <tbody>\n",
       "    <tr>\n",
       "      <th>1985-01</th>\n",
       "      <td>0.689861</td>\n",
       "      <td>2.192756</td>\n",
       "      <td>8.121</td>\n",
       "    </tr>\n",
       "    <tr>\n",
       "      <th>1985-02</th>\n",
       "      <td>3.857239</td>\n",
       "      <td>3.875767</td>\n",
       "      <td>1.994</td>\n",
       "    </tr>\n",
       "    <tr>\n",
       "      <th>1985-03</th>\n",
       "      <td>7.552019</td>\n",
       "      <td>10.488243</td>\n",
       "      <td>0.507</td>\n",
       "    </tr>\n",
       "    <tr>\n",
       "      <th>1985-04</th>\n",
       "      <td>-2.159273</td>\n",
       "      <td>-1.184764</td>\n",
       "      <td>-0.599</td>\n",
       "    </tr>\n",
       "    <tr>\n",
       "      <th>1985-05</th>\n",
       "      <td>6.808913</td>\n",
       "      <td>6.777654</td>\n",
       "      <td>6.281</td>\n",
       "    </tr>\n",
       "  </tbody>\n",
       "</table>\n",
       "</div>"
      ],
      "text/plain": [
       "             GMVP       MSRP     EW\n",
       "Date                               \n",
       "1985-01  0.689861   2.192756  8.121\n",
       "1985-02  3.857239   3.875767  1.994\n",
       "1985-03  7.552019  10.488243  0.507\n",
       "1985-04 -2.159273  -1.184764 -0.599\n",
       "1985-05  6.808913   6.777654  6.281"
      ]
     },
     "execution_count": 34,
     "metadata": {},
     "output_type": "execute_result"
    }
   ],
   "source": [
    "Backtest_R.head()"
   ]
  },
  {
   "cell_type": "code",
   "execution_count": 39,
   "metadata": {},
   "outputs": [
    {
     "data": {
      "image/png": "[encoded data removed]",
      "text/plain": [
       "<Figure size 576x396 with 1 Axes>"
      ]
     },
     "metadata": {},
     "output_type": "display_data"
    }
   ],
   "source": [
    "plt.style.use('seaborn')\n",
    "CumRet = (1 + Backtest_R.divide(100)).cumprod()\n",
    "CumRet['GMVP'].plot(alpha=0.75, linestyle=\"--\")\n",
    "CumRet['MSRP'].plot(alpha=0.75, linestyle=\"-.\")\n",
    "CumRet['EW'].plot(alpha=0.75, linestyle=\":\")\n",
    "plt.legend()\n",
    "plt.title('Backtesting of optimal portfolios')\n",
    "plt.show()\n",
    "\n",
    "# MSRP: extreme short saling and margin trading (NOT a good model to use)\n",
    "# EW > GMVP: recall the last lecture\n",
    "# Then why bother EM? In HW part, we actually can get result better than EW\n"
   ]
  },
  {
   "cell_type": "code",
   "execution_count": null,
   "metadata": {},
   "outputs": [],
   "source": []
  }
 ],
 "metadata": {
  "interpreter": {
   "hash": "8c2e27c92537dbc993fdeb86cbd3be2d376845eda7ee9fbaba49b9f3cd36e9e0"
  },
  "kernelspec": {
   "display_name": "Python 3.9.7 64-bit ('InvestnPortfolio': venv)",
   "name": "python3"
  },
  "language_info": {
   "codemirror_mode": {
    "name": "ipython",
    "version": 3
   },
   "file_extension": ".py",
   "mimetype": "text/x-python",
   "name": "python",
   "nbconvert_exporter": "python",
   "pygments_lexer": "ipython3",
   "version": "3.9.7"
  },
  "orig_nbformat": 4
 },
 "nbformat": 4,
 "nbformat_minor": 2
}
