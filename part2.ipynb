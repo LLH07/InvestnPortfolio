{
 "cells": [
  {
   "cell_type": "markdown",
   "metadata": {},
   "source": [
    "### Part 2: Modern Portfolio Theory *[15 points]*\n",
    "\n",
    "In Lecture 7, we learn how to conduct backtesting and solve for optimal portfolios numerically. Now, you have to compare the **out-of-sample performance** of **analytical optimal portfolios** and **numerical constrained portfolios**. Your code should do the following:\n",
    "\n",
    "1. Using **Fama-French 17 Industries Portfolios from 1980 until 2021**, conduct back-testing on the following strategies *[12.5 points]*:\n",
    "    * **MSRP (analytical)** *[2.5 points]*;\n",
    "    * **GMVP (analytical)** *[2.5 points]*; \n",
    "    * **MSRP no short-selling (numerical)** *[2.5 points]*; \n",
    "    * **GMVP no short-selling (numerical)** *[2.5 points]*; \n",
    "    * **Equal-weighted (EW) portfolio** *[2.5 points]*.\n",
    "2. Plot the **cumulative returns** of **all five strategies** *[2.5 points]*.\n",
    "\n",
    "#### Bonus *[15 points]*:\n",
    "1. **Apply shrinkage method** to estimate **expected returns** and **variance-covariance matrices** *[5 points]*.\n",
    "2. **Reduce computation time** through **parallel computing** *[10 points]*."
   ]
  },
  {
   "cell_type": "code",
   "execution_count": 1,
   "metadata": {},
   "outputs": [],
   "source": [
    "import numpy as np\n",
    "import pandas as pd\n",
    "import pandas_datareader as pdr\n",
    "from numpy.linalg import inv\n",
    "import matplotlib.pyplot as plt\n",
    "from scipy.optimize import minimize\n",
    "import seaborn as sns\n",
    "cmap = sns.color_palette() # plaette: 調色板"
   ]
  },
  {
   "cell_type": "code",
   "execution_count": 2,
   "metadata": {},
   "outputs": [],
   "source": [
    "factor = pdr.get_data_famafrench('F-F_Research_Data_Factors', start='1-1-1926')\n",
    "asset = pdr.get_data_famafrench('17_Industry_Portfolios', start='1-1-1926')\n",
    "start_year = '1980'\n",
    "end_year = '2021'"
   ]
  },
  {
   "cell_type": "code",
   "execution_count": 4,
   "metadata": {},
   "outputs": [
    {
     "data": {
      "text/plain": [
       "(1144, 17)"
      ]
     },
     "execution_count": 4,
     "metadata": {},
     "output_type": "execute_result"
    }
   ],
   "source": [
    "asset[0].shape # 17 industries"
   ]
  },
  {
   "cell_type": "code",
   "execution_count": 5,
   "metadata": {},
   "outputs": [],
   "source": [
    "# 取得月度 factor 資料 與 月度報酬資料\n",
    "df_FF = factor[0].loc[start_year:end_year]\n",
    "df_R = asset[0].loc[start_year:end_year] "
   ]
  },
  {
   "cell_type": "code",
   "execution_count": 6,
   "metadata": {},
   "outputs": [],
   "source": [
    "# ER = Excessive Return = Return - Risk free return\n",
    "df_ER = df_R.subtract(df_FF.RF,axis=0).shift(1) # lag one month"
   ]
  },
  {
   "cell_type": "code",
   "execution_count": 7,
   "metadata": {},
   "outputs": [],
   "source": [
    "#  analytical closed-form\n",
    "def gmvp(S):\n",
    "    ONE = np.ones(len(S))\n",
    "    return (inv(S) @ ONE) / (ONE.T @ inv(S) @ ONE)\n",
    "\n",
    "def msrp(ER, S):\n",
    "    ONE = np.ones(len(S))\n",
    "    return (inv(S) @ ER) / (ONE.T @ inv(S) @ ER)\n",
    "        \n",
    "def pret(w, R):\n",
    "    return (w @ R)"
   ]
  },
  {
   "cell_type": "markdown",
   "metadata": {},
   "source": [
    "### MSRP、GMVP、EW portfolios:"
   ]
  },
  {
   "cell_type": "code",
   "execution_count": 8,
   "metadata": {},
   "outputs": [],
   "source": [
    "WSize = 60 # 以 60 個月 rolling\n",
    "AvgER_rolling = df_ER.rolling(WSize).mean()\n",
    "CovER_rolling = df_ER.rolling(WSize).cov()\n",
    "\n",
    "Backtest_R = pd.DataFrame(index=df_R.index,columns=['GMVP','MSRP','EW'])\n",
    "\n",
    "for d in df_ER.index:\n",
    "    ER = AvgER_rolling.loc[d]\n",
    "    S = CovER_rolling.loc[d]\n",
    "    R = df_R.loc[d]\n",
    "    Backtest_R.loc[d,'GMVP'] = pret(gmvp(S), R)\n",
    "    Backtest_R.loc[d,'MSRP'] = pret(msrp(ER, S), R)\n",
    "\n",
    "Backtest_R.loc[:,'EW'] = df_R.mean(axis=1) \n",
    "# 增加 equally weighted 的績效，recall df_R column 存放各產業的報酬"
   ]
  },
  {
   "cell_type": "markdown",
   "metadata": {},
   "source": [
    "### MSRP no short-selling、GMVP no short-selling:"
   ]
  },
  {
   "cell_type": "code",
   "execution_count": null,
   "metadata": {},
   "outputs": [],
   "source": []
  }
 ],
 "metadata": {
  "interpreter": {
   "hash": "8c2e27c92537dbc993fdeb86cbd3be2d376845eda7ee9fbaba49b9f3cd36e9e0"
  },
  "kernelspec": {
   "display_name": "Python 3.9.7 64-bit ('InvestnPortfolio': venv)",
   "language": "python",
   "name": "python3"
  },
  "language_info": {
   "codemirror_mode": {
    "name": "ipython",
    "version": 3
   },
   "file_extension": ".py",
   "mimetype": "text/x-python",
   "name": "python",
   "nbconvert_exporter": "python",
   "pygments_lexer": "ipython3",
   "version": "3.9.7"
  },
  "orig_nbformat": 4
 },
 "nbformat": 4,
 "nbformat_minor": 2
}
