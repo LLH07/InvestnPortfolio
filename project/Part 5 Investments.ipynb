{
 "cells": [
  {
   "cell_type": "code",
   "execution_count": 1,
   "metadata": {},
   "outputs": [
    {
     "data": {
      "text/plain": [
       "'ADS.DE'"
      ]
     },
     "metadata": {},
     "output_type": "display_data"
    },
    {
     "name": "stdout",
     "output_type": "stream",
     "text": [
      "[*********************100%***********************]  1 of 1 completed\n"
     ]
    },
    {
     "data": {
      "text/plain": [
       "'ALV.DE'"
      ]
     },
     "metadata": {},
     "output_type": "display_data"
    },
    {
     "name": "stdout",
     "output_type": "stream",
     "text": [
      "[*********************100%***********************]  1 of 1 completed\n"
     ]
    },
    {
     "data": {
      "text/plain": [
       "'BAS.DE'"
      ]
     },
     "metadata": {},
     "output_type": "display_data"
    },
    {
     "name": "stdout",
     "output_type": "stream",
     "text": [
      "[*********************100%***********************]  1 of 1 completed\n"
     ]
    },
    {
     "data": {
      "text/plain": [
       "'BAYN.DE'"
      ]
     },
     "metadata": {},
     "output_type": "display_data"
    },
    {
     "name": "stdout",
     "output_type": "stream",
     "text": [
      "[*********************100%***********************]  1 of 1 completed\n"
     ]
    },
    {
     "data": {
      "text/plain": [
       "'BMW.DE'"
      ]
     },
     "metadata": {},
     "output_type": "display_data"
    },
    {
     "name": "stdout",
     "output_type": "stream",
     "text": [
      "[*********************100%***********************]  1 of 1 completed\n"
     ]
    },
    {
     "data": {
      "text/plain": [
       "'CON.DE'"
      ]
     },
     "metadata": {},
     "output_type": "display_data"
    },
    {
     "name": "stdout",
     "output_type": "stream",
     "text": [
      "[*********************100%***********************]  1 of 1 completed\n"
     ]
    },
    {
     "data": {
      "text/plain": [
       "'1COV.DE'"
      ]
     },
     "metadata": {},
     "output_type": "display_data"
    },
    {
     "name": "stdout",
     "output_type": "stream",
     "text": [
      "[*********************100%***********************]  1 of 1 completed\n"
     ]
    },
    {
     "data": {
      "text/plain": [
       "'DAI.DE'"
      ]
     },
     "metadata": {},
     "output_type": "display_data"
    },
    {
     "name": "stdout",
     "output_type": "stream",
     "text": [
      "[*********************100%***********************]  1 of 1 completed\n"
     ]
    },
    {
     "data": {
      "text/plain": [
       "'DHER.DE'"
      ]
     },
     "metadata": {},
     "output_type": "display_data"
    },
    {
     "name": "stdout",
     "output_type": "stream",
     "text": [
      "[*********************100%***********************]  1 of 1 completed\n"
     ]
    },
    {
     "data": {
      "text/plain": [
       "'DBK.DE'"
      ]
     },
     "metadata": {},
     "output_type": "display_data"
    },
    {
     "name": "stdout",
     "output_type": "stream",
     "text": [
      "[*********************100%***********************]  1 of 1 completed\n"
     ]
    },
    {
     "data": {
      "text/plain": [
       "'DB1.DE'"
      ]
     },
     "metadata": {},
     "output_type": "display_data"
    },
    {
     "name": "stdout",
     "output_type": "stream",
     "text": [
      "[*********************100%***********************]  1 of 1 completed\n"
     ]
    },
    {
     "data": {
      "text/plain": [
       "'DPW.DE'"
      ]
     },
     "metadata": {},
     "output_type": "display_data"
    },
    {
     "name": "stdout",
     "output_type": "stream",
     "text": [
      "[*********************100%***********************]  1 of 1 completed\n"
     ]
    },
    {
     "data": {
      "text/plain": [
       "'DTE.DE'"
      ]
     },
     "metadata": {},
     "output_type": "display_data"
    },
    {
     "name": "stdout",
     "output_type": "stream",
     "text": [
      "[*********************100%***********************]  1 of 1 completed\n"
     ]
    },
    {
     "data": {
      "text/plain": [
       "'DWNI.DE'"
      ]
     },
     "metadata": {},
     "output_type": "display_data"
    },
    {
     "name": "stdout",
     "output_type": "stream",
     "text": [
      "[*********************100%***********************]  1 of 1 completed\n"
     ]
    },
    {
     "data": {
      "text/plain": [
       "'EOAN.DE'"
      ]
     },
     "metadata": {},
     "output_type": "display_data"
    },
    {
     "name": "stdout",
     "output_type": "stream",
     "text": [
      "[*********************100%***********************]  1 of 1 completed\n"
     ]
    },
    {
     "data": {
      "text/plain": [
       "'FRE.DE'"
      ]
     },
     "metadata": {},
     "output_type": "display_data"
    },
    {
     "name": "stdout",
     "output_type": "stream",
     "text": [
      "[*********************100%***********************]  1 of 1 completed\n"
     ]
    },
    {
     "data": {
      "text/plain": [
       "'FME.DE'"
      ]
     },
     "metadata": {},
     "output_type": "display_data"
    },
    {
     "name": "stdout",
     "output_type": "stream",
     "text": [
      "[*********************100%***********************]  1 of 1 completed\n"
     ]
    },
    {
     "data": {
      "text/plain": [
       "'HEI.DE'"
      ]
     },
     "metadata": {},
     "output_type": "display_data"
    },
    {
     "name": "stdout",
     "output_type": "stream",
     "text": [
      "[*********************100%***********************]  1 of 1 completed\n"
     ]
    },
    {
     "data": {
      "text/plain": [
       "'HEN3.DE'"
      ]
     },
     "metadata": {},
     "output_type": "display_data"
    },
    {
     "name": "stdout",
     "output_type": "stream",
     "text": [
      "[*********************100%***********************]  1 of 1 completed\n"
     ]
    },
    {
     "data": {
      "text/plain": [
       "'IFX.DE'"
      ]
     },
     "metadata": {},
     "output_type": "display_data"
    },
    {
     "name": "stdout",
     "output_type": "stream",
     "text": [
      "[*********************100%***********************]  1 of 1 completed\n"
     ]
    },
    {
     "data": {
      "text/plain": [
       "'LIN.DE'"
      ]
     },
     "metadata": {},
     "output_type": "display_data"
    },
    {
     "name": "stdout",
     "output_type": "stream",
     "text": [
      "[*********************100%***********************]  1 of 1 completed\n"
     ]
    },
    {
     "data": {
      "text/plain": [
       "'MRK.DE'"
      ]
     },
     "metadata": {},
     "output_type": "display_data"
    },
    {
     "name": "stdout",
     "output_type": "stream",
     "text": [
      "[*********************100%***********************]  1 of 1 completed\n"
     ]
    },
    {
     "data": {
      "text/plain": [
       "'MTX.DE'"
      ]
     },
     "metadata": {},
     "output_type": "display_data"
    },
    {
     "name": "stdout",
     "output_type": "stream",
     "text": [
      "[*********************100%***********************]  1 of 1 completed\n"
     ]
    },
    {
     "data": {
      "text/plain": [
       "'MUV2.DE'"
      ]
     },
     "metadata": {},
     "output_type": "display_data"
    },
    {
     "name": "stdout",
     "output_type": "stream",
     "text": [
      "[*********************100%***********************]  1 of 1 completed\n"
     ]
    },
    {
     "data": {
      "text/plain": [
       "'RWE.DE'"
      ]
     },
     "metadata": {},
     "output_type": "display_data"
    },
    {
     "name": "stdout",
     "output_type": "stream",
     "text": [
      "[*********************100%***********************]  1 of 1 completed\n"
     ]
    },
    {
     "data": {
      "text/plain": [
       "'SAP.DE'"
      ]
     },
     "metadata": {},
     "output_type": "display_data"
    },
    {
     "name": "stdout",
     "output_type": "stream",
     "text": [
      "[*********************100%***********************]  1 of 1 completed\n"
     ]
    },
    {
     "data": {
      "text/plain": [
       "'SIE.DE'"
      ]
     },
     "metadata": {},
     "output_type": "display_data"
    },
    {
     "name": "stdout",
     "output_type": "stream",
     "text": [
      "[*********************100%***********************]  1 of 1 completed\n"
     ]
    },
    {
     "data": {
      "text/plain": [
       "'ENR.DE'"
      ]
     },
     "metadata": {},
     "output_type": "display_data"
    },
    {
     "name": "stdout",
     "output_type": "stream",
     "text": [
      "[*********************100%***********************]  1 of 1 completed\n"
     ]
    },
    {
     "data": {
      "text/plain": [
       "'VOW3.DE'"
      ]
     },
     "metadata": {},
     "output_type": "display_data"
    },
    {
     "name": "stdout",
     "output_type": "stream",
     "text": [
      "[*********************100%***********************]  1 of 1 completed\n"
     ]
    },
    {
     "data": {
      "text/plain": [
       "'VNA.DE'"
      ]
     },
     "metadata": {},
     "output_type": "display_data"
    },
    {
     "name": "stdout",
     "output_type": "stream",
     "text": [
      "[*********************100%***********************]  1 of 1 completed\n"
     ]
    }
   ],
   "source": [
    "import yfinance as yf\n",
    "import numpy as np\n",
    "import pandas as pd\n",
    "import pandas_datareader as pdr\n",
    "\n",
    "#factor = pdr.data.DataReader('F-F_Research_Data_Factors', 'famafrench',start='1-1-1926')[0]\n",
    "\n",
    "page = pd.read_html(\"https://en.wikipedia.org/wiki/DAX\")\n",
    "tickers = page[3].iloc[:,3]\n",
    "\n",
    "dax = pd.DataFrame()\n",
    "df_mcap = pd.DataFrame()\n",
    "\n",
    "for i in tickers:\n",
    "    display(i)\n",
    "     \n",
    "    data= yf.download(i,interval=\"1d\",start=\"2020-01-01\",end=\"2021-11-30\")\n",
    "    \n",
    "    data= pd.DataFrame(data[\"Adj Close\"])\n",
    "    data.columns= [i]\n",
    "    dax= pd.concat([dax,data],axis=1)\n",
    "    \n",
    "    \n",
    "    stk= yf.Ticker(i)\n",
    "    try:\n",
    "        stk.info[\"floatShares\"]\n",
    "    except:\n",
    "        stk.info[\"floatShares\"]= None\n",
    "    try:\n",
    "        stk.info[\"sharesOutStanding\"]\n",
    "    except:   \n",
    "        stk.info[\"sharesOutStanding\"] = None\n",
    "    if stk.info[\"floatShares\"]:\n",
    "        mcap = data * stk.info[\"floatShares\"]\n",
    "    elif stk.info[\"sharesOutStanding\"]:\n",
    "        mcap = data * stk.info[\"sharesOutStanding\"]\n",
    "    else:\n",
    "        mcap = data * (stk.info[\"marketCap\"]/stk.info[\"previousClose\"])\n",
    "        \n",
    "    df_mcap = pd.concat([df_mcap,mcap],axis=1)    \n",
    "    \n",
    "    \n",
    "dax.drop(\"ENR.DE\",axis=1,inplace=True)    "
   ]
  },
  {
   "cell_type": "code",
   "execution_count": 63,
   "metadata": {},
   "outputs": [],
   "source": [
    "import matplotlib.pyplot as plt"
   ]
  },
  {
   "cell_type": "code",
   "execution_count": 64,
   "metadata": {},
   "outputs": [],
   "source": [
    "PWI = dax.sum(axis=1)\n",
    "PWI = pd.DataFrame(PWI.rename(\"PWI\"))\n",
    "\n",
    "\n",
    "EWI= dax.pct_change().mean(axis=1)\n",
    "EWI[0]=0\n",
    "EWI += 1\n",
    "EWI = EWI.cumprod()\n",
    "EWI = pd.DataFrame(EWI.rename(\"EWI\"))\n",
    "\n",
    "VWI = df_mcap.sum(axis=1)\n",
    "VWI = pd.DataFrame(VWI.rename(\"VWI\"))\n",
    "\n",
    "# DAX_Index = pd.DataFrame( yf.download(\"DAX\",interval=\"1d\",start=\"2021-01-05\",end=\"2021-11-30\")[\"Adj Close\"])\n",
    "# DAX_Index.columns=[\"Actual DAX\"]"
   ]
  },
  {
   "cell_type": "code",
   "execution_count": 65,
   "metadata": {},
   "outputs": [
    {
     "data": {
      "image/png": "[encoded data removed]",
      "text/plain": [
       "<Figure size 576x396 with 1 Axes>"
      ]
     },
     "metadata": {},
     "output_type": "display_data"
    }
   ],
   "source": [
    "TS = EWI.join([PWI,VWI]).loc[\"2020\":\"2020-12-30\"]\n",
    "TS = TS/TS.iloc[0]*100\n",
    "\n",
    "plt.style.use(\"ggplot\")\n",
    "fig = TS.plot(color=[\"Green\",\"red\",\"blue\",\"yellow\"],alpha=.5,linewidth=5)\n",
    "\n",
    "plt.title(\"Actual DAX versus PWI,EWI,VWI\")\n",
    "plt.legend(loc=\"best\")\n",
    "plt.ylabel(\"Cumulative returns\")\n",
    "plt.show()"
   ]
  },
  {
   "cell_type": "code",
   "execution_count": 66,
   "metadata": {},
   "outputs": [
    {
     "data": {
      "text/html": [
       "<div>\n",
       "<style scoped>\n",
       "    .dataframe tbody tr th:only-of-type {\n",
       "        vertical-align: middle;\n",
       "    }\n",
       "\n",
       "    .dataframe tbody tr th {\n",
       "        vertical-align: top;\n",
       "    }\n",
       "\n",
       "    .dataframe thead th {\n",
       "        text-align: right;\n",
       "    }\n",
       "</style>\n",
       "<table border=\"1\" class=\"dataframe\">\n",
       "  <thead>\n",
       "    <tr style=\"text-align: right;\">\n",
       "      <th></th>\n",
       "      <th>EWI</th>\n",
       "      <th>PWI</th>\n",
       "      <th>VWI</th>\n",
       "    </tr>\n",
       "    <tr>\n",
       "      <th>Date</th>\n",
       "      <th></th>\n",
       "      <th></th>\n",
       "      <th></th>\n",
       "    </tr>\n",
       "  </thead>\n",
       "  <tbody>\n",
       "    <tr>\n",
       "      <th>2020-01-02</th>\n",
       "      <td>100.000000</td>\n",
       "      <td>100.000000</td>\n",
       "      <td>100.000000</td>\n",
       "    </tr>\n",
       "    <tr>\n",
       "      <th>2020-01-03</th>\n",
       "      <td>99.102777</td>\n",
       "      <td>99.047265</td>\n",
       "      <td>98.801375</td>\n",
       "    </tr>\n",
       "    <tr>\n",
       "      <th>2020-01-06</th>\n",
       "      <td>98.244035</td>\n",
       "      <td>98.426834</td>\n",
       "      <td>98.089414</td>\n",
       "    </tr>\n",
       "    <tr>\n",
       "      <th>2020-01-07</th>\n",
       "      <td>99.113591</td>\n",
       "      <td>99.247517</td>\n",
       "      <td>98.820519</td>\n",
       "    </tr>\n",
       "    <tr>\n",
       "      <th>2020-01-08</th>\n",
       "      <td>99.860118</td>\n",
       "      <td>100.070452</td>\n",
       "      <td>99.504692</td>\n",
       "    </tr>\n",
       "    <tr>\n",
       "      <th>...</th>\n",
       "      <td>...</td>\n",
       "      <td>...</td>\n",
       "      <td>...</td>\n",
       "    </tr>\n",
       "    <tr>\n",
       "      <th>2020-12-22</th>\n",
       "      <td>111.690868</td>\n",
       "      <td>102.212376</td>\n",
       "      <td>103.591739</td>\n",
       "    </tr>\n",
       "    <tr>\n",
       "      <th>2020-12-23</th>\n",
       "      <td>113.158694</td>\n",
       "      <td>103.644168</td>\n",
       "      <td>104.937053</td>\n",
       "    </tr>\n",
       "    <tr>\n",
       "      <th>2020-12-28</th>\n",
       "      <td>114.831399</td>\n",
       "      <td>105.045857</td>\n",
       "      <td>106.537949</td>\n",
       "    </tr>\n",
       "    <tr>\n",
       "      <th>2020-12-29</th>\n",
       "      <td>114.589950</td>\n",
       "      <td>104.973048</td>\n",
       "      <td>106.313002</td>\n",
       "    </tr>\n",
       "    <tr>\n",
       "      <th>2020-12-30</th>\n",
       "      <td>114.127262</td>\n",
       "      <td>104.584294</td>\n",
       "      <td>105.991174</td>\n",
       "    </tr>\n",
       "  </tbody>\n",
       "</table>\n",
       "<p>254 rows × 3 columns</p>\n",
       "</div>"
      ],
      "text/plain": [
       "                   EWI         PWI         VWI\n",
       "Date                                          \n",
       "2020-01-02  100.000000  100.000000  100.000000\n",
       "2020-01-03   99.102777   99.047265   98.801375\n",
       "2020-01-06   98.244035   98.426834   98.089414\n",
       "2020-01-07   99.113591   99.247517   98.820519\n",
       "2020-01-08   99.860118  100.070452   99.504692\n",
       "...                ...         ...         ...\n",
       "2020-12-22  111.690868  102.212376  103.591739\n",
       "2020-12-23  113.158694  103.644168  104.937053\n",
       "2020-12-28  114.831399  105.045857  106.537949\n",
       "2020-12-29  114.589950  104.973048  106.313002\n",
       "2020-12-30  114.127262  104.584294  105.991174\n",
       "\n",
       "[254 rows x 3 columns]"
      ]
     },
     "execution_count": 66,
     "metadata": {},
     "output_type": "execute_result"
    }
   ],
   "source": [
    "TS\n",
    "\n",
    "#Return for msrp should look something like this"
   ]
  },
  {
   "cell_type": "code",
   "execution_count": 68,
   "metadata": {},
   "outputs": [],
   "source": [
    "from scipy.optimize import Bounds\n",
    "import pandas_datareader as pdr\n",
    "from numpy.linalg import inv\n",
    "from scipy.optimize import minimize\n",
    "import seaborn as sns\n",
    "def pvar(W,S):\n",
    "    return(W.T @ S @ W)\n",
    "\n",
    "def pret(w, R):\n",
    "    return (w @ R)\n",
    "\n",
    "def sharpe(w,ER,S):\n",
    "    return -(w.T@ER)/((w.T@S@w)**.5)\n",
    "\n",
    "def msrp(ER,S):\n",
    "    ONE = np.ones(len(S))\n",
    "\n",
    "    return (inv(S) @ ER )/ (ONE.T @ inv(S)@ ER)\n",
    "\n",
    "def sharpe(w, ER, S):\n",
    "    return -(w @ ER)/np.sqrt(w @ S @ w)\n",
    "\n",
    "\n",
    "\n",
    "def gmvp(S):\n",
    "    ONE = np.ones(len(S))\n",
    "\n",
    "    return (inv(S)@ONE)/ (ONE.T @ inv(S)@ONE)\n",
    "def NMSRPnoSS(ER,S):\n",
    "    \n",
    "    cons= ({\"type\":\"eq\",\"fun\":lambda x :np.sum(x)-1})\n",
    "    bounds= Bounds(0,1)\n",
    "    x0 = gmvp(S)\n",
    "    return  minimize(sharpe,x0,method=\"SLSQP\",args=(ER,S),constraints=cons,options={\"disp\":True,\"ftol\":1e-9},bounds=bounds)\n",
    "\n",
    "\n",
    "def NGMVPnoSS(S):\n",
    "    cons= ({\"type\":\"eq\",\"fun\":lambda x :np.sum(x)-1})\n",
    "    bounds= Bounds(0,1)\n",
    "    x0 =  gmvp(S)\n",
    "    return  minimize(pvar,x0,method=\"SLSQP\",args=S,constraints=cons, options={\"disp\":True,\"ftol\": 1e-9},bounds=bounds)\n",
    "    \n",
    "    "
   ]
  },
  {
   "cell_type": "code",
   "execution_count": 69,
   "metadata": {},
   "outputs": [],
   "source": [
    "df_ER = (dax.pct_change()*100).shift(1)\n",
    "#df_ER.drop(\"ENR.DE\",axis=1,inplace=True)\n",
    "df_R = dax.pct_change()*100\n"
   ]
  },
  {
   "cell_type": "code",
   "execution_count": 70,
   "metadata": {},
   "outputs": [
    {
     "data": {
      "text/html": [
       "<div>\n",
       "<style scoped>\n",
       "    .dataframe tbody tr th:only-of-type {\n",
       "        vertical-align: middle;\n",
       "    }\n",
       "\n",
       "    .dataframe tbody tr th {\n",
       "        vertical-align: top;\n",
       "    }\n",
       "\n",
       "    .dataframe thead th {\n",
       "        text-align: right;\n",
       "    }\n",
       "</style>\n",
       "<table border=\"1\" class=\"dataframe\">\n",
       "  <thead>\n",
       "    <tr style=\"text-align: right;\">\n",
       "      <th></th>\n",
       "      <th>ADS.DE</th>\n",
       "      <th>ALV.DE</th>\n",
       "      <th>BAS.DE</th>\n",
       "      <th>BAYN.DE</th>\n",
       "      <th>BMW.DE</th>\n",
       "      <th>CON.DE</th>\n",
       "      <th>1COV.DE</th>\n",
       "      <th>DAI.DE</th>\n",
       "      <th>DHER.DE</th>\n",
       "      <th>DBK.DE</th>\n",
       "      <th>...</th>\n",
       "      <th>IFX.DE</th>\n",
       "      <th>LIN.DE</th>\n",
       "      <th>MRK.DE</th>\n",
       "      <th>MTX.DE</th>\n",
       "      <th>MUV2.DE</th>\n",
       "      <th>RWE.DE</th>\n",
       "      <th>SAP.DE</th>\n",
       "      <th>SIE.DE</th>\n",
       "      <th>VOW3.DE</th>\n",
       "      <th>VNA.DE</th>\n",
       "    </tr>\n",
       "    <tr>\n",
       "      <th>Date</th>\n",
       "      <th></th>\n",
       "      <th></th>\n",
       "      <th></th>\n",
       "      <th></th>\n",
       "      <th></th>\n",
       "      <th></th>\n",
       "      <th></th>\n",
       "      <th></th>\n",
       "      <th></th>\n",
       "      <th></th>\n",
       "      <th></th>\n",
       "      <th></th>\n",
       "      <th></th>\n",
       "      <th></th>\n",
       "      <th></th>\n",
       "      <th></th>\n",
       "      <th></th>\n",
       "      <th></th>\n",
       "      <th></th>\n",
       "      <th></th>\n",
       "      <th></th>\n",
       "    </tr>\n",
       "  </thead>\n",
       "  <tbody>\n",
       "    <tr>\n",
       "      <th>2020-01-02</th>\n",
       "      <td>NaN</td>\n",
       "      <td>NaN</td>\n",
       "      <td>NaN</td>\n",
       "      <td>NaN</td>\n",
       "      <td>NaN</td>\n",
       "      <td>NaN</td>\n",
       "      <td>NaN</td>\n",
       "      <td>NaN</td>\n",
       "      <td>NaN</td>\n",
       "      <td>NaN</td>\n",
       "      <td>...</td>\n",
       "      <td>NaN</td>\n",
       "      <td>NaN</td>\n",
       "      <td>NaN</td>\n",
       "      <td>NaN</td>\n",
       "      <td>NaN</td>\n",
       "      <td>NaN</td>\n",
       "      <td>NaN</td>\n",
       "      <td>NaN</td>\n",
       "      <td>NaN</td>\n",
       "      <td>NaN</td>\n",
       "    </tr>\n",
       "    <tr>\n",
       "      <th>2020-01-03</th>\n",
       "      <td>NaN</td>\n",
       "      <td>NaN</td>\n",
       "      <td>NaN</td>\n",
       "      <td>NaN</td>\n",
       "      <td>NaN</td>\n",
       "      <td>NaN</td>\n",
       "      <td>NaN</td>\n",
       "      <td>NaN</td>\n",
       "      <td>NaN</td>\n",
       "      <td>NaN</td>\n",
       "      <td>...</td>\n",
       "      <td>NaN</td>\n",
       "      <td>NaN</td>\n",
       "      <td>NaN</td>\n",
       "      <td>NaN</td>\n",
       "      <td>NaN</td>\n",
       "      <td>NaN</td>\n",
       "      <td>NaN</td>\n",
       "      <td>NaN</td>\n",
       "      <td>NaN</td>\n",
       "      <td>NaN</td>\n",
       "    </tr>\n",
       "    <tr>\n",
       "      <th>2020-01-06</th>\n",
       "      <td>0.137206</td>\n",
       "      <td>-1.106094</td>\n",
       "      <td>-1.493635</td>\n",
       "      <td>-1.278558</td>\n",
       "      <td>-1.212612</td>\n",
       "      <td>-2.079036</td>\n",
       "      <td>-0.663830</td>\n",
       "      <td>-1.810898</td>\n",
       "      <td>0.254238</td>\n",
       "      <td>-1.320268</td>\n",
       "      <td>...</td>\n",
       "      <td>-1.426153</td>\n",
       "      <td>-2.499325</td>\n",
       "      <td>1.179243</td>\n",
       "      <td>-0.116253</td>\n",
       "      <td>-1.241055</td>\n",
       "      <td>-0.445095</td>\n",
       "      <td>-1.262300</td>\n",
       "      <td>-1.921778</td>\n",
       "      <td>-2.138501</td>\n",
       "      <td>0.371751</td>\n",
       "    </tr>\n",
       "    <tr>\n",
       "      <th>2020-01-07</th>\n",
       "      <td>-0.787808</td>\n",
       "      <td>-0.616295</td>\n",
       "      <td>-1.486555</td>\n",
       "      <td>-1.157353</td>\n",
       "      <td>-0.368247</td>\n",
       "      <td>-1.140553</td>\n",
       "      <td>-4.797145</td>\n",
       "      <td>-0.540050</td>\n",
       "      <td>-4.902794</td>\n",
       "      <td>-0.896553</td>\n",
       "      <td>...</td>\n",
       "      <td>-1.692000</td>\n",
       "      <td>-0.917438</td>\n",
       "      <td>1.072264</td>\n",
       "      <td>0.077590</td>\n",
       "      <td>0.038074</td>\n",
       "      <td>-1.453053</td>\n",
       "      <td>-0.747134</td>\n",
       "      <td>-0.464081</td>\n",
       "      <td>-0.011323</td>\n",
       "      <td>-0.308638</td>\n",
       "    </tr>\n",
       "    <tr>\n",
       "      <th>2020-01-08</th>\n",
       "      <td>1.760741</td>\n",
       "      <td>0.229670</td>\n",
       "      <td>0.045278</td>\n",
       "      <td>0.543629</td>\n",
       "      <td>1.601642</td>\n",
       "      <td>2.165423</td>\n",
       "      <td>0.601659</td>\n",
       "      <td>0.799106</td>\n",
       "      <td>-2.222222</td>\n",
       "      <td>3.465554</td>\n",
       "      <td>...</td>\n",
       "      <td>4.963831</td>\n",
       "      <td>0.925932</td>\n",
       "      <td>1.014765</td>\n",
       "      <td>1.666664</td>\n",
       "      <td>0.685191</td>\n",
       "      <td>2.268424</td>\n",
       "      <td>0.451655</td>\n",
       "      <td>0.638920</td>\n",
       "      <td>-0.317065</td>\n",
       "      <td>0.536631</td>\n",
       "    </tr>\n",
       "    <tr>\n",
       "      <th>...</th>\n",
       "      <td>...</td>\n",
       "      <td>...</td>\n",
       "      <td>...</td>\n",
       "      <td>...</td>\n",
       "      <td>...</td>\n",
       "      <td>...</td>\n",
       "      <td>...</td>\n",
       "      <td>...</td>\n",
       "      <td>...</td>\n",
       "      <td>...</td>\n",
       "      <td>...</td>\n",
       "      <td>...</td>\n",
       "      <td>...</td>\n",
       "      <td>...</td>\n",
       "      <td>...</td>\n",
       "      <td>...</td>\n",
       "      <td>...</td>\n",
       "      <td>...</td>\n",
       "      <td>...</td>\n",
       "      <td>...</td>\n",
       "      <td>...</td>\n",
       "    </tr>\n",
       "    <tr>\n",
       "      <th>2021-11-23</th>\n",
       "      <td>-1.204177</td>\n",
       "      <td>0.147967</td>\n",
       "      <td>0.519396</td>\n",
       "      <td>0.135042</td>\n",
       "      <td>1.695281</td>\n",
       "      <td>1.511722</td>\n",
       "      <td>0.603908</td>\n",
       "      <td>1.314178</td>\n",
       "      <td>-2.572099</td>\n",
       "      <td>0.369549</td>\n",
       "      <td>...</td>\n",
       "      <td>-0.683429</td>\n",
       "      <td>0.904288</td>\n",
       "      <td>0.135748</td>\n",
       "      <td>0.718821</td>\n",
       "      <td>0.020228</td>\n",
       "      <td>-1.007639</td>\n",
       "      <td>-3.352394</td>\n",
       "      <td>0.463918</td>\n",
       "      <td>-0.763953</td>\n",
       "      <td>-2.225419</td>\n",
       "    </tr>\n",
       "    <tr>\n",
       "      <th>2021-11-24</th>\n",
       "      <td>-2.545261</td>\n",
       "      <td>0.098496</td>\n",
       "      <td>1.647022</td>\n",
       "      <td>1.006225</td>\n",
       "      <td>-0.358722</td>\n",
       "      <td>-0.614300</td>\n",
       "      <td>-0.070623</td>\n",
       "      <td>-1.022315</td>\n",
       "      <td>-4.800000</td>\n",
       "      <td>2.908689</td>\n",
       "      <td>...</td>\n",
       "      <td>-3.720545</td>\n",
       "      <td>-1.132911</td>\n",
       "      <td>-2.666068</td>\n",
       "      <td>0.658804</td>\n",
       "      <td>0.889786</td>\n",
       "      <td>0.246767</td>\n",
       "      <td>-1.742563</td>\n",
       "      <td>-1.654696</td>\n",
       "      <td>-1.093379</td>\n",
       "      <td>-3.230542</td>\n",
       "    </tr>\n",
       "    <tr>\n",
       "      <th>2021-11-25</th>\n",
       "      <td>-1.269087</td>\n",
       "      <td>-0.073798</td>\n",
       "      <td>-1.683878</td>\n",
       "      <td>-2.495635</td>\n",
       "      <td>-2.064808</td>\n",
       "      <td>-1.929198</td>\n",
       "      <td>-2.473494</td>\n",
       "      <td>-1.854729</td>\n",
       "      <td>-0.588233</td>\n",
       "      <td>2.415022</td>\n",
       "      <td>...</td>\n",
       "      <td>-0.109030</td>\n",
       "      <td>-0.136814</td>\n",
       "      <td>0.139277</td>\n",
       "      <td>2.072532</td>\n",
       "      <td>1.643618</td>\n",
       "      <td>0.707691</td>\n",
       "      <td>-0.501923</td>\n",
       "      <td>-0.913000</td>\n",
       "      <td>-2.774957</td>\n",
       "      <td>5.013533</td>\n",
       "    </tr>\n",
       "    <tr>\n",
       "      <th>2021-11-26</th>\n",
       "      <td>-0.167653</td>\n",
       "      <td>-0.221572</td>\n",
       "      <td>-0.452414</td>\n",
       "      <td>-0.094801</td>\n",
       "      <td>-1.470430</td>\n",
       "      <td>-0.783040</td>\n",
       "      <td>-0.507251</td>\n",
       "      <td>0.011310</td>\n",
       "      <td>-3.888424</td>\n",
       "      <td>1.048034</td>\n",
       "      <td>...</td>\n",
       "      <td>0.194038</td>\n",
       "      <td>0.496649</td>\n",
       "      <td>0.741774</td>\n",
       "      <td>0.480903</td>\n",
       "      <td>-0.157763</td>\n",
       "      <td>6.813320</td>\n",
       "      <td>0.739867</td>\n",
       "      <td>1.079373</td>\n",
       "      <td>-0.011605</td>\n",
       "      <td>0.655106</td>\n",
       "    </tr>\n",
       "    <tr>\n",
       "      <th>2021-11-29</th>\n",
       "      <td>-5.448780</td>\n",
       "      <td>-5.531701</td>\n",
       "      <td>-6.005520</td>\n",
       "      <td>-3.974693</td>\n",
       "      <td>-6.167009</td>\n",
       "      <td>-6.294515</td>\n",
       "      <td>-6.737067</td>\n",
       "      <td>-5.906307</td>\n",
       "      <td>2.858399</td>\n",
       "      <td>-7.519446</td>\n",
       "      <td>...</td>\n",
       "      <td>-4.199953</td>\n",
       "      <td>-3.834351</td>\n",
       "      <td>2.623100</td>\n",
       "      <td>-11.326776</td>\n",
       "      <td>-6.735133</td>\n",
       "      <td>-2.431346</td>\n",
       "      <td>-3.839091</td>\n",
       "      <td>-5.430392</td>\n",
       "      <td>-4.885123</td>\n",
       "      <td>-4.843037</td>\n",
       "    </tr>\n",
       "  </tbody>\n",
       "</table>\n",
       "<p>487 rows × 29 columns</p>\n",
       "</div>"
      ],
      "text/plain": [
       "              ADS.DE    ALV.DE    BAS.DE   BAYN.DE    BMW.DE    CON.DE  \\\n",
       "Date                                                                     \n",
       "2020-01-02       NaN       NaN       NaN       NaN       NaN       NaN   \n",
       "2020-01-03       NaN       NaN       NaN       NaN       NaN       NaN   \n",
       "2020-01-06  0.137206 -1.106094 -1.493635 -1.278558 -1.212612 -2.079036   \n",
       "2020-01-07 -0.787808 -0.616295 -1.486555 -1.157353 -0.368247 -1.140553   \n",
       "2020-01-08  1.760741  0.229670  0.045278  0.543629  1.601642  2.165423   \n",
       "...              ...       ...       ...       ...       ...       ...   \n",
       "2021-11-23 -1.204177  0.147967  0.519396  0.135042  1.695281  1.511722   \n",
       "2021-11-24 -2.545261  0.098496  1.647022  1.006225 -0.358722 -0.614300   \n",
       "2021-11-25 -1.269087 -0.073798 -1.683878 -2.495635 -2.064808 -1.929198   \n",
       "2021-11-26 -0.167653 -0.221572 -0.452414 -0.094801 -1.470430 -0.783040   \n",
       "2021-11-29 -5.448780 -5.531701 -6.005520 -3.974693 -6.167009 -6.294515   \n",
       "\n",
       "             1COV.DE    DAI.DE   DHER.DE    DBK.DE  ...    IFX.DE    LIN.DE  \\\n",
       "Date                                                ...                       \n",
       "2020-01-02       NaN       NaN       NaN       NaN  ...       NaN       NaN   \n",
       "2020-01-03       NaN       NaN       NaN       NaN  ...       NaN       NaN   \n",
       "2020-01-06 -0.663830 -1.810898  0.254238 -1.320268  ... -1.426153 -2.499325   \n",
       "2020-01-07 -4.797145 -0.540050 -4.902794 -0.896553  ... -1.692000 -0.917438   \n",
       "2020-01-08  0.601659  0.799106 -2.222222  3.465554  ...  4.963831  0.925932   \n",
       "...              ...       ...       ...       ...  ...       ...       ...   \n",
       "2021-11-23  0.603908  1.314178 -2.572099  0.369549  ... -0.683429  0.904288   \n",
       "2021-11-24 -0.070623 -1.022315 -4.800000  2.908689  ... -3.720545 -1.132911   \n",
       "2021-11-25 -2.473494 -1.854729 -0.588233  2.415022  ... -0.109030 -0.136814   \n",
       "2021-11-26 -0.507251  0.011310 -3.888424  1.048034  ...  0.194038  0.496649   \n",
       "2021-11-29 -6.737067 -5.906307  2.858399 -7.519446  ... -4.199953 -3.834351   \n",
       "\n",
       "              MRK.DE     MTX.DE   MUV2.DE    RWE.DE    SAP.DE    SIE.DE  \\\n",
       "Date                                                                      \n",
       "2020-01-02       NaN        NaN       NaN       NaN       NaN       NaN   \n",
       "2020-01-03       NaN        NaN       NaN       NaN       NaN       NaN   \n",
       "2020-01-06  1.179243  -0.116253 -1.241055 -0.445095 -1.262300 -1.921778   \n",
       "2020-01-07  1.072264   0.077590  0.038074 -1.453053 -0.747134 -0.464081   \n",
       "2020-01-08  1.014765   1.666664  0.685191  2.268424  0.451655  0.638920   \n",
       "...              ...        ...       ...       ...       ...       ...   \n",
       "2021-11-23  0.135748   0.718821  0.020228 -1.007639 -3.352394  0.463918   \n",
       "2021-11-24 -2.666068   0.658804  0.889786  0.246767 -1.742563 -1.654696   \n",
       "2021-11-25  0.139277   2.072532  1.643618  0.707691 -0.501923 -0.913000   \n",
       "2021-11-26  0.741774   0.480903 -0.157763  6.813320  0.739867  1.079373   \n",
       "2021-11-29  2.623100 -11.326776 -6.735133 -2.431346 -3.839091 -5.430392   \n",
       "\n",
       "             VOW3.DE    VNA.DE  \n",
       "Date                            \n",
       "2020-01-02       NaN       NaN  \n",
       "2020-01-03       NaN       NaN  \n",
       "2020-01-06 -2.138501  0.371751  \n",
       "2020-01-07 -0.011323 -0.308638  \n",
       "2020-01-08 -0.317065  0.536631  \n",
       "...              ...       ...  \n",
       "2021-11-23 -0.763953 -2.225419  \n",
       "2021-11-24 -1.093379 -3.230542  \n",
       "2021-11-25 -2.774957  5.013533  \n",
       "2021-11-26 -0.011605  0.655106  \n",
       "2021-11-29 -4.885123 -4.843037  \n",
       "\n",
       "[487 rows x 29 columns]"
      ]
     },
     "execution_count": 70,
     "metadata": {},
     "output_type": "execute_result"
    }
   ],
   "source": [
    "df_ER"
   ]
  },
  {
   "cell_type": "code",
   "execution_count": null,
   "metadata": {},
   "outputs": [
    {
     "name": "stdout",
     "output_type": "stream",
     "text": [
      "2020-01-02 00:00:00\n",
      "Iteration limit reached    (Exit mode 9)\n",
      "            Current function value: nan\n",
      "            Iterations: 100\n",
      "            Function evaluations: 4120\n",
      "            Gradient evaluations: 101\n",
      "2020-01-03 00:00:00\n",
      "Iteration limit reached    (Exit mode 9)\n",
      "            Current function value: nan\n",
      "            Iterations: 100\n",
      "            Function evaluations: 4120\n",
      "            Gradient evaluations: 101\n",
      "2020-01-06 00:00:00\n",
      "Iteration limit reached    (Exit mode 9)\n",
      "            Current function value: nan\n",
      "            Iterations: 100\n",
      "            Function evaluations: 4120\n",
      "            Gradient evaluations: 101\n",
      "2020-01-07 00:00:00\n",
      "Iteration limit reached    (Exit mode 9)\n",
      "            Current function value: nan\n",
      "            Iterations: 100\n",
      "            Function evaluations: 4120\n",
      "            Gradient evaluations: 101\n",
      "2020-01-08 00:00:00\n",
      "Iteration limit reached    (Exit mode 9)\n",
      "            Current function value: nan\n",
      "            Iterations: 100\n",
      "            Function evaluations: 4120\n",
      "            Gradient evaluations: 101\n",
      "2020-01-09 00:00:00\n",
      "Iteration limit reached    (Exit mode 9)\n",
      "            Current function value: nan\n",
      "            Iterations: 100\n",
      "            Function evaluations: 4120\n",
      "            Gradient evaluations: 101\n",
      "2020-01-10 00:00:00\n",
      "Iteration limit reached    (Exit mode 9)\n",
      "            Current function value: nan\n",
      "            Iterations: 100\n",
      "            Function evaluations: 4120\n",
      "            Gradient evaluations: 101\n",
      "2020-01-13 00:00:00\n",
      "Iteration limit reached    (Exit mode 9)\n",
      "            Current function value: nan\n",
      "            Iterations: 100\n",
      "            Function evaluations: 4120\n",
      "            Gradient evaluations: 101\n",
      "2020-01-14 00:00:00\n",
      "Iteration limit reached    (Exit mode 9)\n",
      "            Current function value: nan\n",
      "            Iterations: 100\n",
      "            Function evaluations: 4120\n",
      "            Gradient evaluations: 101\n",
      "2020-01-15 00:00:00\n",
      "Iteration limit reached    (Exit mode 9)\n",
      "            Current function value: nan\n",
      "            Iterations: 100\n",
      "            Function evaluations: 4120\n",
      "            Gradient evaluations: 101\n",
      "2020-01-16 00:00:00\n",
      "Iteration limit reached    (Exit mode 9)\n",
      "            Current function value: nan\n",
      "            Iterations: 100\n",
      "            Function evaluations: 4120\n",
      "            Gradient evaluations: 101\n",
      "2020-01-17 00:00:00\n",
      "Iteration limit reached    (Exit mode 9)\n",
      "            Current function value: nan\n",
      "            Iterations: 100\n",
      "            Function evaluations: 4120\n",
      "            Gradient evaluations: 101\n",
      "2020-01-20 00:00:00\n",
      "Iteration limit reached    (Exit mode 9)\n",
      "            Current function value: nan\n",
      "            Iterations: 100\n",
      "            Function evaluations: 4120\n",
      "            Gradient evaluations: 101\n",
      "2020-01-21 00:00:00\n",
      "Iteration limit reached    (Exit mode 9)\n",
      "            Current function value: nan\n",
      "            Iterations: 100\n",
      "            Function evaluations: 4120\n",
      "            Gradient evaluations: 101\n",
      "2020-01-22 00:00:00\n",
      "Iteration limit reached    (Exit mode 9)\n",
      "            Current function value: nan\n",
      "            Iterations: 100\n",
      "            Function evaluations: 4120\n",
      "            Gradient evaluations: 101\n",
      "2020-01-23 00:00:00\n",
      "Iteration limit reached    (Exit mode 9)\n",
      "            Current function value: nan\n",
      "            Iterations: 100\n",
      "            Function evaluations: 4120\n",
      "            Gradient evaluations: 101\n",
      "2020-01-24 00:00:00\n",
      "Iteration limit reached    (Exit mode 9)\n",
      "            Current function value: nan\n",
      "            Iterations: 100\n",
      "            Function evaluations: 4120\n",
      "            Gradient evaluations: 101\n",
      "2020-01-27 00:00:00\n",
      "Iteration limit reached    (Exit mode 9)\n",
      "            Current function value: nan\n",
      "            Iterations: 100\n",
      "            Function evaluations: 4120\n",
      "            Gradient evaluations: 101\n",
      "2020-01-28 00:00:00\n",
      "Iteration limit reached    (Exit mode 9)\n",
      "            Current function value: nan\n",
      "            Iterations: 100\n",
      "            Function evaluations: 4120\n",
      "            Gradient evaluations: 101\n",
      "2020-01-29 00:00:00\n",
      "Iteration limit reached    (Exit mode 9)\n",
      "            Current function value: nan\n",
      "            Iterations: 100\n",
      "            Function evaluations: 4120\n",
      "            Gradient evaluations: 101\n",
      "2020-01-30 00:00:00\n",
      "Iteration limit reached    (Exit mode 9)\n",
      "            Current function value: nan\n",
      "            Iterations: 100\n",
      "            Function evaluations: 4120\n",
      "            Gradient evaluations: 101\n",
      "2020-01-31 00:00:00\n",
      "Iteration limit reached    (Exit mode 9)\n",
      "            Current function value: nan\n",
      "            Iterations: 100\n",
      "            Function evaluations: 4120\n",
      "            Gradient evaluations: 101\n",
      "2020-02-03 00:00:00\n",
      "Iteration limit reached    (Exit mode 9)\n",
      "            Current function value: nan\n",
      "            Iterations: 100\n",
      "            Function evaluations: 4120\n",
      "            Gradient evaluations: 101\n",
      "2020-02-04 00:00:00\n",
      "Iteration limit reached    (Exit mode 9)\n",
      "            Current function value: nan\n",
      "            Iterations: 100\n",
      "            Function evaluations: 4120\n",
      "            Gradient evaluations: 101\n",
      "2020-02-05 00:00:00\n",
      "Iteration limit reached    (Exit mode 9)\n",
      "            Current function value: nan\n",
      "            Iterations: 100\n",
      "            Function evaluations: 4120\n",
      "            Gradient evaluations: 101\n",
      "2020-02-06 00:00:00\n",
      "Iteration limit reached    (Exit mode 9)\n",
      "            Current function value: nan\n",
      "            Iterations: 100\n",
      "            Function evaluations: 4120\n",
      "            Gradient evaluations: 101\n",
      "2020-02-07 00:00:00\n",
      "Iteration limit reached    (Exit mode 9)\n",
      "            Current function value: nan\n",
      "            Iterations: 100\n",
      "            Function evaluations: 4120\n",
      "            Gradient evaluations: 101\n",
      "2020-02-10 00:00:00\n",
      "Iteration limit reached    (Exit mode 9)\n",
      "            Current function value: nan\n",
      "            Iterations: 100\n",
      "            Function evaluations: 4120\n",
      "            Gradient evaluations: 101\n",
      "2020-02-11 00:00:00\n",
      "Iteration limit reached    (Exit mode 9)\n",
      "            Current function value: nan\n",
      "            Iterations: 100\n",
      "            Function evaluations: 4120\n",
      "            Gradient evaluations: 101\n",
      "2020-02-12 00:00:00\n",
      "Iteration limit reached    (Exit mode 9)\n",
      "            Current function value: nan\n",
      "            Iterations: 100\n",
      "            Function evaluations: 4120\n",
      "            Gradient evaluations: 101\n",
      "2020-02-13 00:00:00\n",
      "Iteration limit reached    (Exit mode 9)\n",
      "            Current function value: nan\n",
      "            Iterations: 100\n",
      "            Function evaluations: 4120\n",
      "            Gradient evaluations: 101\n",
      "2020-02-14 00:00:00\n",
      "Iteration limit reached    (Exit mode 9)\n",
      "            Current function value: nan\n",
      "            Iterations: 100\n",
      "            Function evaluations: 4120\n",
      "            Gradient evaluations: 101\n",
      "2020-02-17 00:00:00\n",
      "Iteration limit reached    (Exit mode 9)\n",
      "            Current function value: nan\n",
      "            Iterations: 100\n",
      "            Function evaluations: 4120\n",
      "            Gradient evaluations: 101\n",
      "2020-02-18 00:00:00\n",
      "Iteration limit reached    (Exit mode 9)\n",
      "            Current function value: nan\n",
      "            Iterations: 100\n",
      "            Function evaluations: 4120\n",
      "            Gradient evaluations: 101\n",
      "2020-02-19 00:00:00\n",
      "Iteration limit reached    (Exit mode 9)\n",
      "            Current function value: nan\n",
      "            Iterations: 100\n",
      "            Function evaluations: 4120\n",
      "            Gradient evaluations: 101\n",
      "2020-02-20 00:00:00\n",
      "Iteration limit reached    (Exit mode 9)\n",
      "            Current function value: nan\n",
      "            Iterations: 100\n",
      "            Function evaluations: 4120\n",
      "            Gradient evaluations: 101\n",
      "2020-02-21 00:00:00\n",
      "Iteration limit reached    (Exit mode 9)\n",
      "            Current function value: nan\n",
      "            Iterations: 100\n",
      "            Function evaluations: 4120\n",
      "            Gradient evaluations: 101\n",
      "2020-02-24 00:00:00\n",
      "Iteration limit reached    (Exit mode 9)\n",
      "            Current function value: nan\n",
      "            Iterations: 100\n",
      "            Function evaluations: 4120\n",
      "            Gradient evaluations: 101\n",
      "2020-02-25 00:00:00\n",
      "Iteration limit reached    (Exit mode 9)\n",
      "            Current function value: nan\n",
      "            Iterations: 100\n",
      "            Function evaluations: 4120\n",
      "            Gradient evaluations: 101\n",
      "2020-02-26 00:00:00\n",
      "Iteration limit reached    (Exit mode 9)\n",
      "            Current function value: nan\n",
      "            Iterations: 100\n",
      "            Function evaluations: 4120\n",
      "            Gradient evaluations: 101\n",
      "2020-02-27 00:00:00\n",
      "Iteration limit reached    (Exit mode 9)\n",
      "            Current function value: nan\n",
      "            Iterations: 100\n",
      "            Function evaluations: 4120\n",
      "            Gradient evaluations: 101\n",
      "2020-02-28 00:00:00\n",
      "Iteration limit reached    (Exit mode 9)\n",
      "            Current function value: nan\n",
      "            Iterations: 100\n",
      "            Function evaluations: 4120\n",
      "            Gradient evaluations: 101\n",
      "2020-03-02 00:00:00\n",
      "Iteration limit reached    (Exit mode 9)\n",
      "            Current function value: nan\n",
      "            Iterations: 100\n",
      "            Function evaluations: 4120\n",
      "            Gradient evaluations: 101\n",
      "2020-03-03 00:00:00\n",
      "Iteration limit reached    (Exit mode 9)\n",
      "            Current function value: nan\n",
      "            Iterations: 100\n",
      "            Function evaluations: 4120\n",
      "            Gradient evaluations: 101\n",
      "2020-03-04 00:00:00\n",
      "Iteration limit reached    (Exit mode 9)\n",
      "            Current function value: nan\n",
      "            Iterations: 100\n",
      "            Function evaluations: 4120\n",
      "            Gradient evaluations: 101\n",
      "2020-03-05 00:00:00\n",
      "Iteration limit reached    (Exit mode 9)\n",
      "            Current function value: nan\n",
      "            Iterations: 100\n",
      "            Function evaluations: 4120\n",
      "            Gradient evaluations: 101\n",
      "2020-03-06 00:00:00\n",
      "Iteration limit reached    (Exit mode 9)\n",
      "            Current function value: nan\n",
      "            Iterations: 100\n",
      "            Function evaluations: 4120\n",
      "            Gradient evaluations: 101\n",
      "2020-03-09 00:00:00\n",
      "Iteration limit reached    (Exit mode 9)\n",
      "            Current function value: nan\n",
      "            Iterations: 100\n",
      "            Function evaluations: 4120\n",
      "            Gradient evaluations: 101\n",
      "2020-03-10 00:00:00\n",
      "Iteration limit reached    (Exit mode 9)\n",
      "            Current function value: nan\n",
      "            Iterations: 100\n",
      "            Function evaluations: 4120\n",
      "            Gradient evaluations: 101\n",
      "2020-03-11 00:00:00\n",
      "Iteration limit reached    (Exit mode 9)\n",
      "            Current function value: nan\n",
      "            Iterations: 100\n",
      "            Function evaluations: 4120\n",
      "            Gradient evaluations: 101\n",
      "2020-03-12 00:00:00\n",
      "Iteration limit reached    (Exit mode 9)\n",
      "            Current function value: nan\n",
      "            Iterations: 100\n",
      "            Function evaluations: 4120\n",
      "            Gradient evaluations: 101\n",
      "2020-03-13 00:00:00\n",
      "Iteration limit reached    (Exit mode 9)\n",
      "            Current function value: nan\n",
      "            Iterations: 100\n",
      "            Function evaluations: 4120\n",
      "            Gradient evaluations: 101\n",
      "2020-03-16 00:00:00\n",
      "Iteration limit reached    (Exit mode 9)\n",
      "            Current function value: nan\n",
      "            Iterations: 100\n",
      "            Function evaluations: 4120\n",
      "            Gradient evaluations: 101\n",
      "2020-03-17 00:00:00\n",
      "Iteration limit reached    (Exit mode 9)\n",
      "            Current function value: nan\n",
      "            Iterations: 100\n",
      "            Function evaluations: 4120\n",
      "            Gradient evaluations: 101\n",
      "2020-03-18 00:00:00\n",
      "Iteration limit reached    (Exit mode 9)\n",
      "            Current function value: nan\n",
      "            Iterations: 100\n",
      "            Function evaluations: 4120\n",
      "            Gradient evaluations: 101\n",
      "2020-03-19 00:00:00\n",
      "Iteration limit reached    (Exit mode 9)\n",
      "            Current function value: nan\n",
      "            Iterations: 100\n",
      "            Function evaluations: 4120\n",
      "            Gradient evaluations: 101\n",
      "2020-03-20 00:00:00\n",
      "Iteration limit reached    (Exit mode 9)\n",
      "            Current function value: nan\n",
      "            Iterations: 100\n",
      "            Function evaluations: 4120\n",
      "            Gradient evaluations: 101\n",
      "2020-03-23 00:00:00\n",
      "Iteration limit reached    (Exit mode 9)\n",
      "            Current function value: nan\n",
      "            Iterations: 100\n",
      "            Function evaluations: 4120\n",
      "            Gradient evaluations: 101\n",
      "2020-03-24 00:00:00\n",
      "Iteration limit reached    (Exit mode 9)\n",
      "            Current function value: nan\n",
      "            Iterations: 100\n",
      "            Function evaluations: 4120\n",
      "            Gradient evaluations: 101\n",
      "2020-03-25 00:00:00\n",
      "Iteration limit reached    (Exit mode 9)\n",
      "            Current function value: nan\n",
      "            Iterations: 100\n",
      "            Function evaluations: 4120\n",
      "            Gradient evaluations: 101\n",
      "2020-03-26 00:00:00\n",
      "Iteration limit reached    (Exit mode 9)\n",
      "            Current function value: nan\n",
      "            Iterations: 100\n",
      "            Function evaluations: 4120\n",
      "            Gradient evaluations: 101\n",
      "2020-03-27 00:00:00\n",
      "Optimization terminated successfully    (Exit mode 0)\n",
      "            Current function value: -0.02620891981222427\n",
      "            Iterations: 11\n",
      "            Function evaluations: 330\n",
      "            Gradient evaluations: 11\n",
      "2020-03-30 00:00:00\n",
      "Optimization terminated successfully    (Exit mode 0)\n",
      "            Current function value: -0.003000497716829001\n",
      "            Iterations: 11\n",
      "            Function evaluations: 330\n",
      "            Gradient evaluations: 11\n",
      "2020-03-31 00:00:00\n",
      "Optimization terminated successfully    (Exit mode 0)\n",
      "            Current function value: -0.018935480760029377\n",
      "            Iterations: 13\n",
      "            Function evaluations: 390\n",
      "            Gradient evaluations: 13\n",
      "2020-04-01 00:00:00\n",
      "Optimization terminated successfully    (Exit mode 0)\n",
      "            Current function value: -0.03130898593155686\n",
      "            Iterations: 12\n",
      "            Function evaluations: 360\n",
      "            Gradient evaluations: 12\n",
      "2020-04-02 00:00:00\n",
      "Optimization terminated successfully    (Exit mode 0)\n",
      "            Current function value: -0.03323200650896555\n",
      "            Iterations: 8\n",
      "            Function evaluations: 240\n",
      "            Gradient evaluations: 8\n",
      "2020-04-03 00:00:00\n",
      "Optimization terminated successfully    (Exit mode 0)\n",
      "            Current function value: -0.016009937594584033\n",
      "            Iterations: 9\n",
      "            Function evaluations: 270\n",
      "            Gradient evaluations: 9\n",
      "2020-04-06 00:00:00\n",
      "Optimization terminated successfully    (Exit mode 0)\n",
      "            Current function value: -0.017254793879690748\n",
      "            Iterations: 8\n",
      "            Function evaluations: 240\n",
      "            Gradient evaluations: 8\n",
      "2020-04-07 00:00:00\n",
      "Optimization terminated successfully    (Exit mode 0)\n",
      "            Current function value: -0.014609246891843843\n",
      "            Iterations: 10\n",
      "            Function evaluations: 300\n",
      "            Gradient evaluations: 10\n",
      "2020-04-08 00:00:00\n",
      "Optimization terminated successfully    (Exit mode 0)\n",
      "            Current function value: 0.004574427166439103\n",
      "            Iterations: 13\n",
      "            Function evaluations: 390\n",
      "            Gradient evaluations: 13\n",
      "2020-04-09 00:00:00\n",
      "Optimization terminated successfully    (Exit mode 0)\n",
      "            Current function value: 0.01986164983616553\n",
      "            Iterations: 12\n",
      "            Function evaluations: 360\n",
      "            Gradient evaluations: 12\n",
      "2020-04-14 00:00:00\n",
      "Optimization terminated successfully    (Exit mode 0)\n",
      "            Current function value: 0.02445952674356195\n",
      "            Iterations: 11\n",
      "            Function evaluations: 330\n",
      "            Gradient evaluations: 11\n",
      "2020-04-15 00:00:00\n",
      "Optimization terminated successfully    (Exit mode 0)\n",
      "            Current function value: 0.008756045873784993\n",
      "            Iterations: 13\n",
      "            Function evaluations: 390\n",
      "            Gradient evaluations: 13\n",
      "2020-04-16 00:00:00\n",
      "Optimization terminated successfully    (Exit mode 0)\n",
      "            Current function value: 0.001319348536720897\n",
      "            Iterations: 9\n",
      "            Function evaluations: 270\n",
      "            Gradient evaluations: 9\n",
      "2020-04-17 00:00:00\n",
      "Optimization terminated successfully    (Exit mode 0)\n",
      "            Current function value: -0.02380656035573858\n",
      "            Iterations: 7\n",
      "            Function evaluations: 210\n",
      "            Gradient evaluations: 7\n",
      "2020-04-20 00:00:00\n",
      "Optimization terminated successfully    (Exit mode 0)\n",
      "            Current function value: -0.019302041663451893\n",
      "            Iterations: 7\n",
      "            Function evaluations: 210\n",
      "            Gradient evaluations: 7\n",
      "2020-04-21 00:00:00\n",
      "Optimization terminated successfully    (Exit mode 0)\n",
      "            Current function value: -0.022321162860473157\n",
      "            Iterations: 8\n",
      "            Function evaluations: 240\n",
      "            Gradient evaluations: 8\n",
      "2020-04-22 00:00:00\n",
      "Optimization terminated successfully    (Exit mode 0)\n",
      "            Current function value: -0.0017622006866933125\n",
      "            Iterations: 8\n",
      "            Function evaluations: 240\n",
      "            Gradient evaluations: 8\n",
      "2020-04-23 00:00:00\n",
      "Optimization terminated successfully    (Exit mode 0)\n",
      "            Current function value: -0.03528568796739794\n",
      "            Iterations: 7\n",
      "            Function evaluations: 210\n",
      "            Gradient evaluations: 7\n",
      "2020-04-24 00:00:00\n",
      "Optimization terminated successfully    (Exit mode 0)\n",
      "            Current function value: -0.029556460874888744\n",
      "            Iterations: 10\n",
      "            Function evaluations: 300\n",
      "            Gradient evaluations: 10\n",
      "2020-04-27 00:00:00\n",
      "Optimization terminated successfully    (Exit mode 0)\n",
      "            Current function value: -0.042399885394914426\n",
      "            Iterations: 8\n",
      "            Function evaluations: 240\n",
      "            Gradient evaluations: 8\n",
      "2020-04-28 00:00:00\n",
      "Optimization terminated successfully    (Exit mode 0)\n",
      "            Current function value: -0.05523494435951727\n",
      "            Iterations: 12\n",
      "            Function evaluations: 360\n",
      "            Gradient evaluations: 12\n",
      "2020-04-29 00:00:00\n",
      "Optimization terminated successfully    (Exit mode 0)\n",
      "            Current function value: -0.07473690832707947\n",
      "            Iterations: 12\n",
      "            Function evaluations: 360\n",
      "            Gradient evaluations: 12\n",
      "2020-04-30 00:00:00\n",
      "Optimization terminated successfully    (Exit mode 0)\n",
      "            Current function value: -0.0637163919323785\n",
      "            Iterations: 12\n",
      "            Function evaluations: 360\n",
      "            Gradient evaluations: 12\n",
      "2020-05-04 00:00:00\n",
      "Optimization terminated successfully    (Exit mode 0)\n",
      "            Current function value: -0.048078904351427136\n",
      "            Iterations: 12\n",
      "            Function evaluations: 360\n",
      "            Gradient evaluations: 12\n",
      "2020-05-05 00:00:00\n",
      "Optimization terminated successfully    (Exit mode 0)\n",
      "            Current function value: -0.02681598185545012\n",
      "            Iterations: 9\n",
      "            Function evaluations: 270\n",
      "            Gradient evaluations: 9\n",
      "2020-05-06 00:00:00\n",
      "Optimization terminated successfully    (Exit mode 0)\n",
      "            Current function value: -0.048706667194754236\n",
      "            Iterations: 9\n",
      "            Function evaluations: 270\n",
      "            Gradient evaluations: 9\n",
      "2020-05-07 00:00:00\n",
      "Optimization terminated successfully    (Exit mode 0)\n",
      "            Current function value: -0.07254357896714887\n",
      "            Iterations: 9\n",
      "            Function evaluations: 270\n",
      "            Gradient evaluations: 9\n",
      "2020-05-08 00:00:00\n",
      "Optimization terminated successfully    (Exit mode 0)\n",
      "            Current function value: -0.08098794516558636\n",
      "            Iterations: 8\n",
      "            Function evaluations: 240\n",
      "            Gradient evaluations: 8\n",
      "2020-05-11 00:00:00\n",
      "Optimization terminated successfully    (Exit mode 0)\n",
      "            Current function value: -0.06813909479360715\n",
      "            Iterations: 9\n",
      "            Function evaluations: 270\n",
      "            Gradient evaluations: 9\n",
      "2020-05-12 00:00:00\n",
      "Optimization terminated successfully    (Exit mode 0)\n",
      "            Current function value: -0.05513469969736517\n",
      "            Iterations: 10\n",
      "            Function evaluations: 300\n",
      "            Gradient evaluations: 10\n",
      "2020-05-13 00:00:00\n",
      "Optimization terminated successfully    (Exit mode 0)\n",
      "            Current function value: -0.057921138425664584\n",
      "            Iterations: 9\n",
      "            Function evaluations: 270\n",
      "            Gradient evaluations: 9\n",
      "2020-05-14 00:00:00\n",
      "Optimization terminated successfully    (Exit mode 0)\n",
      "            Current function value: -0.05760721338360646\n",
      "            Iterations: 9\n",
      "            Function evaluations: 270\n",
      "            Gradient evaluations: 9\n",
      "2020-05-15 00:00:00\n",
      "Optimization terminated successfully    (Exit mode 0)\n",
      "            Current function value: -0.036310999128281736\n",
      "            Iterations: 9\n",
      "            Function evaluations: 270\n",
      "            Gradient evaluations: 9\n",
      "2020-05-18 00:00:00\n",
      "Optimization terminated successfully    (Exit mode 0)\n",
      "            Current function value: -0.0436132022970778\n",
      "            Iterations: 8\n",
      "            Function evaluations: 240\n",
      "            Gradient evaluations: 8\n",
      "2020-05-19 00:00:00\n",
      "Optimization terminated successfully    (Exit mode 0)\n",
      "            Current function value: -0.03582803082051094\n",
      "            Iterations: 10\n",
      "            Function evaluations: 300\n",
      "            Gradient evaluations: 10\n",
      "2020-05-20 00:00:00\n",
      "Optimization terminated successfully    (Exit mode 0)\n",
      "            Current function value: -0.04778474537783652\n",
      "            Iterations: 10\n",
      "            Function evaluations: 300\n",
      "            Gradient evaluations: 10\n",
      "2020-05-21 00:00:00\n",
      "Optimization terminated successfully    (Exit mode 0)\n",
      "            Current function value: -0.07465843159501892\n",
      "            Iterations: 11\n",
      "            Function evaluations: 330\n",
      "            Gradient evaluations: 11\n",
      "2020-05-22 00:00:00\n",
      "Optimization terminated successfully    (Exit mode 0)\n",
      "            Current function value: -0.11500238447537708\n",
      "            Iterations: 10\n",
      "            Function evaluations: 300\n",
      "            Gradient evaluations: 10\n",
      "2020-05-25 00:00:00\n",
      "Optimization terminated successfully    (Exit mode 0)\n",
      "            Current function value: -0.1302287225418428\n",
      "            Iterations: 12\n",
      "            Function evaluations: 360\n",
      "            Gradient evaluations: 12\n",
      "2020-05-26 00:00:00\n",
      "Optimization terminated successfully    (Exit mode 0)\n",
      "            Current function value: -0.12776452519376766\n",
      "            Iterations: 13\n",
      "            Function evaluations: 390\n",
      "            Gradient evaluations: 13\n",
      "2020-05-27 00:00:00\n",
      "Optimization terminated successfully    (Exit mode 0)\n",
      "            Current function value: -0.13967646817687557\n",
      "            Iterations: 15\n",
      "            Function evaluations: 450\n",
      "            Gradient evaluations: 15\n",
      "2020-05-28 00:00:00\n",
      "Optimization terminated successfully    (Exit mode 0)\n",
      "            Current function value: -0.11230308981427894\n",
      "            Iterations: 19\n",
      "            Function evaluations: 570\n",
      "            Gradient evaluations: 19\n",
      "2020-05-29 00:00:00\n",
      "Optimization terminated successfully    (Exit mode 0)\n",
      "            Current function value: -0.13082672452166827\n",
      "            Iterations: 19\n",
      "            Function evaluations: 570\n",
      "            Gradient evaluations: 19\n",
      "2020-06-02 00:00:00\n",
      "Optimization terminated successfully    (Exit mode 0)\n",
      "            Current function value: -0.1199752657297924\n",
      "            Iterations: 18\n",
      "            Function evaluations: 540\n",
      "            Gradient evaluations: 18\n",
      "2020-06-03 00:00:00\n",
      "Optimization terminated successfully    (Exit mode 0)\n",
      "            Current function value: -0.12515985410158928\n",
      "            Iterations: 18\n",
      "            Function evaluations: 540\n",
      "            Gradient evaluations: 18\n",
      "2020-06-04 00:00:00\n",
      "Optimization terminated successfully    (Exit mode 0)\n",
      "            Current function value: -0.132568633489501\n",
      "            Iterations: 18\n",
      "            Function evaluations: 541\n",
      "            Gradient evaluations: 18\n",
      "2020-06-05 00:00:00\n",
      "Optimization terminated successfully    (Exit mode 0)\n",
      "            Current function value: -0.16438289385456334\n",
      "            Iterations: 16\n",
      "            Function evaluations: 480\n",
      "            Gradient evaluations: 16\n",
      "2020-06-08 00:00:00\n",
      "Optimization terminated successfully    (Exit mode 0)\n",
      "            Current function value: -0.2219978357959253\n",
      "            Iterations: 15\n",
      "            Function evaluations: 451\n",
      "            Gradient evaluations: 15\n",
      "2020-06-09 00:00:00\n",
      "Optimization terminated successfully    (Exit mode 0)\n",
      "            Current function value: -0.2106438901296509\n",
      "            Iterations: 17\n",
      "            Function evaluations: 510\n",
      "            Gradient evaluations: 17\n",
      "2020-06-10 00:00:00\n",
      "Optimization terminated successfully    (Exit mode 0)\n",
      "            Current function value: -0.22524608931125878\n",
      "            Iterations: 17\n",
      "            Function evaluations: 510\n",
      "            Gradient evaluations: 17\n",
      "2020-06-11 00:00:00\n",
      "Optimization terminated successfully    (Exit mode 0)\n",
      "            Current function value:"
     ]
    }
   ],
   "source": [
    "W_size=60\n",
    "AvgER_rolling = df_ER.rolling(W_size).mean()\n",
    "CovER_rolling = df_ER.rolling(W_size).cov()\n",
    "\n",
    "Backtest_R = pd.DataFrame(index=df_R.index,columns=[\"GMVP\",\"MSRP\",\"EW\",\"NMSRPnoSS\",\"NGMVPnoSS\"])\n",
    "\n",
    "for d in df_ER.index:\n",
    "    ER = AvgER_rolling.loc[d]\n",
    "    S = CovER_rolling.loc[d]\n",
    "    R = df_R.loc[d]\n",
    "    print(d)\n",
    "    Backtest_R.loc[d,\"GMVP\"]= pret(gmvp(S),R)\n",
    "    Backtest_R.loc[d,\"MSRP\"]= pret(msrp(ER,S),R)\n",
    "   # Backtest_R.loc[d,\"NGMVPnoSS\"]= pret(NGMVPnoSS(S).x,R)\n",
    "    Backtest_R.loc[d,\"NMSRPnoSS\"]= pret(NMSRPnoSS(ER,S).x,R)\n",
    "\n",
    "Backtest_R.loc[:,\"EW\"] = df_R.mean(axis=1) \n",
    "Backtest_R = Backtest_R.iloc[( W_size):]"
   ]
  },
  {
   "cell_type": "code",
   "execution_count": null,
   "metadata": {
    "scrolled": true
   },
   "outputs": [],
   "source": [
    "Backtest_R"
   ]
  },
  {
   "cell_type": "code",
   "execution_count": null,
   "metadata": {},
   "outputs": [],
   "source": [
    "plt.style.use('seaborn')\n",
    "CumRet = (1 + Backtest_R.divide(100)).cumprod()\n",
    "#CumRet['GMVP'].plot(alpha=0.75, linestyle=\"--\")\n",
    "CumRet['MSRP'].plot(alpha=0.75, linestyle=\"-.\")\n",
    "\n",
    "plt.legend()\n",
    "plt.title('Backtesting of optimal portfolios')\n",
    "plt.show()"
   ]
  },
  {
   "cell_type": "code",
   "execution_count": null,
   "metadata": {},
   "outputs": [],
   "source": [
    "Backtest_R.loc[\"2021-11\":,\"MSRP\"]"
   ]
  },
  {
   "cell_type": "code",
   "execution_count": null,
   "metadata": {},
   "outputs": [],
   "source": [
    "dax.loc[\"2021-09\":,\"ENR.DE\"]"
   ]
  },
  {
   "cell_type": "code",
   "execution_count": null,
   "metadata": {},
   "outputs": [],
   "source": []
  },
  {
   "cell_type": "code",
   "execution_count": null,
   "metadata": {},
   "outputs": [],
   "source": []
  },
  {
   "cell_type": "code",
   "execution_count": null,
   "metadata": {},
   "outputs": [],
   "source": [
    "Backtest_R.join(TS)"
   ]
  },
  {
   "cell_type": "code",
   "execution_count": null,
   "metadata": {},
   "outputs": [],
   "source": []
  }
 ],
 "metadata": {
  "kernelspec": {
   "display_name": "Python 3",
   "language": "python",
   "name": "python3"
  },
  "language_info": {
   "codemirror_mode": {
    "name": "ipython",
    "version": 3
   },
   "file_extension": ".py",
   "mimetype": "text/x-python",
   "name": "python",
   "nbconvert_exporter": "python",
   "pygments_lexer": "ipython3",
   "version": "3.9.7"
  }
 },
 "nbformat": 4,
 "nbformat_minor": 4
}
