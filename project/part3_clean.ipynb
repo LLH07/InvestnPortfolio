{
 "cells": [
  {
   "cell_type": "code",
   "execution_count": 1,
   "metadata": {},
   "outputs": [],
   "source": [
    "import yfinance as yf\n",
    "import pandas as pd"
   ]
  },
  {
   "cell_type": "code",
   "execution_count": 2,
   "metadata": {},
   "outputs": [
    {
     "name": "stdout",
     "output_type": "stream",
     "text": [
      "[*********************100%***********************]  1 of 1 completed\n",
      "ADS.DE\n",
      "[*********************100%***********************]  1 of 1 completed\n",
      "ALV.DE\n",
      "[*********************100%***********************]  1 of 1 completed\n",
      "BAS.DE\n",
      "[*********************100%***********************]  1 of 1 completed\n",
      "BAYN.DE\n",
      "[*********************100%***********************]  1 of 1 completed\n",
      "BMW.DE\n",
      "[*********************100%***********************]  1 of 1 completed\n",
      "CON.DE\n",
      "[*********************100%***********************]  1 of 1 completed\n",
      "1COV.DE\n",
      "[*********************100%***********************]  1 of 1 completed\n",
      "DAI.DE\n",
      "[*********************100%***********************]  1 of 1 completed\n",
      "DHER.DE\n",
      "[*********************100%***********************]  1 of 1 completed\n",
      "DBK.DE\n",
      "[*********************100%***********************]  1 of 1 completed\n",
      "DB1.DE\n",
      "[*********************100%***********************]  1 of 1 completed\n",
      "DPW.DE\n",
      "[*********************100%***********************]  1 of 1 completed\n",
      "DTE.DE\n",
      "[*********************100%***********************]  1 of 1 completed\n",
      "DWNI.DE\n",
      "[*********************100%***********************]  1 of 1 completed\n",
      "EOAN.DE\n",
      "[*********************100%***********************]  1 of 1 completed\n",
      "FRE.DE\n",
      "[*********************100%***********************]  1 of 1 completed\n",
      "FME.DE\n",
      "[*********************100%***********************]  1 of 1 completed\n",
      "HEI.DE\n",
      "[*********************100%***********************]  1 of 1 completed\n",
      "HEN3.DE\n",
      "[*********************100%***********************]  1 of 1 completed\n",
      "IFX.DE\n",
      "[*********************100%***********************]  1 of 1 completed\n",
      "LIN.DE\n",
      "[*********************100%***********************]  1 of 1 completed\n",
      "MRK.DE\n",
      "[*********************100%***********************]  1 of 1 completed\n",
      "MTX.DE\n",
      "[*********************100%***********************]  1 of 1 completed\n",
      "MUV2.DE\n",
      "[*********************100%***********************]  1 of 1 completed\n",
      "RWE.DE\n",
      "[*********************100%***********************]  1 of 1 completed\n",
      "SAP.DE\n",
      "[*********************100%***********************]  1 of 1 completed\n",
      "SIE.DE\n",
      "[*********************100%***********************]  1 of 1 completed\n",
      "ENR.DE\n",
      "[*********************100%***********************]  1 of 1 completed\n",
      "VOW3.DE\n",
      "[*********************100%***********************]  1 of 1 completed\n",
      "VNA.DE\n",
      "[*********************100%***********************]  1 of 1 completed\n"
     ]
    }
   ],
   "source": [
    "start_date = '2021-01-01'\n",
    "end_date = '2021-12-01'\n",
    "idx = '^GDAXI'\n",
    "\n",
    "Index = yf.download(idx,\n",
    "interval=\"1d\", # daily frequency\n",
    "start=start_date, end=end_date) \n",
    "\n",
    "page = pd.read_html('https://en.wikipedia.org/wiki/DAX')\n",
    "constit = page[3]['Ticker symbol']\n",
    "\n",
    "for i in constit:\n",
    "    print(i)\n",
    "    prc = yf.download(i, interval='1d', start=start_date, end=end_date)\n",
    "    prc = pd.DataFrame(prc['Adj Close'])\n",
    "    prc.columns = [i]\n",
    "\n",
    "    try:\n",
    "        df_prc = pd.concat([df_prc, prc], axis=1)\n",
    "    except:\n",
    "        df_prc = prc # only executes in the first i\n",
    "    \n",
    "    stk = yf.Ticker(i) # get the info of a particular stock\n",
    "    try:\n",
    "        stk.info['floatShares']\n",
    "    except:\n",
    "        stk.info['floatShares'] = None\n",
    "        \n",
    "    try:\n",
    "        stk.info['sharesOutstanding']\n",
    "    except:\n",
    "        stk.info['sharesOutstanding'] = None\n",
    "\n",
    "# calculate the market value of each constituent stocks\n",
    "if stk.info['floatShares']:\n",
    "    mcap = prc * stk.info['floatShares']\n",
    "elif stk.info['sharesOutstanding']:\n",
    "    mcap = prc * stk.info['sharesOutstanding']\n",
    "else:\n",
    "    mcap = prc * (stk.info['marketCap']/stk.info['previousClose'])\n",
    "\n",
    "try:\n",
    "    df_mcap = pd.concat([df_mcap, mcap], axis=1)\n",
    "except:\n",
    "    df_mcap = mcap # only executes in the first i"
   ]
  },
  {
   "cell_type": "code",
   "execution_count": 3,
   "metadata": {},
   "outputs": [],
   "source": [
    "page = pd.read_html('https://en.wikipedia.org/wiki/DAX')\n",
    "constit = page[3]['Ticker symbol']"
   ]
  },
  {
   "cell_type": "markdown",
   "metadata": {},
   "source": [
    "## 成分股每日報酬"
   ]
  },
  {
   "cell_type": "code",
   "execution_count": 4,
   "metadata": {},
   "outputs": [],
   "source": [
    "part3_df = df_prc.copy()\n",
    "constit_ret = part3_df.pct_change().dropna()\n"
   ]
  },
  {
   "cell_type": "markdown",
   "metadata": {},
   "source": [
    "## DAX30 每日報酬"
   ]
  },
  {
   "cell_type": "code",
   "execution_count": 5,
   "metadata": {},
   "outputs": [
    {
     "name": "stdout",
     "output_type": "stream",
     "text": [
      "[*********************100%***********************]  1 of 1 completed\n"
     ]
    },
    {
     "data": {
      "text/plain": [
       "Date\n",
       "2021-01-05   -0.005502\n",
       "2021-01-06    0.017636\n",
       "2021-01-07    0.005490\n",
       "2021-01-08    0.005820\n",
       "2021-01-11   -0.008034\n",
       "                ...   \n",
       "2021-11-24   -0.003678\n",
       "2021-11-25    0.002493\n",
       "2021-11-26   -0.041522\n",
       "2021-11-29    0.001561\n",
       "2021-11-30   -0.011827\n",
       "Name: DAX30_Return, Length: 233, dtype: float64"
      ]
     },
     "execution_count": 5,
     "metadata": {},
     "output_type": "execute_result"
    }
   ],
   "source": [
    "start_date = '2021-01-01'\n",
    "end_date = '2021-12-01'\n",
    "idx = '^GDAXI'\n",
    "\n",
    "Index = yf.download(idx,\n",
    "interval=\"1d\", # daily frequency\n",
    "start=start_date, end=end_date) \n",
    "\n",
    "Index.tail()\n",
    "Index.drop(columns=['Open', 'High', 'Low', 'Close', 'Volume'], inplace=True)\n",
    "\n",
    "idx_ret = Index['Adj Close'].pct_change().dropna()\n",
    "idx_ret.rename('DAX30_Return', inplace=True)\n",
    "idx_ret"
   ]
  },
  {
   "cell_type": "code",
   "execution_count": 6,
   "metadata": {},
   "outputs": [],
   "source": [
    "import datetime as dt\n",
    "i = 0\n",
    "for row in idx_ret.index:\n",
    "    new_idx = dt.datetime.strptime(str(row), '%Y-%m-%d %H:%M:%S').strftime('%Y-%m-%d')\n",
    "    idx_ret.rename(index={row:new_idx}, inplace=True)\n",
    "    "
   ]
  },
  {
   "cell_type": "code",
   "execution_count": 7,
   "metadata": {},
   "outputs": [
    {
     "name": "stdout",
     "output_type": "stream",
     "text": [
      "2021-01-05 <class 'str'>\n",
      "2021-01-06 <class 'str'>\n",
      "2021-01-07 <class 'str'>\n",
      "2021-01-08 <class 'str'>\n",
      "2021-01-11 <class 'str'>\n",
      "2021-01-12 <class 'str'>\n",
      "2021-01-13 <class 'str'>\n",
      "2021-01-14 <class 'str'>\n",
      "2021-01-15 <class 'str'>\n",
      "2021-01-18 <class 'str'>\n",
      "2021-01-19 <class 'str'>\n",
      "2021-01-20 <class 'str'>\n",
      "2021-01-21 <class 'str'>\n",
      "2021-01-22 <class 'str'>\n",
      "2021-01-25 <class 'str'>\n",
      "2021-01-26 <class 'str'>\n",
      "2021-01-27 <class 'str'>\n",
      "2021-01-28 <class 'str'>\n",
      "2021-01-29 <class 'str'>\n",
      "2021-02-01 <class 'str'>\n",
      "2021-02-02 <class 'str'>\n",
      "2021-02-03 <class 'str'>\n",
      "2021-02-04 <class 'str'>\n",
      "2021-02-05 <class 'str'>\n",
      "2021-02-08 <class 'str'>\n",
      "2021-02-09 <class 'str'>\n",
      "2021-02-10 <class 'str'>\n",
      "2021-02-11 <class 'str'>\n",
      "2021-02-12 <class 'str'>\n",
      "2021-02-15 <class 'str'>\n",
      "2021-02-16 <class 'str'>\n",
      "2021-02-17 <class 'str'>\n",
      "2021-02-18 <class 'str'>\n",
      "2021-02-19 <class 'str'>\n",
      "2021-02-22 <class 'str'>\n",
      "2021-02-23 <class 'str'>\n",
      "2021-02-24 <class 'str'>\n",
      "2021-02-25 <class 'str'>\n",
      "2021-02-26 <class 'str'>\n",
      "2021-03-01 <class 'str'>\n",
      "2021-03-02 <class 'str'>\n",
      "2021-03-03 <class 'str'>\n",
      "2021-03-04 <class 'str'>\n",
      "2021-03-05 <class 'str'>\n",
      "2021-03-08 <class 'str'>\n",
      "2021-03-09 <class 'str'>\n",
      "2021-03-10 <class 'str'>\n",
      "2021-03-11 <class 'str'>\n",
      "2021-03-12 <class 'str'>\n",
      "2021-03-15 <class 'str'>\n",
      "2021-03-16 <class 'str'>\n",
      "2021-03-17 <class 'str'>\n",
      "2021-03-18 <class 'str'>\n",
      "2021-03-19 <class 'str'>\n",
      "2021-03-22 <class 'str'>\n",
      "2021-03-23 <class 'str'>\n",
      "2021-03-24 <class 'str'>\n",
      "2021-03-25 <class 'str'>\n",
      "2021-03-26 <class 'str'>\n",
      "2021-03-29 <class 'str'>\n",
      "2021-03-30 <class 'str'>\n",
      "2021-03-31 <class 'str'>\n",
      "2021-04-01 <class 'str'>\n",
      "2021-04-06 <class 'str'>\n",
      "2021-04-07 <class 'str'>\n",
      "2021-04-08 <class 'str'>\n",
      "2021-04-09 <class 'str'>\n",
      "2021-04-12 <class 'str'>\n",
      "2021-04-13 <class 'str'>\n",
      "2021-04-14 <class 'str'>\n",
      "2021-04-15 <class 'str'>\n",
      "2021-04-16 <class 'str'>\n",
      "2021-04-19 <class 'str'>\n",
      "2021-04-20 <class 'str'>\n",
      "2021-04-21 <class 'str'>\n",
      "2021-04-22 <class 'str'>\n",
      "2021-04-23 <class 'str'>\n",
      "2021-04-26 <class 'str'>\n",
      "2021-04-27 <class 'str'>\n",
      "2021-04-28 <class 'str'>\n",
      "2021-04-29 <class 'str'>\n",
      "2021-04-30 <class 'str'>\n",
      "2021-05-03 <class 'str'>\n",
      "2021-05-04 <class 'str'>\n",
      "2021-05-05 <class 'str'>\n",
      "2021-05-06 <class 'str'>\n",
      "2021-05-07 <class 'str'>\n",
      "2021-05-10 <class 'str'>\n",
      "2021-05-11 <class 'str'>\n",
      "2021-05-12 <class 'str'>\n",
      "2021-05-13 <class 'str'>\n",
      "2021-05-14 <class 'str'>\n",
      "2021-05-17 <class 'str'>\n",
      "2021-05-18 <class 'str'>\n",
      "2021-05-19 <class 'str'>\n",
      "2021-05-20 <class 'str'>\n",
      "2021-05-21 <class 'str'>\n",
      "2021-05-25 <class 'str'>\n",
      "2021-05-26 <class 'str'>\n",
      "2021-05-27 <class 'str'>\n",
      "2021-05-28 <class 'str'>\n",
      "2021-05-31 <class 'str'>\n",
      "2021-06-01 <class 'str'>\n",
      "2021-06-02 <class 'str'>\n",
      "2021-06-03 <class 'str'>\n",
      "2021-06-04 <class 'str'>\n",
      "2021-06-07 <class 'str'>\n",
      "2021-06-08 <class 'str'>\n",
      "2021-06-09 <class 'str'>\n",
      "2021-06-10 <class 'str'>\n",
      "2021-06-11 <class 'str'>\n",
      "2021-06-14 <class 'str'>\n",
      "2021-06-15 <class 'str'>\n",
      "2021-06-16 <class 'str'>\n",
      "2021-06-17 <class 'str'>\n",
      "2021-06-18 <class 'str'>\n",
      "2021-06-21 <class 'str'>\n",
      "2021-06-22 <class 'str'>\n",
      "2021-06-23 <class 'str'>\n",
      "2021-06-24 <class 'str'>\n",
      "2021-06-25 <class 'str'>\n",
      "2021-06-28 <class 'str'>\n",
      "2021-06-29 <class 'str'>\n",
      "2021-06-30 <class 'str'>\n",
      "2021-07-01 <class 'str'>\n",
      "2021-07-02 <class 'str'>\n",
      "2021-07-05 <class 'str'>\n",
      "2021-07-06 <class 'str'>\n",
      "2021-07-07 <class 'str'>\n",
      "2021-07-08 <class 'str'>\n",
      "2021-07-09 <class 'str'>\n",
      "2021-07-12 <class 'str'>\n",
      "2021-07-13 <class 'str'>\n",
      "2021-07-14 <class 'str'>\n",
      "2021-07-15 <class 'str'>\n",
      "2021-07-16 <class 'str'>\n",
      "2021-07-19 <class 'str'>\n",
      "2021-07-20 <class 'str'>\n",
      "2021-07-21 <class 'str'>\n",
      "2021-07-22 <class 'str'>\n",
      "2021-07-23 <class 'str'>\n",
      "2021-07-26 <class 'str'>\n",
      "2021-07-27 <class 'str'>\n",
      "2021-07-28 <class 'str'>\n",
      "2021-07-29 <class 'str'>\n",
      "2021-07-30 <class 'str'>\n",
      "2021-08-02 <class 'str'>\n",
      "2021-08-03 <class 'str'>\n",
      "2021-08-04 <class 'str'>\n",
      "2021-08-05 <class 'str'>\n",
      "2021-08-06 <class 'str'>\n",
      "2021-08-09 <class 'str'>\n",
      "2021-08-10 <class 'str'>\n",
      "2021-08-11 <class 'str'>\n",
      "2021-08-12 <class 'str'>\n",
      "2021-08-13 <class 'str'>\n",
      "2021-08-16 <class 'str'>\n",
      "2021-08-17 <class 'str'>\n",
      "2021-08-18 <class 'str'>\n",
      "2021-08-19 <class 'str'>\n",
      "2021-08-20 <class 'str'>\n",
      "2021-08-23 <class 'str'>\n",
      "2021-08-24 <class 'str'>\n",
      "2021-08-25 <class 'str'>\n",
      "2021-08-26 <class 'str'>\n",
      "2021-08-27 <class 'str'>\n",
      "2021-08-30 <class 'str'>\n",
      "2021-08-31 <class 'str'>\n",
      "2021-09-01 <class 'str'>\n",
      "2021-09-02 <class 'str'>\n",
      "2021-09-03 <class 'str'>\n",
      "2021-09-06 <class 'str'>\n",
      "2021-09-07 <class 'str'>\n",
      "2021-09-08 <class 'str'>\n",
      "2021-09-09 <class 'str'>\n",
      "2021-09-10 <class 'str'>\n",
      "2021-09-13 <class 'str'>\n",
      "2021-09-14 <class 'str'>\n",
      "2021-09-15 <class 'str'>\n",
      "2021-09-16 <class 'str'>\n",
      "2021-09-17 <class 'str'>\n",
      "2021-09-20 <class 'str'>\n",
      "2021-09-21 <class 'str'>\n",
      "2021-09-22 <class 'str'>\n",
      "2021-09-23 <class 'str'>\n",
      "2021-09-24 <class 'str'>\n",
      "2021-09-27 <class 'str'>\n",
      "2021-09-28 <class 'str'>\n",
      "2021-09-29 <class 'str'>\n",
      "2021-09-30 <class 'str'>\n",
      "2021-10-01 <class 'str'>\n",
      "2021-10-04 <class 'str'>\n",
      "2021-10-05 <class 'str'>\n",
      "2021-10-06 <class 'str'>\n",
      "2021-10-07 <class 'str'>\n",
      "2021-10-08 <class 'str'>\n",
      "2021-10-11 <class 'str'>\n",
      "2021-10-12 <class 'str'>\n",
      "2021-10-13 <class 'str'>\n",
      "2021-10-14 <class 'str'>\n",
      "2021-10-15 <class 'str'>\n",
      "2021-10-18 <class 'str'>\n",
      "2021-10-19 <class 'str'>\n",
      "2021-10-20 <class 'str'>\n",
      "2021-10-21 <class 'str'>\n",
      "2021-10-22 <class 'str'>\n",
      "2021-10-25 <class 'str'>\n",
      "2021-10-26 <class 'str'>\n",
      "2021-10-27 <class 'str'>\n",
      "2021-10-28 <class 'str'>\n",
      "2021-10-29 <class 'str'>\n",
      "2021-11-01 <class 'str'>\n",
      "2021-11-02 <class 'str'>\n",
      "2021-11-03 <class 'str'>\n",
      "2021-11-04 <class 'str'>\n",
      "2021-11-05 <class 'str'>\n",
      "2021-11-08 <class 'str'>\n",
      "2021-11-09 <class 'str'>\n",
      "2021-11-10 <class 'str'>\n",
      "2021-11-11 <class 'str'>\n",
      "2021-11-12 <class 'str'>\n",
      "2021-11-15 <class 'str'>\n",
      "2021-11-16 <class 'str'>\n",
      "2021-11-17 <class 'str'>\n",
      "2021-11-18 <class 'str'>\n",
      "2021-11-19 <class 'str'>\n",
      "2021-11-22 <class 'str'>\n",
      "2021-11-23 <class 'str'>\n",
      "2021-11-24 <class 'str'>\n",
      "2021-11-25 <class 'str'>\n",
      "2021-11-26 <class 'str'>\n",
      "2021-11-29 <class 'str'>\n",
      "2021-11-30 <class 'str'>\n"
     ]
    }
   ],
   "source": [
    "for i in idx_ret.index:\n",
    "    print(i, type(i))"
   ]
  },
  {
   "cell_type": "markdown",
   "metadata": {},
   "source": [
    "## 取得 risk-free rate (Germany 10 year bond yield)"
   ]
  },
  {
   "cell_type": "code",
   "execution_count": 8,
   "metadata": {},
   "outputs": [],
   "source": [
    "rf = pd.read_csv(\"Germany-10Y-yield.csv\")\n",
    "rf.drop(columns=['Open', 'High', 'Low'], inplace=True)"
   ]
  },
  {
   "cell_type": "code",
   "execution_count": 9,
   "metadata": {},
   "outputs": [],
   "source": [
    "# change percentage point string to float\n",
    "i = 0\n",
    "for r in rf['Close']:\n",
    "    p2f = float(r.strip('%')) / 100\n",
    "    rf.loc[i, 'Close'] = p2f\n",
    "    i += 1"
   ]
  },
  {
   "cell_type": "code",
   "execution_count": 10,
   "metadata": {},
   "outputs": [],
   "source": [
    "# reverse the dataframe\n",
    "rev_rf = rf.iloc[::-1].reset_index(drop=True)"
   ]
  },
  {
   "cell_type": "code",
   "execution_count": 11,
   "metadata": {},
   "outputs": [
    {
     "data": {
      "text/html": [
       "<div>\n",
       "<style scoped>\n",
       "    .dataframe tbody tr th:only-of-type {\n",
       "        vertical-align: middle;\n",
       "    }\n",
       "\n",
       "    .dataframe tbody tr th {\n",
       "        vertical-align: top;\n",
       "    }\n",
       "\n",
       "    .dataframe thead th {\n",
       "        text-align: right;\n",
       "    }\n",
       "</style>\n",
       "<table border=\"1\" class=\"dataframe\">\n",
       "  <thead>\n",
       "    <tr style=\"text-align: right;\">\n",
       "      <th></th>\n",
       "      <th>Date</th>\n",
       "      <th>Close</th>\n",
       "    </tr>\n",
       "  </thead>\n",
       "  <tbody>\n",
       "    <tr>\n",
       "      <th>0</th>\n",
       "      <td>01/04/2021</td>\n",
       "      <td>0.00605</td>\n",
       "    </tr>\n",
       "    <tr>\n",
       "      <th>1</th>\n",
       "      <td>01/05/2021</td>\n",
       "      <td>0.00571</td>\n",
       "    </tr>\n",
       "    <tr>\n",
       "      <th>2</th>\n",
       "      <td>01/06/2021</td>\n",
       "      <td>0.00552</td>\n",
       "    </tr>\n",
       "    <tr>\n",
       "      <th>3</th>\n",
       "      <td>01/07/2021</td>\n",
       "      <td>0.00552</td>\n",
       "    </tr>\n",
       "    <tr>\n",
       "      <th>4</th>\n",
       "      <td>01/08/2021</td>\n",
       "      <td>0.00518</td>\n",
       "    </tr>\n",
       "    <tr>\n",
       "      <th>...</th>\n",
       "      <td>...</td>\n",
       "      <td>...</td>\n",
       "    </tr>\n",
       "    <tr>\n",
       "      <th>231</th>\n",
       "      <td>11/24/2021</td>\n",
       "      <td>0.00225</td>\n",
       "    </tr>\n",
       "    <tr>\n",
       "      <th>232</th>\n",
       "      <td>11/25/2021</td>\n",
       "      <td>0.00249</td>\n",
       "    </tr>\n",
       "    <tr>\n",
       "      <th>233</th>\n",
       "      <td>11/26/2021</td>\n",
       "      <td>0.00334</td>\n",
       "    </tr>\n",
       "    <tr>\n",
       "      <th>234</th>\n",
       "      <td>11/29/2021</td>\n",
       "      <td>0.00316</td>\n",
       "    </tr>\n",
       "    <tr>\n",
       "      <th>235</th>\n",
       "      <td>11/30/2021</td>\n",
       "      <td>0.00349</td>\n",
       "    </tr>\n",
       "  </tbody>\n",
       "</table>\n",
       "<p>236 rows × 2 columns</p>\n",
       "</div>"
      ],
      "text/plain": [
       "           Date    Close\n",
       "0    01/04/2021  0.00605\n",
       "1    01/05/2021  0.00571\n",
       "2    01/06/2021  0.00552\n",
       "3    01/07/2021  0.00552\n",
       "4    01/08/2021  0.00518\n",
       "..          ...      ...\n",
       "231  11/24/2021  0.00225\n",
       "232  11/25/2021  0.00249\n",
       "233  11/26/2021  0.00334\n",
       "234  11/29/2021  0.00316\n",
       "235  11/30/2021  0.00349\n",
       "\n",
       "[236 rows x 2 columns]"
      ]
     },
     "execution_count": 11,
     "metadata": {},
     "output_type": "execute_result"
    }
   ],
   "source": [
    "rev_rf"
   ]
  },
  {
   "cell_type": "code",
   "execution_count": 12,
   "metadata": {},
   "outputs": [],
   "source": [
    "# change date format to match with idx_ret and constit_ret\n",
    "import datetime as dt\n",
    "tmp = pd.DataFrame()\n",
    "i = 0\n",
    "for row in rev_rf['Date']:\n",
    "    row_fmt = dt.datetime.strptime(row,'%m/%d/%Y').strftime('%m-%d-%Y')\n",
    "    tmp.loc[i, 'Date'] = row_fmt\n",
    "    i += 1  \n",
    "#tmp.index += 1 # shift the index by 1 so that it corresponds to rf\n",
    "type(tmp)\n",
    "\n",
    "rev_rf.drop(columns=['Date'], inplace=True)\n",
    "rf = pd.concat([rev_rf, tmp], axis=1)\n",
    "rf.set_index('Date', inplace=True)"
   ]
  },
  {
   "cell_type": "markdown",
   "metadata": {},
   "source": [
    ".strptime(i, '%Y-%m-%d')"
   ]
  },
  {
   "cell_type": "markdown",
   "metadata": {},
   "source": [
    "strftime('%m-%d-%Y')"
   ]
  },
  {
   "cell_type": "code",
   "execution_count": 13,
   "metadata": {},
   "outputs": [
    {
     "ename": "TypeError",
     "evalue": "descriptor 'strftime' for 'datetime.date' objects doesn't apply to a 'str' object",
     "output_type": "error",
     "traceback": [
      "\u001b[1;31m---------------------------------------------------------------------------\u001b[0m",
      "\u001b[1;31mTypeError\u001b[0m                                 Traceback (most recent call last)",
      "\u001b[1;32m~\\AppData\\Local\\Temp/ipykernel_15620/3172983405.py\u001b[0m in \u001b[0;36m<module>\u001b[1;34m\u001b[0m\n\u001b[0;32m      6\u001b[0m \u001b[1;33m\u001b[0m\u001b[0m\n\u001b[0;32m      7\u001b[0m \u001b[1;32mfor\u001b[0m \u001b[0mi\u001b[0m \u001b[1;32min\u001b[0m \u001b[0mconstit_ret\u001b[0m\u001b[1;33m.\u001b[0m\u001b[0mindex\u001b[0m\u001b[1;33m:\u001b[0m\u001b[1;33m\u001b[0m\u001b[1;33m\u001b[0m\u001b[0m\n\u001b[1;32m----> 8\u001b[1;33m     \u001b[0mi\u001b[0m \u001b[1;33m=\u001b[0m \u001b[0mdt\u001b[0m\u001b[1;33m.\u001b[0m\u001b[0mdatetime\u001b[0m\u001b[1;33m.\u001b[0m\u001b[0mstrftime\u001b[0m\u001b[1;33m(\u001b[0m\u001b[1;34m'%m-%d-%Y'\u001b[0m\u001b[1;33m)\u001b[0m\u001b[1;33m\u001b[0m\u001b[1;33m\u001b[0m\u001b[0m\n\u001b[0m\u001b[0;32m      9\u001b[0m     \u001b[0mconstit_l\u001b[0m\u001b[1;33m.\u001b[0m\u001b[0mappend\u001b[0m\u001b[1;33m(\u001b[0m\u001b[0mi\u001b[0m\u001b[1;33m)\u001b[0m\u001b[1;33m\u001b[0m\u001b[1;33m\u001b[0m\u001b[0m\n\u001b[0;32m     10\u001b[0m \u001b[1;32mfor\u001b[0m \u001b[0mj\u001b[0m \u001b[1;32min\u001b[0m \u001b[0mrf\u001b[0m\u001b[1;33m.\u001b[0m\u001b[0mindex\u001b[0m\u001b[1;33m:\u001b[0m\u001b[1;33m\u001b[0m\u001b[1;33m\u001b[0m\u001b[0m\n",
      "\u001b[1;31mTypeError\u001b[0m: descriptor 'strftime' for 'datetime.date' objects doesn't apply to a 'str' object"
     ]
    }
   ],
   "source": [
    "# find out why rf has more data than constit_ret and idx_ret\n",
    "# constit_ret.index = constit_ret.index.date\n",
    "\n",
    "constit_l = []\n",
    "rf_l = []\n",
    "\n",
    "for i in constit_ret.index:\n",
    "    i = dt.datetime.strftime('%m-%d-%Y')\n",
    "    constit_l.append(i)\n",
    "for j in rf.index:\n",
    "    rf_l.append(j)\n",
    "\n",
    "# 十年期公債的開市日比 DAX30 多兩天\n",
    "len(rf_l) - len(constit_l) \n",
    "list(set(constit_l) - set(rf_l)) + list(set(rf_l) - set(constit_l))"
   ]
  },
  {
   "cell_type": "markdown",
   "metadata": {},
   "source": [
    "![DAX 休市日](data:image/png;base64,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)"
   ]
  },
  {
   "cell_type": "code",
   "execution_count": null,
   "metadata": {},
   "outputs": [],
   "source": [
    "# delete '05-24-2021' and '01-04-2021'\n",
    "update_rf = rf.drop(['05-24-2021', '04-04-2021'])"
   ]
  },
  {
   "cell_type": "code",
   "execution_count": null,
   "metadata": {},
   "outputs": [
    {
     "data": {
      "text/html": [
       "<div>\n",
       "<style scoped>\n",
       "    .dataframe tbody tr th:only-of-type {\n",
       "        vertical-align: middle;\n",
       "    }\n",
       "\n",
       "    .dataframe tbody tr th {\n",
       "        vertical-align: top;\n",
       "    }\n",
       "\n",
       "    .dataframe thead th {\n",
       "        text-align: right;\n",
       "    }\n",
       "</style>\n",
       "<table border=\"1\" class=\"dataframe\">\n",
       "  <thead>\n",
       "    <tr style=\"text-align: right;\">\n",
       "      <th></th>\n",
       "      <th>Close</th>\n",
       "    </tr>\n",
       "    <tr>\n",
       "      <th>Date</th>\n",
       "      <th></th>\n",
       "    </tr>\n",
       "  </thead>\n",
       "  <tbody>\n",
       "    <tr>\n",
       "      <th>01-04-2021</th>\n",
       "      <td>0.00605</td>\n",
       "    </tr>\n",
       "    <tr>\n",
       "      <th>01-05-2021</th>\n",
       "      <td>0.00571</td>\n",
       "    </tr>\n",
       "    <tr>\n",
       "      <th>01-06-2021</th>\n",
       "      <td>0.00552</td>\n",
       "    </tr>\n",
       "  </tbody>\n",
       "</table>\n",
       "</div>"
      ],
      "text/plain": [
       "              Close\n",
       "Date               \n",
       "01-04-2021  0.00605\n",
       "01-05-2021  0.00571\n",
       "01-06-2021  0.00552"
      ]
     },
     "execution_count": 57,
     "metadata": {},
     "output_type": "execute_result"
    }
   ],
   "source": [
    "update_rf.head(3)"
   ]
  },
  {
   "cell_type": "code",
   "execution_count": null,
   "metadata": {},
   "outputs": [
    {
     "data": {
      "text/plain": [
       "['01-04-2021']"
      ]
     },
     "execution_count": 59,
     "metadata": {},
     "output_type": "execute_result"
    }
   ],
   "source": [
    "# find out why rf has more data than constit_ret and idx_ret\n",
    "# constit_ret.index = constit_ret.index.date\n",
    "\n",
    "constit_l = []\n",
    "rf_l = []\n",
    "\n",
    "for i in constit_ret.index:\n",
    "    i = dt.datetime.strptime(i, '%Y-%m-%d').strftime('%m-%d-%Y')\n",
    "    constit_l.append(i)\n",
    "for j in update_rf.index:\n",
    "    rf_l.append(j)\n",
    "\n",
    "# 十年期公債的開市日比 DAX30 多兩天\n",
    "len(rf_l) - len(constit_l) \n",
    "list(set(constit_l) - set(rf_l)) + list(set(rf_l) - set(constit_l))"
   ]
  },
  {
   "cell_type": "code",
   "execution_count": null,
   "metadata": {},
   "outputs": [
    {
     "data": {
      "text/html": [
       "<div>\n",
       "<style scoped>\n",
       "    .dataframe tbody tr th:only-of-type {\n",
       "        vertical-align: middle;\n",
       "    }\n",
       "\n",
       "    .dataframe tbody tr th {\n",
       "        vertical-align: top;\n",
       "    }\n",
       "\n",
       "    .dataframe thead th {\n",
       "        text-align: right;\n",
       "    }\n",
       "</style>\n",
       "<table border=\"1\" class=\"dataframe\">\n",
       "  <thead>\n",
       "    <tr style=\"text-align: right;\">\n",
       "      <th></th>\n",
       "      <th>Close</th>\n",
       "    </tr>\n",
       "    <tr>\n",
       "      <th>Date</th>\n",
       "      <th></th>\n",
       "    </tr>\n",
       "  </thead>\n",
       "  <tbody>\n",
       "    <tr>\n",
       "      <th>01-04-2021</th>\n",
       "      <td>0.00605</td>\n",
       "    </tr>\n",
       "    <tr>\n",
       "      <th>01-05-2021</th>\n",
       "      <td>0.00571</td>\n",
       "    </tr>\n",
       "    <tr>\n",
       "      <th>01-06-2021</th>\n",
       "      <td>0.00552</td>\n",
       "    </tr>\n",
       "    <tr>\n",
       "      <th>01-07-2021</th>\n",
       "      <td>0.00552</td>\n",
       "    </tr>\n",
       "    <tr>\n",
       "      <th>01-08-2021</th>\n",
       "      <td>0.00518</td>\n",
       "    </tr>\n",
       "    <tr>\n",
       "      <th>...</th>\n",
       "      <td>...</td>\n",
       "    </tr>\n",
       "    <tr>\n",
       "      <th>11-24-2021</th>\n",
       "      <td>0.00225</td>\n",
       "    </tr>\n",
       "    <tr>\n",
       "      <th>11-25-2021</th>\n",
       "      <td>0.00249</td>\n",
       "    </tr>\n",
       "    <tr>\n",
       "      <th>11-26-2021</th>\n",
       "      <td>0.00334</td>\n",
       "    </tr>\n",
       "    <tr>\n",
       "      <th>11-29-2021</th>\n",
       "      <td>0.00316</td>\n",
       "    </tr>\n",
       "    <tr>\n",
       "      <th>11-30-2021</th>\n",
       "      <td>0.00349</td>\n",
       "    </tr>\n",
       "  </tbody>\n",
       "</table>\n",
       "<p>234 rows × 1 columns</p>\n",
       "</div>"
      ],
      "text/plain": [
       "              Close\n",
       "Date               \n",
       "01-04-2021  0.00605\n",
       "01-05-2021  0.00571\n",
       "01-06-2021  0.00552\n",
       "01-07-2021  0.00552\n",
       "01-08-2021  0.00518\n",
       "...             ...\n",
       "11-24-2021  0.00225\n",
       "11-25-2021  0.00249\n",
       "11-26-2021  0.00334\n",
       "11-29-2021  0.00316\n",
       "11-30-2021  0.00349\n",
       "\n",
       "[234 rows x 1 columns]"
      ]
     },
     "execution_count": 60,
     "metadata": {},
     "output_type": "execute_result"
    }
   ],
   "source": [
    "update_rf"
   ]
  },
  {
   "cell_type": "code",
   "execution_count": null,
   "metadata": {},
   "outputs": [
    {
     "data": {
      "text/html": [
       "<div>\n",
       "<style scoped>\n",
       "    .dataframe tbody tr th:only-of-type {\n",
       "        vertical-align: middle;\n",
       "    }\n",
       "\n",
       "    .dataframe tbody tr th {\n",
       "        vertical-align: top;\n",
       "    }\n",
       "\n",
       "    .dataframe thead th {\n",
       "        text-align: right;\n",
       "    }\n",
       "</style>\n",
       "<table border=\"1\" class=\"dataframe\">\n",
       "  <thead>\n",
       "    <tr style=\"text-align: right;\">\n",
       "      <th></th>\n",
       "      <th>Close</th>\n",
       "    </tr>\n",
       "    <tr>\n",
       "      <th>Date</th>\n",
       "      <th></th>\n",
       "    </tr>\n",
       "  </thead>\n",
       "  <tbody>\n",
       "    <tr>\n",
       "      <th>2021-01-04</th>\n",
       "      <td>0.00605</td>\n",
       "    </tr>\n",
       "    <tr>\n",
       "      <th>2021-01-05</th>\n",
       "      <td>0.00571</td>\n",
       "    </tr>\n",
       "    <tr>\n",
       "      <th>2021-01-06</th>\n",
       "      <td>0.00552</td>\n",
       "    </tr>\n",
       "    <tr>\n",
       "      <th>2021-01-07</th>\n",
       "      <td>0.00552</td>\n",
       "    </tr>\n",
       "    <tr>\n",
       "      <th>2021-01-08</th>\n",
       "      <td>0.00518</td>\n",
       "    </tr>\n",
       "  </tbody>\n",
       "</table>\n",
       "</div>"
      ],
      "text/plain": [
       "              Close\n",
       "Date               \n",
       "2021-01-04  0.00605\n",
       "2021-01-05  0.00571\n",
       "2021-01-06  0.00552\n",
       "2021-01-07  0.00552\n",
       "2021-01-08  0.00518"
      ]
     },
     "execution_count": 61,
     "metadata": {},
     "output_type": "execute_result"
    }
   ],
   "source": [
    "from datetime import datetime\n",
    "for row in update_rf.index:\n",
    "    new_idx = dt.datetime.strptime(row, '%m-%d-%Y').strftime('%Y-%m-%d')\n",
    "    update_rf.rename(index={row:new_idx}, inplace=True)\n",
    "update_rf.head()"
   ]
  },
  {
   "cell_type": "code",
   "execution_count": null,
   "metadata": {},
   "outputs": [],
   "source": [
    "# pct_change()\n",
    "update_rf['Close'] = update_rf['Close'].pct_change()\n",
    "update_rf.dropna(inplace=True)\n",
    "update_rf.rename(columns={'Close':'DE_10Y_Return'}, inplace=True)"
   ]
  },
  {
   "cell_type": "code",
   "execution_count": null,
   "metadata": {},
   "outputs": [
    {
     "name": "stdout",
     "output_type": "stream",
     "text": [
      "(233, 1)\n",
      "(233, 30)\n",
      "(233,)\n"
     ]
    }
   ],
   "source": [
    "print(update_rf.shape)\n",
    "print(constit_ret.shape)\n",
    "print(idx_ret.shape)"
   ]
  },
  {
   "cell_type": "code",
   "execution_count": null,
   "metadata": {},
   "outputs": [],
   "source": [
    "# constit_ret.index = constit_ret.index.strptime('%Y-%m-%d')"
   ]
  },
  {
   "cell_type": "code",
   "execution_count": null,
   "metadata": {},
   "outputs": [],
   "source": [
    "all = constit_ret.join(update_rf)"
   ]
  },
  {
   "cell_type": "code",
   "execution_count": null,
   "metadata": {},
   "outputs": [],
   "source": [
    "all = all.join(idx_ret)"
   ]
  },
  {
   "cell_type": "markdown",
   "metadata": {},
   "source": [
    "---"
   ]
  },
  {
   "cell_type": "code",
   "execution_count": null,
   "metadata": {},
   "outputs": [
    {
     "ename": "AttributeError",
     "evalue": "'builtin_function_or_method' object has no attribute 'columns'",
     "output_type": "error",
     "traceback": [
      "\u001b[1;31m---------------------------------------------------------------------------\u001b[0m",
      "\u001b[1;31mAttributeError\u001b[0m                            Traceback (most recent call last)",
      "\u001b[1;32m~\\AppData\\Local\\Temp/ipykernel_17560/2442522313.py\u001b[0m in \u001b[0;36m<module>\u001b[1;34m\u001b[0m\n\u001b[1;32m----> 1\u001b[1;33m \u001b[0mall\u001b[0m\u001b[1;33m.\u001b[0m\u001b[0mcolumns\u001b[0m\u001b[1;33m\u001b[0m\u001b[1;33m\u001b[0m\u001b[0m\n\u001b[0m",
      "\u001b[1;31mAttributeError\u001b[0m: 'builtin_function_or_method' object has no attribute 'columns'"
     ]
    }
   ],
   "source": [
    "all.columns"
   ]
  },
  {
   "cell_type": "code",
   "execution_count": null,
   "metadata": {},
   "outputs": [
    {
     "ename": "TypeError",
     "evalue": "'builtin_function_or_method' object is not subscriptable",
     "output_type": "error",
     "traceback": [
      "\u001b[1;31m---------------------------------------------------------------------------\u001b[0m",
      "\u001b[1;31mTypeError\u001b[0m                                 Traceback (most recent call last)",
      "\u001b[1;32m~\\AppData\\Local\\Temp/ipykernel_17560/2646726305.py\u001b[0m in \u001b[0;36m<module>\u001b[1;34m\u001b[0m\n\u001b[1;32m----> 1\u001b[1;33m \u001b[0mall\u001b[0m\u001b[1;33m[\u001b[0m\u001b[0mall\u001b[0m\u001b[1;33m[\u001b[0m\u001b[1;34m'DE_10Y_Return'\u001b[0m\u001b[1;33m]\u001b[0m \u001b[1;33m>\u001b[0m \u001b[1;36m0\u001b[0m\u001b[1;33m]\u001b[0m\u001b[1;33m\u001b[0m\u001b[1;33m\u001b[0m\u001b[0m\n\u001b[0m",
      "\u001b[1;31mTypeError\u001b[0m: 'builtin_function_or_method' object is not subscriptable"
     ]
    }
   ],
   "source": [
    "all[all['DE_10Y_Return'] > 0]"
   ]
  },
  {
   "cell_type": "markdown",
   "metadata": {},
   "source": [
    "## Linear Regression"
   ]
  },
  {
   "cell_type": "markdown",
   "metadata": {},
   "source": [
    "### Check for one stock first"
   ]
  },
  {
   "cell_type": "code",
   "execution_count": null,
   "metadata": {},
   "outputs": [],
   "source": [
    "import statsmodels.formula.api as smf\n",
    "Y = all['BMW.DE'] - all['DE_10Y_Return'] # 被解釋變數\n",
    "X = all['DAX30_Return'] - all['DE_10Y_Return']# 解釋變數\n",
    "\n",
    "reg_df = pd.DataFrame([Y, X], index=['R', 'MKT']).T"
   ]
  },
  {
   "cell_type": "code",
   "execution_count": null,
   "metadata": {},
   "outputs": [
    {
     "data": {
      "text/html": [
       "<div>\n",
       "<style scoped>\n",
       "    .dataframe tbody tr th:only-of-type {\n",
       "        vertical-align: middle;\n",
       "    }\n",
       "\n",
       "    .dataframe tbody tr th {\n",
       "        vertical-align: top;\n",
       "    }\n",
       "\n",
       "    .dataframe thead th {\n",
       "        text-align: right;\n",
       "    }\n",
       "</style>\n",
       "<table border=\"1\" class=\"dataframe\">\n",
       "  <thead>\n",
       "    <tr style=\"text-align: right;\">\n",
       "      <th></th>\n",
       "      <th>R</th>\n",
       "      <th>MKT</th>\n",
       "    </tr>\n",
       "    <tr>\n",
       "      <th>Date</th>\n",
       "      <th></th>\n",
       "      <th></th>\n",
       "    </tr>\n",
       "  </thead>\n",
       "  <tbody>\n",
       "    <tr>\n",
       "      <th>2021-01-05</th>\n",
       "      <td>0.042282</td>\n",
       "      <td>0.050697</td>\n",
       "    </tr>\n",
       "    <tr>\n",
       "      <th>2021-01-06</th>\n",
       "      <td>0.035110</td>\n",
       "      <td>0.050911</td>\n",
       "    </tr>\n",
       "    <tr>\n",
       "      <th>2021-01-07</th>\n",
       "      <td>0.000423</td>\n",
       "      <td>0.005490</td>\n",
       "    </tr>\n",
       "    <tr>\n",
       "      <th>2021-01-08</th>\n",
       "      <td>0.054132</td>\n",
       "      <td>0.067414</td>\n",
       "    </tr>\n",
       "    <tr>\n",
       "      <th>2021-01-11</th>\n",
       "      <td>0.029450</td>\n",
       "      <td>0.038298</td>\n",
       "    </tr>\n",
       "    <tr>\n",
       "      <th>...</th>\n",
       "      <td>...</td>\n",
       "      <td>...</td>\n",
       "    </tr>\n",
       "    <tr>\n",
       "      <th>2021-11-24</th>\n",
       "      <td>-0.048045</td>\n",
       "      <td>-0.031075</td>\n",
       "    </tr>\n",
       "    <tr>\n",
       "      <th>2021-11-25</th>\n",
       "      <td>-0.121371</td>\n",
       "      <td>-0.104173</td>\n",
       "    </tr>\n",
       "    <tr>\n",
       "      <th>2021-11-26</th>\n",
       "      <td>-0.403036</td>\n",
       "      <td>-0.382887</td>\n",
       "    </tr>\n",
       "    <tr>\n",
       "      <th>2021-11-29</th>\n",
       "      <td>0.057050</td>\n",
       "      <td>0.055453</td>\n",
       "    </tr>\n",
       "    <tr>\n",
       "      <th>2021-11-30</th>\n",
       "      <td>-0.113757</td>\n",
       "      <td>-0.116258</td>\n",
       "    </tr>\n",
       "  </tbody>\n",
       "</table>\n",
       "<p>233 rows × 2 columns</p>\n",
       "</div>"
      ],
      "text/plain": [
       "                   R       MKT\n",
       "Date                          \n",
       "2021-01-05  0.042282  0.050697\n",
       "2021-01-06  0.035110  0.050911\n",
       "2021-01-07  0.000423  0.005490\n",
       "2021-01-08  0.054132  0.067414\n",
       "2021-01-11  0.029450  0.038298\n",
       "...              ...       ...\n",
       "2021-11-24 -0.048045 -0.031075\n",
       "2021-11-25 -0.121371 -0.104173\n",
       "2021-11-26 -0.403036 -0.382887\n",
       "2021-11-29  0.057050  0.055453\n",
       "2021-11-30 -0.113757 -0.116258\n",
       "\n",
       "[233 rows x 2 columns]"
      ]
     },
     "execution_count": 135,
     "metadata": {},
     "output_type": "execute_result"
    }
   ],
   "source": [
    "reg_df = pd.DataFrame([Y, X], index=['R', 'MKT'])\n",
    "reg_df\n",
    "reg_df = reg_df.T # Y, X 結合會以上下交疊方式，即 columns 為時間，因此轉置讓時間變成 rows\n",
    "reg_df"
   ]
  },
  {
   "cell_type": "code",
   "execution_count": null,
   "metadata": {},
   "outputs": [
    {
     "name": "stdout",
     "output_type": "stream",
     "text": [
      "                            OLS Regression Results                            \n",
      "==============================================================================\n",
      "Dep. Variable:                      R   R-squared:                       0.991\n",
      "Model:                            OLS   Adj. R-squared:                  0.991\n",
      "Method:                 Least Squares   F-statistic:                 2.606e+04\n",
      "Date:                Wed, 15 Dec 2021   Prob (F-statistic):          1.68e-239\n",
      "Time:                        12:55:06   Log-Likelihood:                 687.45\n",
      "No. Observations:                 233   AIC:                            -1371.\n",
      "Df Residuals:                     231   BIC:                            -1364.\n",
      "Df Model:                           1                                         \n",
      "Covariance Type:            nonrobust                                         \n",
      "==============================================================================\n",
      "                 coef    std err          t      P>|t|      [0.025      0.975]\n",
      "------------------------------------------------------------------------------\n",
      "Intercept      0.0007      0.001      0.857      0.392      -0.001       0.002\n",
      "MKT            1.0201      0.006    161.442      0.000       1.008       1.033\n",
      "==============================================================================\n",
      "Omnibus:                       21.951   Durbin-Watson:                   1.845\n",
      "Prob(Omnibus):                  0.000   Jarque-Bera (JB):               60.153\n",
      "Skew:                           0.348   Prob(JB):                     8.67e-14\n",
      "Kurtosis:                       5.390   Cond. No.                         7.59\n",
      "==============================================================================\n",
      "\n",
      "Notes:\n",
      "[1] Standard Errors assume that the covariance matrix of the errors is correctly specified.\n"
     ]
    }
   ],
   "source": [
    "TSR = smf.ols('R ~ 1 + MKT', data=reg_df).fit() # TSR = time series regression\n",
    "YHat = TSR.fittedvalues\n",
    "print(TSR.summary())"
   ]
  },
  {
   "cell_type": "code",
   "execution_count": null,
   "metadata": {},
   "outputs": [
    {
     "data": {
      "image/png": "[encoded data removed]",
      "text/plain": [
       "<Figure size 720x576 with 1 Axes>"
      ]
     },
     "metadata": {},
     "output_type": "display_data"
    }
   ],
   "source": [
    "import matplotlib.pyplot as plt\n",
    "plt.style.use('seaborn')\n",
    "\n",
    "fig = plt.figure(figsize=(10, 8))\n",
    "ax = fig.add_subplot(1,1,1)\n",
    "\n",
    "# 在 y = 0 的位置加一條 水平線 (horizontal line)\n",
    "plt.axhline(0, color='xkcd:gray', linestyle='-', label='_nolegend_', linewidth=1)\n",
    "# 在 x = 0 的位置加一條 垂直線 (vertical line)\n",
    "plt.axvline(0, color='xkcd:gray', linestyle='-', label='_nolegend_', linewidth=1)\n",
    "\n",
    "plt.plot(X,Y,'o', alpha=0.5, markersize=5)\n",
    "plt.plot(X,YHat, color='xkcd:orange', alpha=0.75)\n",
    "\n",
    "plt.ylabel('Excess returns of an asset')\n",
    "plt.xlabel('Excess returns of the market portfolio')\n",
    "plt.title('Scatter plot of data points and the regression line')\n",
    "plt.legend(['Data points', 'Regression line'], loc='best')\n",
    "plt.show()"
   ]
  },
  {
   "cell_type": "markdown",
   "metadata": {},
   "source": [
    "1. Estimate **CAPM betas** for **all the index constitutents in Part 1** *[5 points]*."
   ]
  },
  {
   "cell_type": "code",
   "execution_count": null,
   "metadata": {},
   "outputs": [],
   "source": [
    "import statsmodels.formula.api as smf\n",
    "CONSTIT_BETAs = dict()\n",
    "for i in constit:\n",
    "    Y = all[i] - all['DE_10Y_Return'] # 被解釋變數\n",
    "    X = all['DAX30_Return'] - all['DE_10Y_Return']# 解釋變數\n",
    "    reg_df = pd.DataFrame([Y, X], index=['R', 'MKT']).T\n",
    "    TSR = smf.ols('R ~ 1 + MKT', data=reg_df).fit()\n",
    "\n",
    "    CONSTIT_BETAs[i] = TSR.params[1]"
   ]
  },
  {
   "cell_type": "code",
   "execution_count": null,
   "metadata": {},
   "outputs": [
    {
     "data": {
      "text/plain": [
       "{'ADS.DE': 1.0039117241099345,\n",
       " 'ALV.DE': 1.0151369260286196,\n",
       " 'BAS.DE': 1.014825856295579,\n",
       " 'BAYN.DE': 1.004627307744413,\n",
       " 'BMW.DE': 1.0201339991370413,\n",
       " 'CON.DE': 1.0269930212912755,\n",
       " '1COV.DE': 1.0227016534158528,\n",
       " 'DAI.DE': 1.0164685792420853,\n",
       " 'DHER.DE': 0.976738788313261,\n",
       " 'DBK.DE': 1.0612982792701318,\n",
       " 'DB1.DE': 0.9983739276582897,\n",
       " 'DPW.DE': 0.9967854631793606,\n",
       " 'DTE.DE': 1.0005166862577184,\n",
       " 'DWNI.DE': 0.9730231862224714,\n",
       " 'EOAN.DE': 0.9823973436978308,\n",
       " 'FRE.DE': 0.9933386725338793,\n",
       " 'FME.DE': 0.9864925089194332,\n",
       " 'HEI.DE': 1.0188962924015366,\n",
       " 'HEN3.DE': 0.9890083041599009,\n",
       " 'IFX.DE': 1.0000360340860872,\n",
       " 'LIN.DE': 0.986848426657181,\n",
       " 'MRK.DE': 0.9807043185074787,\n",
       " 'MTX.DE': 1.0054069105667167,\n",
       " 'MUV2.DE': 1.0120735829646015,\n",
       " 'RWE.DE': 0.9880371498106328,\n",
       " 'SAP.DE': 0.9835767538460176,\n",
       " 'SIE.DE': 0.9994968218919815,\n",
       " 'ENR.DE': 1.0015958117864499,\n",
       " 'VOW3.DE': 1.0060268223955433,\n",
       " 'VNA.DE': 0.9850772578084156}"
      ]
     },
     "execution_count": 206,
     "metadata": {},
     "output_type": "execute_result"
    }
   ],
   "source": [
    "CONSTIT_BETAs"
   ]
  },
  {
   "cell_type": "markdown",
   "metadata": {},
   "source": [
    "2. Plot the **average returns** of the index constituents *[2.5 points]*.\n",
    "3. On the same diagram, plot the **CAPM predicted SML** and **empirical SML** implied by the index constituents *[2.5 points]*."
   ]
  },
  {
   "cell_type": "code",
   "execution_count": null,
   "metadata": {},
   "outputs": [],
   "source": [
    "MKT = all['DAX30_Return'] - all['DE_10Y_Return']\n",
    "RF = all['DE_10Y_Return']\n",
    "\n",
    "AvgMkt = MKT.mean()\n",
    "AvgRF = RF.mean()\n"
   ]
  },
  {
   "cell_type": "code",
   "execution_count": null,
   "metadata": {},
   "outputs": [],
   "source": [
    "BETA = []\n",
    "AvgR = [] # 放市場平均的 excess return (市場平均 return (AvgMkt) - 市場平均 risk-free (AvgRF))\n",
    "AvgRHat = [] # 放 迴歸線估計值"
   ]
  },
  {
   "cell_type": "code",
   "execution_count": null,
   "metadata": {},
   "outputs": [
    {
     "name": "stdout",
     "output_type": "stream",
     "text": [
      "1.0016849470066573\n"
     ]
    }
   ],
   "source": [
    "import statsmodels.api as sm\n",
    "\n",
    "emp_beta = 0\n",
    "for i in constit:\n",
    "    R = all.loc[:, i].subtract(RF, axis=0) # axis=0: column 對 column 相減 (233 data)\n",
    "    TSR = sm.OLS(R, sm.add_constant(MKT)).fit()\n",
    "    \n",
    "    emp_beta += TSR.params.iloc[1]\n",
    "    BETA.append(TSR.params.iloc[1]) # 將模型預估的 beta 加入 BETA list 裡\n",
    "    AvgR.append(R.mean()) # 個股超額報酬\n",
    "    AvgRHat.append(AvgMkt * TSR.params.iloc[1]) # 市場超額報酬 * 模型預估的 beta\n",
    "    \n",
    "print(emp_beta / len(constit))\n",
    "    "
   ]
  },
  {
   "cell_type": "code",
   "execution_count": null,
   "metadata": {},
   "outputs": [
    {
     "name": "stdout",
     "output_type": "stream",
     "text": [
      "30\n",
      "30\n",
      "30\n"
     ]
    }
   ],
   "source": [
    "for i in range(1):\n",
    "    print(len(BETA))\n",
    "    print(len(AvgR))\n",
    "    print(len(AvgRHat))"
   ]
  },
  {
   "cell_type": "code",
   "execution_count": null,
   "metadata": {},
   "outputs": [
    {
     "data": {
      "text/plain": [
       "30"
      ]
     },
     "execution_count": 211,
     "metadata": {},
     "output_type": "execute_result"
    }
   ],
   "source": [
    "len(constit)"
   ]
  },
  {
   "cell_type": "markdown",
   "metadata": {},
   "source": [
    "Emperical Security Market Line"
   ]
  },
  {
   "cell_type": "code",
   "execution_count": null,
   "metadata": {},
   "outputs": [],
   "source": [
    "CSR = sm.OLS(AvgR, sm.add_constant(BETA)).fit()"
   ]
  },
  {
   "cell_type": "code",
   "execution_count": null,
   "metadata": {},
   "outputs": [
    {
     "data": {
      "image/png": "[encoded data removed]",
      "text/plain": [
       "<Figure size 720x576 with 1 Axes>"
      ]
     },
     "metadata": {},
     "output_type": "display_data"
    }
   ],
   "source": [
    "import matplotlib.pyplot as plt\n",
    "plt.style.use('seaborn')\n",
    "fig = plt.figure(figsize=(10, 8))\n",
    "ax = fig.add_subplot(1,1,1)\n",
    "\n",
    "# 藍線放模型預估的 SML\n",
    "plt.plot(BETA, AvgRHat, color='xkcd:blue', linewidth=5, alpha=0.5)\n",
    "# 紅線放真實資料 (excess return)\n",
    "plt.plot(BETA, AvgR, 'o', color='xkcd:red', alpha=0.5, markersize=8)\n",
    "# 綠線是用真實資料得出的 SML\n",
    "plt.plot(BETA, CSR.fittedvalues, ':', color='xkcd:green', alpha=0.5, linewidth=5)\n",
    "\n",
    "# recall 筆記\n",
    "plt.ylabel('Average excess returns')\n",
    "plt.xlabel('Beta')\n",
    "\n",
    "plt.title('Security market line (SML)')\n",
    "plt.legend(['CAPM predicted SML', 'Average excess returns', 'Empirical SML'], loc='best')\n",
    "plt.show()"
   ]
  },
  {
   "cell_type": "code",
   "execution_count": null,
   "metadata": {},
   "outputs": [],
   "source": []
  }
 ],
 "metadata": {
  "interpreter": {
   "hash": "8c2e27c92537dbc993fdeb86cbd3be2d376845eda7ee9fbaba49b9f3cd36e9e0"
  },
  "kernelspec": {
   "display_name": "Python 3.9.7 64-bit ('InvestnPortfolio': venv)",
   "language": "python",
   "name": "python3"
  },
  "language_info": {
   "codemirror_mode": {
    "name": "ipython",
    "version": 3
   },
   "file_extension": ".py",
   "mimetype": "text/x-python",
   "name": "python",
   "nbconvert_exporter": "python",
   "pygments_lexer": "ipython3",
   "version": "3.9.7"
  },
  "orig_nbformat": 4
 },
 "nbformat": 4,
 "nbformat_minor": 2
}
