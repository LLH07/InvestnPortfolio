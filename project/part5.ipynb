{
 "cells": [
  {
   "cell_type": "markdown",
   "metadata": {},
   "source": [
    "### Part 5: Create your own strategy *[15 points]*\n",
    "\n",
    "Imagine today is **31 December 2020** (you can use any data available before 2021). You are a group of fund managers managing a quantitative fund with an **investment universe** consists of **index constituents from Part 1**. Your group wants to **design a new investment strategy and implement it starting from 2021**. The work plan is as follows:\n",
    "1. Form **benchmark portfolios** based on **Indexation (VW, EW, PW)** and **Modern Portfolio Theory (GMVP and MSRP)** *[5 points]*.\n",
    "2. Create and backtest a **proprietary trading strategy** that aims to **outperform the market index** *[5 points]*.\n",
    "3. Keep track of the **out-of-sample performance** of **your group's strategy** as well as **benchmark portfolios** and carry out **performance evaluations** using data available in 2021 so far *[5 points]*.\n",
    "\n",
    "Your team will **build the prototype of the strategy with Python** and the **source code** below will be inspected by the **model validation quant, Douglas Chung**. "
   ]
  },
  {
   "cell_type": "code",
   "execution_count": 1,
   "metadata": {},
   "outputs": [],
   "source": [
    "import pandas as pd\n",
    "import numpy as np\n",
    "import matplotlib.pyplot as plt"
   ]
  },
  {
   "cell_type": "code",
   "execution_count": 2,
   "metadata": {},
   "outputs": [
    {
     "data": {
      "text/plain": [
       "0    ADS.DE\n",
       "1    ALV.DE\n",
       "2    BAS.DE\n",
       "Name: Ticker symbol, dtype: object"
      ]
     },
     "execution_count": 2,
     "metadata": {},
     "output_type": "execute_result"
    }
   ],
   "source": [
    "page = pd.read_html('https://en.wikipedia.org/wiki/DAX')\n",
    "constit = page[3]['Ticker symbol']\n",
    "constit.head(3)"
   ]
  },
  {
   "cell_type": "code",
   "execution_count": null,
   "metadata": {},
   "outputs": [],
   "source": [
    "back_test_df = pd.DataFrame()"
   ]
  }
 ],
 "metadata": {
  "interpreter": {
   "hash": "8c2e27c92537dbc993fdeb86cbd3be2d376845eda7ee9fbaba49b9f3cd36e9e0"
  },
  "kernelspec": {
   "display_name": "Python 3.9.7 64-bit ('InvestnPortfolio': venv)",
   "language": "python",
   "name": "python3"
  },
  "language_info": {
   "codemirror_mode": {
    "name": "ipython",
    "version": 3
   },
   "file_extension": ".py",
   "mimetype": "text/x-python",
   "name": "python",
   "nbconvert_exporter": "python",
   "pygments_lexer": "ipython3",
   "version": "3.9.7"
  },
  "orig_nbformat": 4
 },
 "nbformat": 4,
 "nbformat_minor": 2
}
