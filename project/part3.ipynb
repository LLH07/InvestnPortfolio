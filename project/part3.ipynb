{
 "cells": [
  {
   "cell_type": "markdown",
   "metadata": {},
   "source": [
    "### Part 3: CAPM Estimations *[10 points]*\n",
    "\n",
    "In lecture 9, we discuss how to estimate CAPM betas of individual stocks and the security market line (SML). Using the **index constituents** from **Part 1**, write a code that performs the following:\n",
    "\n",
    "1. Estimate **CAPM betas** for **all the index constitutents in Part 1** *[5 points]*.\n",
    "2. Plot the **average returns** of the index constituents *[2.5 points]*.\n",
    "3. On the same diagram, plot the **CAPM predicted SML** and **empirical SML** implied by the index constituents *[2.5 points]*."
   ]
  },
  {
   "cell_type": "code",
   "execution_count": null,
   "metadata": {},
   "outputs": [],
   "source": []
  }
 ],
 "metadata": {
  "language_info": {
   "name": "python"
  },
  "orig_nbformat": 4
 },
 "nbformat": 4,
 "nbformat_minor": 2
}
