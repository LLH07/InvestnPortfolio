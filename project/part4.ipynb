{
 "cells": [
  {
   "cell_type": "markdown",
   "metadata": {},
   "source": [
    "### Part 4: Momentum Factor *[15 points]*\n",
    "\n",
    "In this part, you are going to **replicate** the **cross-sectional momentum strategy** from **Kenneth French Data Library**. \n",
    "\n",
    "Momentum is defined as:\n",
    "\n",
    "$\\mathrm{MOM}_{i,t} = \\prod_{i=2}^{12}(1+r_{i,t-i})$\n",
    "\n",
    "Suggested structure of the code:\n",
    "1. Import **'Stock RET.csv'**.\n",
    "2. Identify **NYSE size cutoffs (50-50 by median)** for each month.\n",
    "3. Sort stocks into **small stocks (S, bottom 50)** and **big stocks (B, top 50)**.\n",
    "4. Compute **momentum** $\\mathrm{MOM}_{i,t}$ for each stock-month observation *[5 points]*.\n",
    "5. Identify **NYSE momentum cutoffs (30-40-30 by percentiles)** for each month.\n",
    "6. Sort stocks into **loser (L, bottom 30), neutral (N, middle 40), and winner stocks (W, top 30)**.\n",
    "7. Form **2 by 3 portfolios** ($\\mathrm{ME} \\times \\mathrm{MOM}$) through **unconditional bivariate sorts** *[5 points]*.\n",
    "8. Compute **momentum strategy returns** over time with: $R_{\\scriptstyle{\\text{WML}}} = \\frac{(R_{\\scriptstyle{\\text{SW}}} +  R_{\\scriptstyle{\\text{BW}}})}{2} - \\frac{(R_{\\scriptstyle{\\text{SL}}} + R_{\\scriptstyle{\\text{BL}}})}{2}$ *[2.5 points]*.\n",
    "9. With the help of a **bar chart**, compare **your replication** with the one constructed by **Fama-French ('F-F_Momentum_Factor')** *[2.5 points]*."
   ]
  },
  {
   "cell_type": "markdown",
   "metadata": {},
   "source": []
  }
 ],
 "metadata": {
  "interpreter": {
   "hash": "8c2e27c92537dbc993fdeb86cbd3be2d376845eda7ee9fbaba49b9f3cd36e9e0"
  },
  "kernelspec": {
   "display_name": "Python 3.9.7 64-bit ('InvestnPortfolio': venv)",
   "language": "python",
   "name": "python3"
  },
  "language_info": {
   "name": "python",
   "version": "3.9.7"
  },
  "orig_nbformat": 4
 },
 "nbformat": 4,
 "nbformat_minor": 2
}
