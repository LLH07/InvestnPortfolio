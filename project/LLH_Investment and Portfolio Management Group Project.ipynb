{
 "cells": [
  {
   "cell_type": "markdown",
   "id": "d2096fdb-c608-440f-972a-1dcef6ce4f45",
   "metadata": {},
   "source": [
    "# 110-1-301813001/351950001 \n",
    "## Investment and Portfolio Management - Group Project \n",
    "### Part 1: Index Replication *[15 points]*\n",
    "In this part, you will **replicate a stock market index of your choice (must be different from other groups)** using **Yahoo! Finance data from 2021-01-01 to 2021-11-30**. You will have to complete the following tasks:\n",
    "1. Construct the following indices using the index constituents *[12 points]*:\n",
    "    * **Price-weighted (PW) index** *[4 points]*;\n",
    "    * **Value-weighted (VW) index** *[4 points]*;\n",
    "    * **Equal-weighted (EW) index** *[4 points]*.\n",
    "2. Plot the **original index** and the **three constructed indices (initial value of 100)** *[3 points]*."
   ]
  },
  {
   "cell_type": "code",
   "execution_count": 1,
   "id": "b3789b6a-d9a9-4aaf-93df-c53894a67ae2",
   "metadata": {},
   "outputs": [],
   "source": [
    "# please write your code here:\n",
    "\n",
    "\n",
    "\n",
    "#"
   ]
  },
  {
   "cell_type": "markdown",
   "id": "77127920-6d81-45e8-9f77-d0745d819c5f",
   "metadata": {
    "tags": []
   },
   "source": [
    "### Part 2: Modern Portfolio Theory *[15 points]*\n",
    "\n",
    "In Lecture 7, we learn how to conduct backtesting and solve for optimal portfolios numerically. Now, you have to compare the **out-of-sample performance** of **analytical optimal portfolios** and **numerical constrained portfolios**. Your code should do the following:\n",
    "\n",
    "1. Using **Fama-French 17 Industries Portfolios from 1980 until 2021**, conduct back-testing on the following strategies *[12.5 points]*:\n",
    "    * **MSRP (analytical)** *[2.5 points]*;\n",
    "    * **GMVP (analytical)** *[2.5 points]*; \n",
    "    * **MSRP no short-selling (numerical)** *[2.5 points]*; \n",
    "    * **GMVP no short-selling (numerical)** *[2.5 points]*; \n",
    "    * **Equal-weighted (EW) portfolio** *[2.5 points]*.\n",
    "2. Plot the **cumulative returns** of **all five strategies** *[2.5 points]*.\n",
    "\n",
    "#### Bonus *[15 points]*:\n",
    "1. **Apply shrinkage method** to estimate **expected returns** and **variance-covariance matrices** *[5 points]*.\n",
    "2. **Reduce computation time** through **parallel computing** *[10 points]*."
   ]
  },
  {
   "cell_type": "code",
   "execution_count": 2,
   "id": "a7ccceb4-18a0-4269-9493-43f2940fae4f",
   "metadata": {},
   "outputs": [],
   "source": [
    "# please write your code here:\n",
    "\n",
    "\n",
    "\n",
    "\n",
    "#"
   ]
  },
  {
   "cell_type": "markdown",
   "id": "1808761c-abe0-4d2f-af8f-7b8d4a799909",
   "metadata": {},
   "source": [
    "### Part 3: CAPM Estimations *[10 points]*\n",
    "\n",
    "In lecture 9, we discuss how to estimate CAPM betas of individual stocks and the security market line (SML). Using the **index constituents** from **Part 1**, write a code that performs the following:\n",
    "\n",
    "1. Estimate **CAPM betas** for **all the index constitutents in Part 1** *[5 points]*.\n",
    "2. Plot the **average returns** of the index constituents *[2.5 points]*.\n",
    "3. On the same diagram, plot the **CAPM predicted SML** and **empirical SML** implied by the index constituents *[2.5 points]*."
   ]
  },
  {
   "cell_type": "code",
   "execution_count": 3,
   "id": "38978d5e-f077-4e9d-8347-57b81295d32f",
   "metadata": {},
   "outputs": [],
   "source": [
    "# please write your code here:\n",
    "\n",
    "\n",
    "\n",
    "#"
   ]
  },
  {
   "cell_type": "markdown",
   "id": "004e1a91-4c9a-4a4b-a771-007b77e14812",
   "metadata": {},
   "source": [
    "### Part 4: Momentum Factor *[15 points]*\n",
    "\n",
    "In this part, you are going to **replicate** the **cross-sectional momentum strategy** from **Kenneth French Data Library**. \n",
    "\n",
    "Momentum is defined as:\n",
    "\n",
    "$\\mathrm{MOM}_{i,t} = \\prod_{i=2}^{12}(1+r_{i,t-i})$\n",
    "\n",
    "Suggested structure of the code:\n",
    "1. Import **'Stock RET.csv'**.\n",
    "2. Identify **NYSE size cutoffs (50-50 by median)** for each month.\n",
    "3. Sort stocks into **small stocks (S, bottom 50)** and **big stocks (B, top 50)**.\n",
    "4. Compute **momentum** $\\mathrm{MOM}_{i,t}$ for each stock-month observation *[5 points]*.\n",
    "5. Identify **NYSE momentum cutoffs (30-40-30 by percentiles)** for each month.\n",
    "6. Sort stocks into **loser (L, bottom 30), neutral (N, middle 40), and winner stocks (W, top 30)**.\n",
    "7. Form **2 by 3 portfolios** ($\\mathrm{ME} \\times \\mathrm{MOM}$) through **unconditional bivariate sorts** *[5 points]*.\n",
    "8. Compute **momentum strategy returns** over time with: $R_{\\scriptstyle{\\text{WML}}} = \\frac{(R_{\\scriptstyle{\\text{SW}}} +  R_{\\scriptstyle{\\text{BW}}})}{2} - \\frac{(R_{\\scriptstyle{\\text{SL}}} + R_{\\scriptstyle{\\text{BL}}})}{2}$ *[2.5 points]*.\n",
    "9. With the help of a **bar chart**, compare **your replication** with the one constructed by **Fama-French ('F-F_Momentum_Factor')** *[2.5 points]*.\n"
   ]
  },
  {
   "cell_type": "code",
   "execution_count": 4,
   "id": "ab136b7a-dedc-4fba-812f-018231edae01",
   "metadata": {},
   "outputs": [],
   "source": [
    "# please write your code here:\n",
    "\n",
    "\n",
    "\n",
    "#"
   ]
  },
  {
   "cell_type": "markdown",
   "id": "ef6a4db3-3f44-40c4-b1ca-10b5dce8d3ec",
   "metadata": {},
   "source": [
    "### Part 5: Create your own strategy *[15 points]*\n",
    "\n",
    "Imagine today is **31 December 2020** (you can use any data available before 2021). You are a group of fund managers managing a quantitative fund with an **investment universe** consists of **index constituents from Part 1**. Your group wants to **design a new investment strategy and implement it starting from 2021**. The work plan is as follows:\n",
    "1. Form **benchmark portfolios** based on **Indexation (VW, EW, PW)** and **Modern Portfolio Theory (GMVP and MSRP)** *[5 points]*.\n",
    "2. Create and backtest a **proprietary trading strategy** that aims to **outperform the market index** *[5 points]*.\n",
    "3. Keep track of the **out-of-sample performance** of **your group's strategy** as well as **benchmark portfolios** and carry out **performance evaluations** using data available in 2021 so far *[5 points]*.\n",
    "\n",
    "Your team will **build the prototype of the strategy with Python** and the **source code** below will be inspected by the **model validation quant, Douglas Chung**. "
   ]
  },
  {
   "cell_type": "code",
   "execution_count": 5,
   "id": "aaf4e18d-c88c-48b3-93c1-627c8aff16a5",
   "metadata": {},
   "outputs": [],
   "source": [
    "# please write your code here:\n",
    "\n",
    "\n",
    "\n",
    "#"
   ]
  },
  {
   "cell_type": "markdown",
   "id": "3299fd0d-baed-4422-9429-9a9b6d1f5744",
   "metadata": {},
   "source": [
    "### Part 6: Presentation *[30 points]*\n",
    "\n",
    "In a **20-minute sales pitch** (**presentation slides in powerpoint or PDF**), your group should discuss the following:\n",
    "\n",
    "1. Give an **overview of the investment universe** (e.g. industry compositions, important companies, country-specific issues, market index construction) *[5 points]*.\n",
    "2. Discuss the **historical risk-expected returns profile** of the investment universe (e.g. GMVP, MSRP, unconstrained and constrained Minimum Variance Frontier, SML) *[5 points]*.\n",
    "3. Explain the **investment philosophy** behind your group's **proprietary trading strategy** and describe its **construction** *[5 points]*.\n",
    "4. **Compare and contrast your group's strategy** with other **benchmark strategies** (e.g. buy-and-hold market index, EW portfolio, MPT optimal portfolios, smart betas, and etc.) *[5 points]*.\n",
    "5. Talk about **implementability** and **potential risk factors** of **your group's strategy** *[5 points]*.\n",
    "6. Present **your strategy's performance so far in 2021** relative to other **benchmark strategies** *[5 points]*.\n",
    "\n",
    "#### Bonus *[10 points]*:\n",
    "\n",
    "Q&A section *[10 points]*."
   ]
  },
  {
   "cell_type": "markdown",
   "id": "64d4c651",
   "metadata": {},
   "source": [
    "part 3 is important\n",
    "part 4: compare with the index (跟 DAX 的比例為和不同)\n",
    "part 6: out of sample"
   ]
  }
 ],
 "metadata": {
  "kernelspec": {
   "display_name": "Python 3",
   "language": "python",
   "name": "python3"
  },
  "language_info": {
   "codemirror_mode": {
    "name": "ipython",
    "version": 3
   },
   "file_extension": ".py",
   "mimetype": "text/x-python",
   "name": "python",
   "nbconvert_exporter": "python",
   "pygments_lexer": "ipython3",
   "version": "3.8.11"
  }
 },
 "nbformat": 4,
 "nbformat_minor": 5
}
