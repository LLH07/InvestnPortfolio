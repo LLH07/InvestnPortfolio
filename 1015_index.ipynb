{
 "cells": [
  {
   "cell_type": "code",
   "execution_count": 1,
   "metadata": {},
   "outputs": [],
   "source": [
    "import yfinance as yf\n",
    "import pandas as pd"
   ]
  },
  {
   "cell_type": "code",
   "execution_count": 2,
   "metadata": {},
   "outputs": [
    {
     "name": "stdout",
     "output_type": "stream",
     "text": [
      "[*********************100%***********************]  1 of 1 completed\n"
     ]
    },
    {
     "data": {
      "text/html": [
       "<div>\n",
       "<style scoped>\n",
       "    .dataframe tbody tr th:only-of-type {\n",
       "        vertical-align: middle;\n",
       "    }\n",
       "\n",
       "    .dataframe tbody tr th {\n",
       "        vertical-align: top;\n",
       "    }\n",
       "\n",
       "    .dataframe thead th {\n",
       "        text-align: right;\n",
       "    }\n",
       "</style>\n",
       "<table border=\"1\" class=\"dataframe\">\n",
       "  <thead>\n",
       "    <tr style=\"text-align: right;\">\n",
       "      <th></th>\n",
       "      <th>Open</th>\n",
       "      <th>High</th>\n",
       "      <th>Low</th>\n",
       "      <th>Close</th>\n",
       "      <th>Adj Close</th>\n",
       "      <th>Volume</th>\n",
       "    </tr>\n",
       "    <tr>\n",
       "      <th>Date</th>\n",
       "      <th></th>\n",
       "      <th></th>\n",
       "      <th></th>\n",
       "      <th></th>\n",
       "      <th></th>\n",
       "      <th></th>\n",
       "    </tr>\n",
       "  </thead>\n",
       "  <tbody>\n",
       "    <tr>\n",
       "      <th>2021-08-24</th>\n",
       "      <td>35382.718750</td>\n",
       "      <td>35445.468750</td>\n",
       "      <td>35356.179688</td>\n",
       "      <td>35366.261719</td>\n",
       "      <td>35366.261719</td>\n",
       "      <td>228710000</td>\n",
       "    </tr>\n",
       "    <tr>\n",
       "      <th>2021-08-25</th>\n",
       "      <td>35388.769531</td>\n",
       "      <td>35501.140625</td>\n",
       "      <td>35287.628906</td>\n",
       "      <td>35405.500000</td>\n",
       "      <td>35405.500000</td>\n",
       "      <td>237230000</td>\n",
       "    </tr>\n",
       "    <tr>\n",
       "      <th>2021-08-26</th>\n",
       "      <td>35449.679688</td>\n",
       "      <td>35498.449219</td>\n",
       "      <td>35205.101562</td>\n",
       "      <td>35213.121094</td>\n",
       "      <td>35213.121094</td>\n",
       "      <td>239740000</td>\n",
       "    </tr>\n",
       "    <tr>\n",
       "      <th>2021-08-27</th>\n",
       "      <td>35231.109375</td>\n",
       "      <td>35479.179688</td>\n",
       "      <td>35231.109375</td>\n",
       "      <td>35455.800781</td>\n",
       "      <td>35455.800781</td>\n",
       "      <td>240990000</td>\n",
       "    </tr>\n",
       "    <tr>\n",
       "      <th>2021-08-30</th>\n",
       "      <td>35471.800781</td>\n",
       "      <td>35510.710938</td>\n",
       "      <td>35374.460938</td>\n",
       "      <td>35399.839844</td>\n",
       "      <td>35399.839844</td>\n",
       "      <td>245390000</td>\n",
       "    </tr>\n",
       "  </tbody>\n",
       "</table>\n",
       "</div>"
      ],
      "text/plain": [
       "                    Open          High           Low         Close  \\\n",
       "Date                                                                 \n",
       "2021-08-24  35382.718750  35445.468750  35356.179688  35366.261719   \n",
       "2021-08-25  35388.769531  35501.140625  35287.628906  35405.500000   \n",
       "2021-08-26  35449.679688  35498.449219  35205.101562  35213.121094   \n",
       "2021-08-27  35231.109375  35479.179688  35231.109375  35455.800781   \n",
       "2021-08-30  35471.800781  35510.710938  35374.460938  35399.839844   \n",
       "\n",
       "               Adj Close     Volume  \n",
       "Date                                 \n",
       "2021-08-24  35366.261719  228710000  \n",
       "2021-08-25  35405.500000  237230000  \n",
       "2021-08-26  35213.121094  239740000  \n",
       "2021-08-27  35455.800781  240990000  \n",
       "2021-08-30  35399.839844  245390000  "
      ]
     },
     "execution_count": 2,
     "metadata": {},
     "output_type": "execute_result"
    }
   ],
   "source": [
    "start_date = \"2021-07-01\"\n",
    "end_date = \"2021-08-31\"\n",
    "idx = \"^DJI\"\n",
    "\n",
    "\n",
    "Index = yf.download(idx, # ticker\n",
    "interval=\"1d\", # daily frequency\n",
    "start=start_date, end=end_date) # sampling period\n",
    "Index.tail() # preview the last five observations"
   ]
  },
  {
   "cell_type": "code",
   "execution_count": 3,
   "metadata": {},
   "outputs": [
    {
     "data": {
      "text/html": [
       "<div>\n",
       "<style scoped>\n",
       "    .dataframe tbody tr th:only-of-type {\n",
       "        vertical-align: middle;\n",
       "    }\n",
       "\n",
       "    .dataframe tbody tr th {\n",
       "        vertical-align: top;\n",
       "    }\n",
       "\n",
       "    .dataframe thead th {\n",
       "        text-align: right;\n",
       "    }\n",
       "</style>\n",
       "<table border=\"1\" class=\"dataframe\">\n",
       "  <thead>\n",
       "    <tr style=\"text-align: right;\">\n",
       "      <th></th>\n",
       "      <th>^DJI</th>\n",
       "    </tr>\n",
       "    <tr>\n",
       "      <th>Date</th>\n",
       "      <th></th>\n",
       "    </tr>\n",
       "  </thead>\n",
       "  <tbody>\n",
       "    <tr>\n",
       "      <th>2021-06-30</th>\n",
       "      <td>34502.511719</td>\n",
       "    </tr>\n",
       "    <tr>\n",
       "      <th>2021-07-01</th>\n",
       "      <td>34633.531250</td>\n",
       "    </tr>\n",
       "    <tr>\n",
       "      <th>2021-07-02</th>\n",
       "      <td>34786.351562</td>\n",
       "    </tr>\n",
       "    <tr>\n",
       "      <th>2021-07-06</th>\n",
       "      <td>34577.371094</td>\n",
       "    </tr>\n",
       "    <tr>\n",
       "      <th>2021-07-07</th>\n",
       "      <td>34681.789062</td>\n",
       "    </tr>\n",
       "  </tbody>\n",
       "</table>\n",
       "</div>"
      ],
      "text/plain": [
       "                    ^DJI\n",
       "Date                    \n",
       "2021-06-30  34502.511719\n",
       "2021-07-01  34633.531250\n",
       "2021-07-02  34786.351562\n",
       "2021-07-06  34577.371094\n",
       "2021-07-07  34681.789062"
      ]
     },
     "execution_count": 3,
     "metadata": {},
     "output_type": "execute_result"
    }
   ],
   "source": [
    "Index = pd.DataFrame(Index['Adj Close'].rename(idx))\n",
    "Index.head()"
   ]
  },
  {
   "cell_type": "markdown",
   "metadata": {},
   "source": [
    "## Take the data from web:"
   ]
  },
  {
   "cell_type": "code",
   "execution_count": 4,
   "metadata": {},
   "outputs": [
    {
     "data": {
      "text/html": [
       "<div>\n",
       "<style scoped>\n",
       "    .dataframe tbody tr th:only-of-type {\n",
       "        vertical-align: middle;\n",
       "    }\n",
       "\n",
       "    .dataframe tbody tr th {\n",
       "        vertical-align: top;\n",
       "    }\n",
       "\n",
       "    .dataframe thead th {\n",
       "        text-align: right;\n",
       "    }\n",
       "</style>\n",
       "<table border=\"1\" class=\"dataframe\">\n",
       "  <thead>\n",
       "    <tr style=\"text-align: right;\">\n",
       "      <th></th>\n",
       "      <th>Company</th>\n",
       "      <th>Exchange</th>\n",
       "      <th>Symbol</th>\n",
       "      <th>Industry</th>\n",
       "      <th>Date added</th>\n",
       "      <th>Notes</th>\n",
       "      <th>Index weighting</th>\n",
       "    </tr>\n",
       "  </thead>\n",
       "  <tbody>\n",
       "    <tr>\n",
       "      <th>0</th>\n",
       "      <td>3M</td>\n",
       "      <td>NYSE</td>\n",
       "      <td>MMM</td>\n",
       "      <td>Conglomerate</td>\n",
       "      <td>1976-08-09</td>\n",
       "      <td>As Minnesota Mining and Manufacturing</td>\n",
       "      <td>3.62%</td>\n",
       "    </tr>\n",
       "    <tr>\n",
       "      <th>1</th>\n",
       "      <td>American Express</td>\n",
       "      <td>NYSE</td>\n",
       "      <td>AXP</td>\n",
       "      <td>Financial services</td>\n",
       "      <td>1982-08-30</td>\n",
       "      <td>NaN</td>\n",
       "      <td>3.00%</td>\n",
       "    </tr>\n",
       "    <tr>\n",
       "      <th>2</th>\n",
       "      <td>Amgen</td>\n",
       "      <td>NASDAQ</td>\n",
       "      <td>AMGN</td>\n",
       "      <td>Biopharmaceutical</td>\n",
       "      <td>2020-08-31</td>\n",
       "      <td>NaN</td>\n",
       "      <td>4.18%</td>\n",
       "    </tr>\n",
       "    <tr>\n",
       "      <th>3</th>\n",
       "      <td>Apple Inc.</td>\n",
       "      <td>NASDAQ</td>\n",
       "      <td>AAPL</td>\n",
       "      <td>Information technology</td>\n",
       "      <td>2015-03-19</td>\n",
       "      <td>NaN</td>\n",
       "      <td>2.78%</td>\n",
       "    </tr>\n",
       "    <tr>\n",
       "      <th>4</th>\n",
       "      <td>Boeing</td>\n",
       "      <td>NYSE</td>\n",
       "      <td>BA</td>\n",
       "      <td>Aerospace and defense</td>\n",
       "      <td>1987-03-12</td>\n",
       "      <td>NaN</td>\n",
       "      <td>4.12%</td>\n",
       "    </tr>\n",
       "  </tbody>\n",
       "</table>\n",
       "</div>"
      ],
      "text/plain": [
       "            Company Exchange Symbol                Industry  Date added  \\\n",
       "0                3M     NYSE    MMM            Conglomerate  1976-08-09   \n",
       "1  American Express     NYSE    AXP      Financial services  1982-08-30   \n",
       "2             Amgen   NASDAQ   AMGN       Biopharmaceutical  2020-08-31   \n",
       "3        Apple Inc.   NASDAQ   AAPL  Information technology  2015-03-19   \n",
       "4            Boeing     NYSE     BA   Aerospace and defense  1987-03-12   \n",
       "\n",
       "                                   Notes Index weighting  \n",
       "0  As Minnesota Mining and Manufacturing           3.62%  \n",
       "1                                    NaN           3.00%  \n",
       "2                                    NaN           4.18%  \n",
       "3                                    NaN           2.78%  \n",
       "4                                    NaN           4.12%  "
      ]
     },
     "execution_count": 4,
     "metadata": {},
     "output_type": "execute_result"
    }
   ],
   "source": [
    "page = pd.read_html('https://en.wikipedia.org/wiki/Dow_Jones_Industrial_Average')\n",
    "page[1] # the second html table contains the information we need\n",
    "\n",
    "page[1].head(5) # page[1] is a dataframe"
   ]
  },
  {
   "cell_type": "code",
   "execution_count": 5,
   "metadata": {},
   "outputs": [
    {
     "data": {
      "text/html": [
       "<div>\n",
       "<style scoped>\n",
       "    .dataframe tbody tr th:only-of-type {\n",
       "        vertical-align: middle;\n",
       "    }\n",
       "\n",
       "    .dataframe tbody tr th {\n",
       "        vertical-align: top;\n",
       "    }\n",
       "\n",
       "    .dataframe thead th {\n",
       "        text-align: right;\n",
       "    }\n",
       "</style>\n",
       "<table border=\"1\" class=\"dataframe\">\n",
       "  <thead>\n",
       "    <tr style=\"text-align: right;\">\n",
       "      <th></th>\n",
       "      <th>0</th>\n",
       "      <th>1</th>\n",
       "    </tr>\n",
       "  </thead>\n",
       "  <tbody>\n",
       "    <tr>\n",
       "      <th>0</th>\n",
       "      <td>Historical logarithmic graph of the DJIA from ...</td>\n",
       "      <td>Historical logarithmic graph of the DJIA from ...</td>\n",
       "    </tr>\n",
       "    <tr>\n",
       "      <th>1</th>\n",
       "      <td>Foundation</td>\n",
       "      <td>February 16, 1885; 136 years ago[1]May 26, 189...</td>\n",
       "    </tr>\n",
       "    <tr>\n",
       "      <th>2</th>\n",
       "      <td>Operator</td>\n",
       "      <td>S&amp;P Dow Jones Indices</td>\n",
       "    </tr>\n",
       "    <tr>\n",
       "      <th>3</th>\n",
       "      <td>Exchanges</td>\n",
       "      <td>New York Stock ExchangeNASDAQ</td>\n",
       "    </tr>\n",
       "    <tr>\n",
       "      <th>4</th>\n",
       "      <td>Trading symbol</td>\n",
       "      <td>^DJI$INDU.DJIDJIA</td>\n",
       "    </tr>\n",
       "  </tbody>\n",
       "</table>\n",
       "</div>"
      ],
      "text/plain": [
       "                                                   0  \\\n",
       "0  Historical logarithmic graph of the DJIA from ...   \n",
       "1                                         Foundation   \n",
       "2                                           Operator   \n",
       "3                                          Exchanges   \n",
       "4                                     Trading symbol   \n",
       "\n",
       "                                                   1  \n",
       "0  Historical logarithmic graph of the DJIA from ...  \n",
       "1  February 16, 1885; 136 years ago[1]May 26, 189...  \n",
       "2                              S&P Dow Jones Indices  \n",
       "3                      New York Stock ExchangeNASDAQ  \n",
       "4                                  ^DJI$INDU.DJIDJIA  "
      ]
     },
     "execution_count": 5,
     "metadata": {},
     "output_type": "execute_result"
    }
   ],
   "source": [
    "page[0].head(5) # 用 html parse 的第一個 dataframe 就是 wikipedia 上的目錄"
   ]
  },
  {
   "cell_type": "code",
   "execution_count": 6,
   "metadata": {},
   "outputs": [
    {
     "data": {
      "text/plain": [
       "0     MMM\n",
       "1     AXP\n",
       "2    AMGN\n",
       "3    AAPL\n",
       "4      BA\n",
       "Name: Symbol, dtype: object"
      ]
     },
     "execution_count": 6,
     "metadata": {},
     "output_type": "execute_result"
    }
   ],
   "source": [
    "constituents = page[1]['Symbol'] # we only need tickers\n",
    "constituents.head()"
   ]
  },
  {
   "cell_type": "markdown",
   "metadata": {},
   "source": [
    "### test for Ticker object:"
   ]
  },
  {
   "cell_type": "code",
   "execution_count": 7,
   "metadata": {},
   "outputs": [
    {
     "data": {
      "text/plain": [
       "2629665336"
      ]
     },
     "execution_count": 7,
     "metadata": {},
     "output_type": "execute_result"
    }
   ],
   "source": [
    "stk = yf.Ticker('JNJ') \n",
    "stk.info['floatShares'] # 取得流通在外股數"
   ]
  },
  {
   "cell_type": "code",
   "execution_count": 8,
   "metadata": {},
   "outputs": [
    {
     "name": "stdout",
     "output_type": "stream",
     "text": [
      "MMM\n",
      "[*********************100%***********************]  1 of 1 completed\n",
      "AXP\n",
      "[*********************100%***********************]  1 of 1 completed\n",
      "AMGN\n",
      "[*********************100%***********************]  1 of 1 completed\n",
      "AAPL\n",
      "[*********************100%***********************]  1 of 1 completed\n",
      "BA\n",
      "[*********************100%***********************]  1 of 1 completed\n",
      "CAT\n",
      "[*********************100%***********************]  1 of 1 completed\n",
      "CVX\n",
      "[*********************100%***********************]  1 of 1 completed\n",
      "CSCO\n",
      "[*********************100%***********************]  1 of 1 completed\n",
      "KO\n",
      "[*********************100%***********************]  1 of 1 completed\n",
      "DOW\n",
      "[*********************100%***********************]  1 of 1 completed\n",
      "GS\n",
      "[*********************100%***********************]  1 of 1 completed\n",
      "HD\n",
      "[*********************100%***********************]  1 of 1 completed\n",
      "HON\n",
      "[*********************100%***********************]  1 of 1 completed\n",
      "IBM\n",
      "[*********************100%***********************]  1 of 1 completed\n",
      "INTC\n",
      "[*********************100%***********************]  1 of 1 completed\n",
      "JNJ\n",
      "[*********************100%***********************]  1 of 1 completed\n",
      "JPM\n",
      "[*********************100%***********************]  1 of 1 completed\n",
      "MCD\n",
      "[*********************100%***********************]  1 of 1 completed\n",
      "MRK\n",
      "[*********************100%***********************]  1 of 1 completed\n",
      "MSFT\n",
      "[*********************100%***********************]  1 of 1 completed\n",
      "NKE\n",
      "[*********************100%***********************]  1 of 1 completed\n",
      "PG\n",
      "[*********************100%***********************]  1 of 1 completed\n",
      "CRM\n",
      "[*********************100%***********************]  1 of 1 completed\n",
      "TRV\n",
      "[*********************100%***********************]  1 of 1 completed\n",
      "UNH\n",
      "[*********************100%***********************]  1 of 1 completed\n",
      "VZ\n",
      "[*********************100%***********************]  1 of 1 completed\n",
      "V\n",
      "[*********************100%***********************]  1 of 1 completed\n",
      "WBA\n",
      "[*********************100%***********************]  1 of 1 completed\n",
      "WMT\n",
      "[*********************100%***********************]  1 of 1 completed\n",
      "DIS\n",
      "[*********************100%***********************]  1 of 1 completed\n"
     ]
    }
   ],
   "source": [
    "for i in constituents:\n",
    "    print(i) # print out the ticker so we know the downloading progress\n",
    "    prc = yf.download(i, interval=\"1d\", start=start_date, end=end_date) # prc stands fro price\n",
    "    prc = pd.DataFrame(prc['Adj Close']) # select adjusted close price only\n",
    "\n",
    "    prc.columns = [i] # rename the column with the ticker of the stock (i.e., 'MMM', 'JNJ',....)\n",
    "\n",
    "    try:\n",
    "        df_prc = pd.concat([df_prc, prc], axis=1) # if the dataframe already exists, join the newly downloaded data to the existing table\n",
    "    except:\n",
    "        df_prc = prc # create the dataframe for the first ticker\n",
    "\n",
    "    stk = yf.Ticker(i)\n",
    "\n",
    "    # 取得 floatshares (真的在市場上，有流動性的股數)\n",
    "    try:\n",
    "        stk.info['floatShares']\n",
    "    except:\n",
    "        stk.info['floatShares'] = None\n",
    "\n",
    "    try:\n",
    "        stk.info['sharesOutstanding']\n",
    "    except:\n",
    "        stk.info['sharesOutstanding'] = None\n",
    "\n",
    "    # first option\n",
    "    if stk.info['floatShares']:\n",
    "        mcap = prc * stk.info['floatShares']\n",
    "\n",
    "    # second option: 如果找不到 float shares\n",
    "    elif stk.info['sharesOutstanding']:\n",
    "        mcap = prc * stk.info['sharesOutstanding']\n",
    "    \n",
    "    # last option: 如果都找不到 float share 貨 shares outstanding，那就藉由計算: 市值/昨日收盤價 取得 shares outstanding 的 proxy\n",
    "    else:\n",
    "        mcap = prc * (stk.info['marketCap']/stk.info['previousClose'])\n",
    "\n",
    "    # 把最新取得的總市值加入 data fame 中\n",
    "    try:\n",
    "        df_mcap = pd.concat([df_mcap, mcap], axis=1)\n",
    "    except:\n",
    "        df_mcap = mcap"
   ]
  },
  {
   "cell_type": "markdown",
   "metadata": {},
   "source": [
    "## calcualate price-weighted DJIA"
   ]
  },
  {
   "cell_type": "code",
   "execution_count": 9,
   "metadata": {},
   "outputs": [
    {
     "data": {
      "text/html": [
       "<div>\n",
       "<style scoped>\n",
       "    .dataframe tbody tr th:only-of-type {\n",
       "        vertical-align: middle;\n",
       "    }\n",
       "\n",
       "    .dataframe tbody tr th {\n",
       "        vertical-align: top;\n",
       "    }\n",
       "\n",
       "    .dataframe thead th {\n",
       "        text-align: right;\n",
       "    }\n",
       "</style>\n",
       "<table border=\"1\" class=\"dataframe\">\n",
       "  <thead>\n",
       "    <tr style=\"text-align: right;\">\n",
       "      <th></th>\n",
       "      <th>MMM</th>\n",
       "      <th>AXP</th>\n",
       "      <th>AMGN</th>\n",
       "      <th>AAPL</th>\n",
       "      <th>BA</th>\n",
       "      <th>CAT</th>\n",
       "      <th>CVX</th>\n",
       "      <th>CSCO</th>\n",
       "      <th>KO</th>\n",
       "      <th>DOW</th>\n",
       "      <th>...</th>\n",
       "      <th>NKE</th>\n",
       "      <th>PG</th>\n",
       "      <th>CRM</th>\n",
       "      <th>TRV</th>\n",
       "      <th>UNH</th>\n",
       "      <th>VZ</th>\n",
       "      <th>V</th>\n",
       "      <th>WBA</th>\n",
       "      <th>WMT</th>\n",
       "      <th>DIS</th>\n",
       "    </tr>\n",
       "    <tr>\n",
       "      <th>Date</th>\n",
       "      <th></th>\n",
       "      <th></th>\n",
       "      <th></th>\n",
       "      <th></th>\n",
       "      <th></th>\n",
       "      <th></th>\n",
       "      <th></th>\n",
       "      <th></th>\n",
       "      <th></th>\n",
       "      <th></th>\n",
       "      <th></th>\n",
       "      <th></th>\n",
       "      <th></th>\n",
       "      <th></th>\n",
       "      <th></th>\n",
       "      <th></th>\n",
       "      <th></th>\n",
       "      <th></th>\n",
       "      <th></th>\n",
       "      <th></th>\n",
       "      <th></th>\n",
       "    </tr>\n",
       "  </thead>\n",
       "  <tbody>\n",
       "    <tr>\n",
       "      <th>2021-06-30</th>\n",
       "      <td>1.139364e+11</td>\n",
       "      <td>1.054957e+11</td>\n",
       "      <td>1.370897e+11</td>\n",
       "      <td>2.258234e+12</td>\n",
       "      <td>1.283215e+11</td>\n",
       "      <td>1.182471e+11</td>\n",
       "      <td>1.973511e+11</td>\n",
       "      <td>2.203241e+11</td>\n",
       "      <td>2.087911e+11</td>\n",
       "      <td>4.668876e+10</td>\n",
       "      <td>...</td>\n",
       "      <td>1.944933e+11</td>\n",
       "      <td>3.251208e+11</td>\n",
       "      <td>2.310430e+11</td>\n",
       "      <td>3.701451e+10</td>\n",
       "      <td>3.789790e+11</td>\n",
       "      <td>2.178487e+11</td>\n",
       "      <td>3.936110e+11</td>\n",
       "      <td>3.735240e+10</td>\n",
       "      <td>2.047624e+11</td>\n",
       "      <td>3.190546e+11</td>\n",
       "    </tr>\n",
       "    <tr>\n",
       "      <th>2021-07-01</th>\n",
       "      <td>1.142003e+11</td>\n",
       "      <td>1.068656e+11</td>\n",
       "      <td>1.388613e+11</td>\n",
       "      <td>2.263345e+12</td>\n",
       "      <td>1.284126e+11</td>\n",
       "      <td>1.177473e+11</td>\n",
       "      <td>2.001208e+11</td>\n",
       "      <td>2.221532e+11</td>\n",
       "      <td>2.082123e+11</td>\n",
       "      <td>4.685108e+10</td>\n",
       "      <td>...</td>\n",
       "      <td>1.989121e+11</td>\n",
       "      <td>3.258678e+11</td>\n",
       "      <td>2.317146e+11</td>\n",
       "      <td>3.753867e+10</td>\n",
       "      <td>3.831905e+11</td>\n",
       "      <td>2.188596e+11</td>\n",
       "      <td>3.958498e+11</td>\n",
       "      <td>3.458345e+10</td>\n",
       "      <td>2.022940e+11</td>\n",
       "      <td>3.217592e+11</td>\n",
       "    </tr>\n",
       "    <tr>\n",
       "      <th>2021-07-02</th>\n",
       "      <td>1.146592e+11</td>\n",
       "      <td>1.078642e+11</td>\n",
       "      <td>1.398736e+11</td>\n",
       "      <td>2.307699e+12</td>\n",
       "      <td>1.267788e+11</td>\n",
       "      <td>1.183178e+11</td>\n",
       "      <td>1.998570e+11</td>\n",
       "      <td>2.241206e+11</td>\n",
       "      <td>2.090612e+11</td>\n",
       "      <td>4.685846e+10</td>\n",
       "      <td>...</td>\n",
       "      <td>2.011027e+11</td>\n",
       "      <td>3.274581e+11</td>\n",
       "      <td>2.347602e+11</td>\n",
       "      <td>3.739032e+10</td>\n",
       "      <td>3.874209e+11</td>\n",
       "      <td>2.194428e+11</td>\n",
       "      <td>4.017081e+11</td>\n",
       "      <td>3.420006e+10</td>\n",
       "      <td>2.034410e+11</td>\n",
       "      <td>3.214869e+11</td>\n",
       "    </tr>\n",
       "    <tr>\n",
       "      <th>2021-07-06</th>\n",
       "      <td>1.129384e+11</td>\n",
       "      <td>1.085428e+11</td>\n",
       "      <td>1.370334e+11</td>\n",
       "      <td>2.341664e+12</td>\n",
       "      <td>1.264896e+11</td>\n",
       "      <td>1.160140e+11</td>\n",
       "      <td>1.959379e+11</td>\n",
       "      <td>2.217764e+11</td>\n",
       "      <td>2.079036e+11</td>\n",
       "      <td>4.569272e+10</td>\n",
       "      <td>...</td>\n",
       "      <td>2.015685e+11</td>\n",
       "      <td>3.276508e+11</td>\n",
       "      <td>2.366992e+11</td>\n",
       "      <td>3.729390e+10</td>\n",
       "      <td>3.882727e+11</td>\n",
       "      <td>2.193262e+11</td>\n",
       "      <td>4.033410e+11</td>\n",
       "      <td>3.386637e+10</td>\n",
       "      <td>2.031942e+11</td>\n",
       "      <td>3.152790e+11</td>\n",
       "    </tr>\n",
       "    <tr>\n",
       "      <th>2021-07-07</th>\n",
       "      <td>1.146420e+11</td>\n",
       "      <td>1.094518e+11</td>\n",
       "      <td>1.367916e+11</td>\n",
       "      <td>2.383709e+12</td>\n",
       "      <td>1.241541e+11</td>\n",
       "      <td>1.166497e+11</td>\n",
       "      <td>1.939407e+11</td>\n",
       "      <td>2.229485e+11</td>\n",
       "      <td>2.096014e+11</td>\n",
       "      <td>4.592882e+10</td>\n",
       "      <td>...</td>\n",
       "      <td>2.016314e+11</td>\n",
       "      <td>3.301086e+11</td>\n",
       "      <td>2.349872e+11</td>\n",
       "      <td>3.762767e+10</td>\n",
       "      <td>3.895977e+11</td>\n",
       "      <td>2.197927e+11</td>\n",
       "      <td>4.040143e+11</td>\n",
       "      <td>3.371727e+10</td>\n",
       "      <td>2.028602e+11</td>\n",
       "      <td>3.136998e+11</td>\n",
       "    </tr>\n",
       "  </tbody>\n",
       "</table>\n",
       "<p>5 rows × 30 columns</p>\n",
       "</div>"
      ],
      "text/plain": [
       "                     MMM           AXP          AMGN          AAPL  \\\n",
       "Date                                                                 \n",
       "2021-06-30  1.139364e+11  1.054957e+11  1.370897e+11  2.258234e+12   \n",
       "2021-07-01  1.142003e+11  1.068656e+11  1.388613e+11  2.263345e+12   \n",
       "2021-07-02  1.146592e+11  1.078642e+11  1.398736e+11  2.307699e+12   \n",
       "2021-07-06  1.129384e+11  1.085428e+11  1.370334e+11  2.341664e+12   \n",
       "2021-07-07  1.146420e+11  1.094518e+11  1.367916e+11  2.383709e+12   \n",
       "\n",
       "                      BA           CAT           CVX          CSCO  \\\n",
       "Date                                                                 \n",
       "2021-06-30  1.283215e+11  1.182471e+11  1.973511e+11  2.203241e+11   \n",
       "2021-07-01  1.284126e+11  1.177473e+11  2.001208e+11  2.221532e+11   \n",
       "2021-07-02  1.267788e+11  1.183178e+11  1.998570e+11  2.241206e+11   \n",
       "2021-07-06  1.264896e+11  1.160140e+11  1.959379e+11  2.217764e+11   \n",
       "2021-07-07  1.241541e+11  1.166497e+11  1.939407e+11  2.229485e+11   \n",
       "\n",
       "                      KO           DOW  ...           NKE            PG  \\\n",
       "Date                                    ...                               \n",
       "2021-06-30  2.087911e+11  4.668876e+10  ...  1.944933e+11  3.251208e+11   \n",
       "2021-07-01  2.082123e+11  4.685108e+10  ...  1.989121e+11  3.258678e+11   \n",
       "2021-07-02  2.090612e+11  4.685846e+10  ...  2.011027e+11  3.274581e+11   \n",
       "2021-07-06  2.079036e+11  4.569272e+10  ...  2.015685e+11  3.276508e+11   \n",
       "2021-07-07  2.096014e+11  4.592882e+10  ...  2.016314e+11  3.301086e+11   \n",
       "\n",
       "                     CRM           TRV           UNH            VZ  \\\n",
       "Date                                                                 \n",
       "2021-06-30  2.310430e+11  3.701451e+10  3.789790e+11  2.178487e+11   \n",
       "2021-07-01  2.317146e+11  3.753867e+10  3.831905e+11  2.188596e+11   \n",
       "2021-07-02  2.347602e+11  3.739032e+10  3.874209e+11  2.194428e+11   \n",
       "2021-07-06  2.366992e+11  3.729390e+10  3.882727e+11  2.193262e+11   \n",
       "2021-07-07  2.349872e+11  3.762767e+10  3.895977e+11  2.197927e+11   \n",
       "\n",
       "                       V           WBA           WMT           DIS  \n",
       "Date                                                                \n",
       "2021-06-30  3.936110e+11  3.735240e+10  2.047624e+11  3.190546e+11  \n",
       "2021-07-01  3.958498e+11  3.458345e+10  2.022940e+11  3.217592e+11  \n",
       "2021-07-02  4.017081e+11  3.420006e+10  2.034410e+11  3.214869e+11  \n",
       "2021-07-06  4.033410e+11  3.386637e+10  2.031942e+11  3.152790e+11  \n",
       "2021-07-07  4.040143e+11  3.371727e+10  2.028602e+11  3.136998e+11  \n",
       "\n",
       "[5 rows x 30 columns]"
      ]
     },
     "execution_count": 9,
     "metadata": {},
     "output_type": "execute_result"
    }
   ],
   "source": [
    "df_mcap.head() # market shares for each stock"
   ]
  },
  {
   "cell_type": "code",
   "execution_count": 10,
   "metadata": {},
   "outputs": [
    {
     "data": {
      "text/html": [
       "<div>\n",
       "<style scoped>\n",
       "    .dataframe tbody tr th:only-of-type {\n",
       "        vertical-align: middle;\n",
       "    }\n",
       "\n",
       "    .dataframe tbody tr th {\n",
       "        vertical-align: top;\n",
       "    }\n",
       "\n",
       "    .dataframe thead th {\n",
       "        text-align: right;\n",
       "    }\n",
       "</style>\n",
       "<table border=\"1\" class=\"dataframe\">\n",
       "  <thead>\n",
       "    <tr style=\"text-align: right;\">\n",
       "      <th></th>\n",
       "      <th>MMM</th>\n",
       "      <th>AXP</th>\n",
       "      <th>AMGN</th>\n",
       "      <th>AAPL</th>\n",
       "      <th>BA</th>\n",
       "      <th>CAT</th>\n",
       "      <th>CVX</th>\n",
       "      <th>CSCO</th>\n",
       "      <th>KO</th>\n",
       "      <th>DOW</th>\n",
       "      <th>...</th>\n",
       "      <th>NKE</th>\n",
       "      <th>PG</th>\n",
       "      <th>CRM</th>\n",
       "      <th>TRV</th>\n",
       "      <th>UNH</th>\n",
       "      <th>VZ</th>\n",
       "      <th>V</th>\n",
       "      <th>WBA</th>\n",
       "      <th>WMT</th>\n",
       "      <th>DIS</th>\n",
       "    </tr>\n",
       "    <tr>\n",
       "      <th>Date</th>\n",
       "      <th></th>\n",
       "      <th></th>\n",
       "      <th></th>\n",
       "      <th></th>\n",
       "      <th></th>\n",
       "      <th></th>\n",
       "      <th></th>\n",
       "      <th></th>\n",
       "      <th></th>\n",
       "      <th></th>\n",
       "      <th></th>\n",
       "      <th></th>\n",
       "      <th></th>\n",
       "      <th></th>\n",
       "      <th></th>\n",
       "      <th></th>\n",
       "      <th></th>\n",
       "      <th></th>\n",
       "      <th></th>\n",
       "      <th></th>\n",
       "      <th></th>\n",
       "    </tr>\n",
       "  </thead>\n",
       "  <tbody>\n",
       "    <tr>\n",
       "      <th>2021-06-30</th>\n",
       "      <td>197.125229</td>\n",
       "      <td>164.391312</td>\n",
       "      <td>241.882187</td>\n",
       "      <td>136.755112</td>\n",
       "      <td>239.559998</td>\n",
       "      <td>216.468338</td>\n",
       "      <td>103.346657</td>\n",
       "      <td>52.279869</td>\n",
       "      <td>53.704681</td>\n",
       "      <td>62.602482</td>\n",
       "      <td>...</td>\n",
       "      <td>154.235489</td>\n",
       "      <td>134.086670</td>\n",
       "      <td>244.270004</td>\n",
       "      <td>148.880066</td>\n",
       "      <td>399.039337</td>\n",
       "      <td>54.757252</td>\n",
       "      <td>233.501694</td>\n",
       "      <td>52.096992</td>\n",
       "      <td>140.502975</td>\n",
       "      <td>175.770004</td>\n",
       "    </tr>\n",
       "    <tr>\n",
       "      <th>2021-07-01</th>\n",
       "      <td>197.581741</td>\n",
       "      <td>166.526031</td>\n",
       "      <td>245.008041</td>\n",
       "      <td>137.064651</td>\n",
       "      <td>239.729996</td>\n",
       "      <td>215.553238</td>\n",
       "      <td>104.797104</td>\n",
       "      <td>52.713886</td>\n",
       "      <td>53.555805</td>\n",
       "      <td>62.820126</td>\n",
       "      <td>...</td>\n",
       "      <td>157.739700</td>\n",
       "      <td>134.394745</td>\n",
       "      <td>244.979996</td>\n",
       "      <td>150.988312</td>\n",
       "      <td>403.473785</td>\n",
       "      <td>55.011349</td>\n",
       "      <td>234.829865</td>\n",
       "      <td>48.235020</td>\n",
       "      <td>138.809204</td>\n",
       "      <td>177.259995</td>\n",
       "    </tr>\n",
       "    <tr>\n",
       "      <th>2021-07-02</th>\n",
       "      <td>198.375687</td>\n",
       "      <td>168.082153</td>\n",
       "      <td>246.794250</td>\n",
       "      <td>139.750626</td>\n",
       "      <td>236.679993</td>\n",
       "      <td>216.597626</td>\n",
       "      <td>104.658966</td>\n",
       "      <td>53.180737</td>\n",
       "      <td>53.774158</td>\n",
       "      <td>62.830017</td>\n",
       "      <td>...</td>\n",
       "      <td>159.476837</td>\n",
       "      <td>135.050613</td>\n",
       "      <td>248.199997</td>\n",
       "      <td>150.391632</td>\n",
       "      <td>407.928131</td>\n",
       "      <td>55.157940</td>\n",
       "      <td>238.305145</td>\n",
       "      <td>47.700287</td>\n",
       "      <td>139.596298</td>\n",
       "      <td>177.110001</td>\n",
       "    </tr>\n",
       "    <tr>\n",
       "      <th>2021-07-06</th>\n",
       "      <td>195.398407</td>\n",
       "      <td>169.139526</td>\n",
       "      <td>241.782944</td>\n",
       "      <td>141.807541</td>\n",
       "      <td>236.139999</td>\n",
       "      <td>212.380264</td>\n",
       "      <td>102.606636</td>\n",
       "      <td>52.624496</td>\n",
       "      <td>53.476406</td>\n",
       "      <td>61.266937</td>\n",
       "      <td>...</td>\n",
       "      <td>159.846222</td>\n",
       "      <td>135.130112</td>\n",
       "      <td>250.250000</td>\n",
       "      <td>150.003799</td>\n",
       "      <td>408.825012</td>\n",
       "      <td>55.128624</td>\n",
       "      <td>239.273819</td>\n",
       "      <td>47.234871</td>\n",
       "      <td>139.426926</td>\n",
       "      <td>173.690002</td>\n",
       "    </tr>\n",
       "    <tr>\n",
       "      <th>2021-07-07</th>\n",
       "      <td>198.345917</td>\n",
       "      <td>170.556000</td>\n",
       "      <td>241.356247</td>\n",
       "      <td>144.353729</td>\n",
       "      <td>231.779999</td>\n",
       "      <td>213.544022</td>\n",
       "      <td>101.560738</td>\n",
       "      <td>52.902615</td>\n",
       "      <td>53.913109</td>\n",
       "      <td>61.583511</td>\n",
       "      <td>...</td>\n",
       "      <td>159.896149</td>\n",
       "      <td>136.143753</td>\n",
       "      <td>248.440002</td>\n",
       "      <td>151.346313</td>\n",
       "      <td>410.220093</td>\n",
       "      <td>55.245895</td>\n",
       "      <td>239.673279</td>\n",
       "      <td>47.026920</td>\n",
       "      <td>139.197769</td>\n",
       "      <td>172.820007</td>\n",
       "    </tr>\n",
       "  </tbody>\n",
       "</table>\n",
       "<p>5 rows × 30 columns</p>\n",
       "</div>"
      ],
      "text/plain": [
       "                   MMM         AXP        AMGN        AAPL          BA  \\\n",
       "Date                                                                     \n",
       "2021-06-30  197.125229  164.391312  241.882187  136.755112  239.559998   \n",
       "2021-07-01  197.581741  166.526031  245.008041  137.064651  239.729996   \n",
       "2021-07-02  198.375687  168.082153  246.794250  139.750626  236.679993   \n",
       "2021-07-06  195.398407  169.139526  241.782944  141.807541  236.139999   \n",
       "2021-07-07  198.345917  170.556000  241.356247  144.353729  231.779999   \n",
       "\n",
       "                   CAT         CVX       CSCO         KO        DOW  ...  \\\n",
       "Date                                                                 ...   \n",
       "2021-06-30  216.468338  103.346657  52.279869  53.704681  62.602482  ...   \n",
       "2021-07-01  215.553238  104.797104  52.713886  53.555805  62.820126  ...   \n",
       "2021-07-02  216.597626  104.658966  53.180737  53.774158  62.830017  ...   \n",
       "2021-07-06  212.380264  102.606636  52.624496  53.476406  61.266937  ...   \n",
       "2021-07-07  213.544022  101.560738  52.902615  53.913109  61.583511  ...   \n",
       "\n",
       "                   NKE          PG         CRM         TRV         UNH  \\\n",
       "Date                                                                     \n",
       "2021-06-30  154.235489  134.086670  244.270004  148.880066  399.039337   \n",
       "2021-07-01  157.739700  134.394745  244.979996  150.988312  403.473785   \n",
       "2021-07-02  159.476837  135.050613  248.199997  150.391632  407.928131   \n",
       "2021-07-06  159.846222  135.130112  250.250000  150.003799  408.825012   \n",
       "2021-07-07  159.896149  136.143753  248.440002  151.346313  410.220093   \n",
       "\n",
       "                   VZ           V        WBA         WMT         DIS  \n",
       "Date                                                                  \n",
       "2021-06-30  54.757252  233.501694  52.096992  140.502975  175.770004  \n",
       "2021-07-01  55.011349  234.829865  48.235020  138.809204  177.259995  \n",
       "2021-07-02  55.157940  238.305145  47.700287  139.596298  177.110001  \n",
       "2021-07-06  55.128624  239.273819  47.234871  139.426926  173.690002  \n",
       "2021-07-07  55.245895  239.673279  47.026920  139.197769  172.820007  \n",
       "\n",
       "[5 rows x 30 columns]"
      ]
     },
     "execution_count": 10,
     "metadata": {},
     "output_type": "execute_result"
    }
   ],
   "source": [
    "df_prc.head()"
   ]
  },
  {
   "cell_type": "markdown",
   "metadata": {},
   "source": [
    "WHY SUM??  \n",
    "Remember 道瓊工業指數的定義:\n",
    ">\n",
    "每個組成公司的一股股票價格總和後的平均值"
   ]
  },
  {
   "cell_type": "code",
   "execution_count": 11,
   "metadata": {},
   "outputs": [
    {
     "data": {
      "text/html": [
       "<div>\n",
       "<style scoped>\n",
       "    .dataframe tbody tr th:only-of-type {\n",
       "        vertical-align: middle;\n",
       "    }\n",
       "\n",
       "    .dataframe tbody tr th {\n",
       "        vertical-align: top;\n",
       "    }\n",
       "\n",
       "    .dataframe thead th {\n",
       "        text-align: right;\n",
       "    }\n",
       "</style>\n",
       "<table border=\"1\" class=\"dataframe\">\n",
       "  <thead>\n",
       "    <tr style=\"text-align: right;\">\n",
       "      <th></th>\n",
       "      <th>PWI</th>\n",
       "    </tr>\n",
       "    <tr>\n",
       "      <th>Date</th>\n",
       "      <th></th>\n",
       "    </tr>\n",
       "  </thead>\n",
       "  <tbody>\n",
       "    <tr>\n",
       "      <th>2021-08-24</th>\n",
       "      <td>5359.864159</td>\n",
       "    </tr>\n",
       "    <tr>\n",
       "      <th>2021-08-25</th>\n",
       "      <td>5365.775154</td>\n",
       "    </tr>\n",
       "    <tr>\n",
       "      <th>2021-08-26</th>\n",
       "      <td>5336.622791</td>\n",
       "    </tr>\n",
       "    <tr>\n",
       "      <th>2021-08-27</th>\n",
       "      <td>5373.658321</td>\n",
       "    </tr>\n",
       "    <tr>\n",
       "      <th>2021-08-30</th>\n",
       "      <td>5365.910099</td>\n",
       "    </tr>\n",
       "  </tbody>\n",
       "</table>\n",
       "</div>"
      ],
      "text/plain": [
       "                    PWI\n",
       "Date                   \n",
       "2021-08-24  5359.864159\n",
       "2021-08-25  5365.775154\n",
       "2021-08-26  5336.622791\n",
       "2021-08-27  5373.658321\n",
       "2021-08-30  5365.910099"
      ]
     },
     "execution_count": 11,
     "metadata": {},
     "output_type": "execute_result"
    }
   ],
   "source": [
    "PWI = df_prc.sum(axis=1) # sum up prices at the same time period\n",
    "PWI = pd.DataFrame(PWI.rename('PWI')) # put the result in a dataframe\n",
    "PWI.tail()"
   ]
  },
  {
   "cell_type": "markdown",
   "metadata": {},
   "source": [
    "## Compare with actual index"
   ]
  },
  {
   "cell_type": "code",
   "execution_count": 12,
   "metadata": {},
   "outputs": [
    {
     "data": {
      "text/plain": [
       "^DJI    34502.511719\n",
       "Name: 2021-06-30 00:00:00, dtype: float64"
      ]
     },
     "execution_count": 12,
     "metadata": {},
     "output_type": "execute_result"
    }
   ],
   "source": [
    "egg = Index.copy()\n",
    "egg.iloc[0]"
   ]
  },
  {
   "cell_type": "code",
   "execution_count": 13,
   "metadata": {},
   "outputs": [
    {
     "data": {
      "text/plain": [
       "Index(['^DJI'], dtype='object')"
      ]
     },
     "execution_count": 13,
     "metadata": {},
     "output_type": "execute_result"
    }
   ],
   "source": [
    "egg.columns"
   ]
  },
  {
   "cell_type": "code",
   "execution_count": 14,
   "metadata": {},
   "outputs": [
    {
     "data": {
      "text/plain": [
       "pandas.core.series.Series"
      ]
     },
     "execution_count": 14,
     "metadata": {},
     "output_type": "execute_result"
    }
   ],
   "source": [
    "type(egg.iloc[0])"
   ]
  },
  {
   "cell_type": "code",
   "execution_count": 15,
   "metadata": {},
   "outputs": [
    {
     "name": "stdout",
     "output_type": "stream",
     "text": [
      "                    ^DJI\n",
      "Date                    \n",
      "2021-06-30  34502.511719\n",
      "2021-07-01  34633.531250\n",
      "2021-07-02  34786.351562\n",
      "2021-07-06  34577.371094\n",
      "2021-07-07  34681.789062\n",
      "                  ^DJI\n",
      "Date                  \n",
      "2021-06-30  100.000000\n",
      "2021-07-01  100.379739\n",
      "2021-07-02  100.822664\n",
      "2021-07-06  100.216968\n",
      "2021-07-07  100.519607\n"
     ]
    }
   ],
   "source": [
    "print(egg.head())\n",
    "\n",
    "egg2 = egg.divide(egg.iloc[0] / 100) # 除上多少就是將基準 (基期)設在多少\n",
    "print(egg2.head())"
   ]
  },
  {
   "cell_type": "code",
   "execution_count": 35,
   "metadata": {},
   "outputs": [
    {
     "data": {
      "image/png": "[encoded data removed]",
      "text/plain": [
       "<Figure size 432x288 with 1 Axes>"
      ]
     },
     "metadata": {},
     "output_type": "display_data"
    }
   ],
   "source": [
    "import matplotlib.pyplot as plt\n",
    "TS = Index.join(PWI) # join the actual index with the replicated index\n",
    "# TS[idx] = TS[idx]/TS[idx][0] # compute cumulative returns of $1 investment in the actual index (跟 pct_change() 的效果一樣??)\n",
    "# TS.PW_rep = TS.PWI/TS.PWI[0] # compute cumulative returns of $1 investment in the replicated index\n",
    "\n",
    "TS = TS.divide(TS.iloc[0] / 100) # element wise division\n",
    "# 作用: 將第一筆資料 (最早日期的資料) 的數值設為 100\n",
    "\n",
    "plt.style.use('ggplot')\n",
    "fig = TS.plot(color=[\"green\",\"red\"],alpha=0.5,linewidth=5)\n",
    "plt.title('Actual DJI versus PWI')\n",
    "plt.legend(loc='best')\n",
    "plt.ylabel('Cumulative returns')\n",
    "plt.show()"
   ]
  },
  {
   "cell_type": "markdown",
   "metadata": {},
   "source": [
    "Q: ggplot 怎麼知道要畫哪兩個?   \n",
    "ANS: 看起來是因為 ```TS``` 只有兩個 columns，所以也就只能畫這兩個資訊"
   ]
  },
  {
   "cell_type": "code",
   "execution_count": 17,
   "metadata": {},
   "outputs": [
    {
     "data": {
      "text/plain": [
       "Index(['^DJI', 'PWI'], dtype='object')"
      ]
     },
     "execution_count": 17,
     "metadata": {},
     "output_type": "execute_result"
    }
   ],
   "source": [
    "TS.columns"
   ]
  },
  {
   "cell_type": "markdown",
   "metadata": {},
   "source": [
    "## 將 Daily Return 比較圖畫出 -> 適合用 bar graph"
   ]
  },
  {
   "cell_type": "code",
   "execution_count": 18,
   "metadata": {},
   "outputs": [],
   "source": [
    "import matplotlib.pyplot as plt\n",
    "from matplotlib.ticker import FuncFormatter"
   ]
  },
  {
   "cell_type": "code",
   "execution_count": 19,
   "metadata": {},
   "outputs": [
    {
     "data": {
      "text/html": [
       "<div>\n",
       "<style scoped>\n",
       "    .dataframe tbody tr th:only-of-type {\n",
       "        vertical-align: middle;\n",
       "    }\n",
       "\n",
       "    .dataframe tbody tr th {\n",
       "        vertical-align: top;\n",
       "    }\n",
       "\n",
       "    .dataframe thead th {\n",
       "        text-align: right;\n",
       "    }\n",
       "</style>\n",
       "<table border=\"1\" class=\"dataframe\">\n",
       "  <thead>\n",
       "    <tr style=\"text-align: right;\">\n",
       "      <th></th>\n",
       "      <th>^DJI</th>\n",
       "      <th>PWI</th>\n",
       "    </tr>\n",
       "    <tr>\n",
       "      <th>Date</th>\n",
       "      <th></th>\n",
       "      <th></th>\n",
       "    </tr>\n",
       "  </thead>\n",
       "  <tbody>\n",
       "    <tr>\n",
       "      <th>2021-06-30</th>\n",
       "      <td>NaN</td>\n",
       "      <td>NaN</td>\n",
       "    </tr>\n",
       "    <tr>\n",
       "      <th>2021-07-01</th>\n",
       "      <td>0.003797</td>\n",
       "      <td>0.003882</td>\n",
       "    </tr>\n",
       "    <tr>\n",
       "      <th>2021-07-02</th>\n",
       "      <td>0.004412</td>\n",
       "      <td>0.004670</td>\n",
       "    </tr>\n",
       "    <tr>\n",
       "      <th>2021-07-06</th>\n",
       "      <td>-0.006008</td>\n",
       "      <td>-0.005992</td>\n",
       "    </tr>\n",
       "    <tr>\n",
       "      <th>2021-07-07</th>\n",
       "      <td>0.003020</td>\n",
       "      <td>0.003014</td>\n",
       "    </tr>\n",
       "  </tbody>\n",
       "</table>\n",
       "</div>"
      ],
      "text/plain": [
       "                ^DJI       PWI\n",
       "Date                          \n",
       "2021-06-30       NaN       NaN\n",
       "2021-07-01  0.003797  0.003882\n",
       "2021-07-02  0.004412  0.004670\n",
       "2021-07-06 -0.006008 -0.005992\n",
       "2021-07-07  0.003020  0.003014"
      ]
     },
     "execution_count": 19,
     "metadata": {},
     "output_type": "execute_result"
    }
   ],
   "source": [
    "RTS = TS.pct_change()\n",
    "RTS.head()"
   ]
  },
  {
   "cell_type": "code",
   "execution_count": 20,
   "metadata": {},
   "outputs": [
    {
     "data": {
      "image/png": "[encoded data removed]",
      "text/plain": [
       "<Figure size 432x288 with 1 Axes>"
      ]
     },
     "metadata": {},
     "output_type": "display_data"
    }
   ],
   "source": [
    "fig, ax = plt.subplots()\n",
    "ax.bar(RTS.index, RTS['^DJI'], color='green', alpha=0.5, width=0.75)\n",
    "ax.bar(RTS.index,RTS['PWI'],color='red',alpha=0.5,width=0.35)\n",
    "\n",
    "# ax.yaxis.set_major_formatter(FuncFormatter(lambda y, _: '{:.1%}'.format(y)))\n",
    "ax.yaxis.set_major_formatter(FuncFormatter('{0:.1%}'.format))\n",
    "plt.setp(ax.get_xticklabels(), ha='right', rotation=45)\n",
    "\n",
    "plt.title('Daily Returns of DJI and PWI')\n",
    "plt.legend(['DJI', 'PWI'])\n",
    "plt.show()"
   ]
  },
  {
   "cell_type": "markdown",
   "metadata": {},
   "source": [
    "Code 解析:\n",
    "- ```FuncFormatter(lambda y, _: '{:.1%}'.format(y))``` 可以用 ```FuncFormatter('{0:.1%}'.format)``` 代替，其中:  \n",
    "    - '{0:.1%}'.format creates a formatting function.\n",
    "    - 冒號前面的 0 tells the formatter to replace theurly-brackets and its contents with the first argument passed to the function (就是指 x 的內容) \n",
    "    - 冒號後面的 :.1%, tells the formatter how to render the value. The .1 specifies 1 decimal places and % specifies rendering as a percent.\n",
    "- ```plt.setp```: setp 的 p 我猜是指 properity，其實就是把很多資料要如何呈現用一個方法呈現，其中:\n",
    "    - 第一個參數: ```ax.get_xticklabels()```: 代表我們後面要套用的 properity 是用在 x 軸上的數據\n",
    "    - ```ha```: horizontal Alignment (水平對齊): 可以選 ```left```, ```center```，或 ```right``` (分別表示靠左、靠中、靠右)\n",
    "    - ```rotation```: 將 x 軸數據旋轉 45 %"
   ]
  },
  {
   "cell_type": "markdown",
   "metadata": {},
   "source": [
    "## 創建 value-weighted index:"
   ]
  },
  {
   "cell_type": "code",
   "execution_count": 21,
   "metadata": {},
   "outputs": [
    {
     "data": {
      "text/html": [
       "<div>\n",
       "<style scoped>\n",
       "    .dataframe tbody tr th:only-of-type {\n",
       "        vertical-align: middle;\n",
       "    }\n",
       "\n",
       "    .dataframe tbody tr th {\n",
       "        vertical-align: top;\n",
       "    }\n",
       "\n",
       "    .dataframe thead th {\n",
       "        text-align: right;\n",
       "    }\n",
       "</style>\n",
       "<table border=\"1\" class=\"dataframe\">\n",
       "  <thead>\n",
       "    <tr style=\"text-align: right;\">\n",
       "      <th></th>\n",
       "      <th>MMM</th>\n",
       "      <th>AXP</th>\n",
       "      <th>AMGN</th>\n",
       "      <th>AAPL</th>\n",
       "      <th>BA</th>\n",
       "      <th>CAT</th>\n",
       "      <th>CVX</th>\n",
       "      <th>CSCO</th>\n",
       "      <th>KO</th>\n",
       "      <th>DOW</th>\n",
       "      <th>...</th>\n",
       "      <th>NKE</th>\n",
       "      <th>PG</th>\n",
       "      <th>CRM</th>\n",
       "      <th>TRV</th>\n",
       "      <th>UNH</th>\n",
       "      <th>VZ</th>\n",
       "      <th>V</th>\n",
       "      <th>WBA</th>\n",
       "      <th>WMT</th>\n",
       "      <th>DIS</th>\n",
       "    </tr>\n",
       "    <tr>\n",
       "      <th>Date</th>\n",
       "      <th></th>\n",
       "      <th></th>\n",
       "      <th></th>\n",
       "      <th></th>\n",
       "      <th></th>\n",
       "      <th></th>\n",
       "      <th></th>\n",
       "      <th></th>\n",
       "      <th></th>\n",
       "      <th></th>\n",
       "      <th></th>\n",
       "      <th></th>\n",
       "      <th></th>\n",
       "      <th></th>\n",
       "      <th></th>\n",
       "      <th></th>\n",
       "      <th></th>\n",
       "      <th></th>\n",
       "      <th></th>\n",
       "      <th></th>\n",
       "      <th></th>\n",
       "    </tr>\n",
       "  </thead>\n",
       "  <tbody>\n",
       "    <tr>\n",
       "      <th>2021-06-30</th>\n",
       "      <td>1.139364e+11</td>\n",
       "      <td>1.054957e+11</td>\n",
       "      <td>1.370897e+11</td>\n",
       "      <td>2.258234e+12</td>\n",
       "      <td>1.283215e+11</td>\n",
       "      <td>1.182471e+11</td>\n",
       "      <td>1.973511e+11</td>\n",
       "      <td>2.203241e+11</td>\n",
       "      <td>2.087911e+11</td>\n",
       "      <td>4.668876e+10</td>\n",
       "      <td>...</td>\n",
       "      <td>1.944933e+11</td>\n",
       "      <td>3.251208e+11</td>\n",
       "      <td>2.310430e+11</td>\n",
       "      <td>3.701451e+10</td>\n",
       "      <td>3.789790e+11</td>\n",
       "      <td>2.178487e+11</td>\n",
       "      <td>3.936110e+11</td>\n",
       "      <td>3.735240e+10</td>\n",
       "      <td>2.047624e+11</td>\n",
       "      <td>3.190546e+11</td>\n",
       "    </tr>\n",
       "    <tr>\n",
       "      <th>2021-07-01</th>\n",
       "      <td>1.142003e+11</td>\n",
       "      <td>1.068656e+11</td>\n",
       "      <td>1.388613e+11</td>\n",
       "      <td>2.263345e+12</td>\n",
       "      <td>1.284126e+11</td>\n",
       "      <td>1.177473e+11</td>\n",
       "      <td>2.001208e+11</td>\n",
       "      <td>2.221532e+11</td>\n",
       "      <td>2.082123e+11</td>\n",
       "      <td>4.685108e+10</td>\n",
       "      <td>...</td>\n",
       "      <td>1.989121e+11</td>\n",
       "      <td>3.258678e+11</td>\n",
       "      <td>2.317146e+11</td>\n",
       "      <td>3.753867e+10</td>\n",
       "      <td>3.831905e+11</td>\n",
       "      <td>2.188596e+11</td>\n",
       "      <td>3.958498e+11</td>\n",
       "      <td>3.458345e+10</td>\n",
       "      <td>2.022940e+11</td>\n",
       "      <td>3.217592e+11</td>\n",
       "    </tr>\n",
       "    <tr>\n",
       "      <th>2021-07-02</th>\n",
       "      <td>1.146592e+11</td>\n",
       "      <td>1.078642e+11</td>\n",
       "      <td>1.398736e+11</td>\n",
       "      <td>2.307699e+12</td>\n",
       "      <td>1.267788e+11</td>\n",
       "      <td>1.183178e+11</td>\n",
       "      <td>1.998570e+11</td>\n",
       "      <td>2.241206e+11</td>\n",
       "      <td>2.090612e+11</td>\n",
       "      <td>4.685846e+10</td>\n",
       "      <td>...</td>\n",
       "      <td>2.011027e+11</td>\n",
       "      <td>3.274581e+11</td>\n",
       "      <td>2.347602e+11</td>\n",
       "      <td>3.739032e+10</td>\n",
       "      <td>3.874209e+11</td>\n",
       "      <td>2.194428e+11</td>\n",
       "      <td>4.017081e+11</td>\n",
       "      <td>3.420006e+10</td>\n",
       "      <td>2.034410e+11</td>\n",
       "      <td>3.214869e+11</td>\n",
       "    </tr>\n",
       "    <tr>\n",
       "      <th>2021-07-06</th>\n",
       "      <td>1.129384e+11</td>\n",
       "      <td>1.085428e+11</td>\n",
       "      <td>1.370334e+11</td>\n",
       "      <td>2.341664e+12</td>\n",
       "      <td>1.264896e+11</td>\n",
       "      <td>1.160140e+11</td>\n",
       "      <td>1.959379e+11</td>\n",
       "      <td>2.217764e+11</td>\n",
       "      <td>2.079036e+11</td>\n",
       "      <td>4.569272e+10</td>\n",
       "      <td>...</td>\n",
       "      <td>2.015685e+11</td>\n",
       "      <td>3.276508e+11</td>\n",
       "      <td>2.366992e+11</td>\n",
       "      <td>3.729390e+10</td>\n",
       "      <td>3.882727e+11</td>\n",
       "      <td>2.193262e+11</td>\n",
       "      <td>4.033410e+11</td>\n",
       "      <td>3.386637e+10</td>\n",
       "      <td>2.031942e+11</td>\n",
       "      <td>3.152790e+11</td>\n",
       "    </tr>\n",
       "    <tr>\n",
       "      <th>2021-07-07</th>\n",
       "      <td>1.146420e+11</td>\n",
       "      <td>1.094518e+11</td>\n",
       "      <td>1.367916e+11</td>\n",
       "      <td>2.383709e+12</td>\n",
       "      <td>1.241541e+11</td>\n",
       "      <td>1.166497e+11</td>\n",
       "      <td>1.939407e+11</td>\n",
       "      <td>2.229485e+11</td>\n",
       "      <td>2.096014e+11</td>\n",
       "      <td>4.592882e+10</td>\n",
       "      <td>...</td>\n",
       "      <td>2.016314e+11</td>\n",
       "      <td>3.301086e+11</td>\n",
       "      <td>2.349872e+11</td>\n",
       "      <td>3.762767e+10</td>\n",
       "      <td>3.895977e+11</td>\n",
       "      <td>2.197927e+11</td>\n",
       "      <td>4.040143e+11</td>\n",
       "      <td>3.371727e+10</td>\n",
       "      <td>2.028602e+11</td>\n",
       "      <td>3.136998e+11</td>\n",
       "    </tr>\n",
       "  </tbody>\n",
       "</table>\n",
       "<p>5 rows × 30 columns</p>\n",
       "</div>"
      ],
      "text/plain": [
       "                     MMM           AXP          AMGN          AAPL  \\\n",
       "Date                                                                 \n",
       "2021-06-30  1.139364e+11  1.054957e+11  1.370897e+11  2.258234e+12   \n",
       "2021-07-01  1.142003e+11  1.068656e+11  1.388613e+11  2.263345e+12   \n",
       "2021-07-02  1.146592e+11  1.078642e+11  1.398736e+11  2.307699e+12   \n",
       "2021-07-06  1.129384e+11  1.085428e+11  1.370334e+11  2.341664e+12   \n",
       "2021-07-07  1.146420e+11  1.094518e+11  1.367916e+11  2.383709e+12   \n",
       "\n",
       "                      BA           CAT           CVX          CSCO  \\\n",
       "Date                                                                 \n",
       "2021-06-30  1.283215e+11  1.182471e+11  1.973511e+11  2.203241e+11   \n",
       "2021-07-01  1.284126e+11  1.177473e+11  2.001208e+11  2.221532e+11   \n",
       "2021-07-02  1.267788e+11  1.183178e+11  1.998570e+11  2.241206e+11   \n",
       "2021-07-06  1.264896e+11  1.160140e+11  1.959379e+11  2.217764e+11   \n",
       "2021-07-07  1.241541e+11  1.166497e+11  1.939407e+11  2.229485e+11   \n",
       "\n",
       "                      KO           DOW  ...           NKE            PG  \\\n",
       "Date                                    ...                               \n",
       "2021-06-30  2.087911e+11  4.668876e+10  ...  1.944933e+11  3.251208e+11   \n",
       "2021-07-01  2.082123e+11  4.685108e+10  ...  1.989121e+11  3.258678e+11   \n",
       "2021-07-02  2.090612e+11  4.685846e+10  ...  2.011027e+11  3.274581e+11   \n",
       "2021-07-06  2.079036e+11  4.569272e+10  ...  2.015685e+11  3.276508e+11   \n",
       "2021-07-07  2.096014e+11  4.592882e+10  ...  2.016314e+11  3.301086e+11   \n",
       "\n",
       "                     CRM           TRV           UNH            VZ  \\\n",
       "Date                                                                 \n",
       "2021-06-30  2.310430e+11  3.701451e+10  3.789790e+11  2.178487e+11   \n",
       "2021-07-01  2.317146e+11  3.753867e+10  3.831905e+11  2.188596e+11   \n",
       "2021-07-02  2.347602e+11  3.739032e+10  3.874209e+11  2.194428e+11   \n",
       "2021-07-06  2.366992e+11  3.729390e+10  3.882727e+11  2.193262e+11   \n",
       "2021-07-07  2.349872e+11  3.762767e+10  3.895977e+11  2.197927e+11   \n",
       "\n",
       "                       V           WBA           WMT           DIS  \n",
       "Date                                                                \n",
       "2021-06-30  3.936110e+11  3.735240e+10  2.047624e+11  3.190546e+11  \n",
       "2021-07-01  3.958498e+11  3.458345e+10  2.022940e+11  3.217592e+11  \n",
       "2021-07-02  4.017081e+11  3.420006e+10  2.034410e+11  3.214869e+11  \n",
       "2021-07-06  4.033410e+11  3.386637e+10  2.031942e+11  3.152790e+11  \n",
       "2021-07-07  4.040143e+11  3.371727e+10  2.028602e+11  3.136998e+11  \n",
       "\n",
       "[5 rows x 30 columns]"
      ]
     },
     "execution_count": 21,
     "metadata": {},
     "output_type": "execute_result"
    }
   ],
   "source": [
    "df_mcap.head() # 這些數字就是市值 (i.e. 股價*流通在外股數)"
   ]
  },
  {
   "cell_type": "code",
   "execution_count": 22,
   "metadata": {},
   "outputs": [
    {
     "data": {
      "text/plain": [
       "Date\n",
       "2021-06-30    1.010403e+13\n",
       "2021-07-01    1.014385e+13\n",
       "2021-07-02    1.026373e+13\n",
       "2021-07-06    1.025808e+13\n",
       "2021-07-07    1.033280e+13\n",
       "dtype: float64"
      ]
     },
     "execution_count": 22,
     "metadata": {},
     "output_type": "execute_result"
    }
   ],
   "source": [
    "VWI = df_mcap.sum(axis=1)\n",
    "VWI.head()"
   ]
  },
  {
   "cell_type": "code",
   "execution_count": 23,
   "metadata": {},
   "outputs": [
    {
     "data": {
      "text/html": [
       "<div>\n",
       "<style scoped>\n",
       "    .dataframe tbody tr th:only-of-type {\n",
       "        vertical-align: middle;\n",
       "    }\n",
       "\n",
       "    .dataframe tbody tr th {\n",
       "        vertical-align: top;\n",
       "    }\n",
       "\n",
       "    .dataframe thead th {\n",
       "        text-align: right;\n",
       "    }\n",
       "</style>\n",
       "<table border=\"1\" class=\"dataframe\">\n",
       "  <thead>\n",
       "    <tr style=\"text-align: right;\">\n",
       "      <th></th>\n",
       "      <th>VWI</th>\n",
       "    </tr>\n",
       "    <tr>\n",
       "      <th>Date</th>\n",
       "      <th></th>\n",
       "    </tr>\n",
       "  </thead>\n",
       "  <tbody>\n",
       "    <tr>\n",
       "      <th>2021-08-24</th>\n",
       "      <td>1.070812e+13</td>\n",
       "    </tr>\n",
       "    <tr>\n",
       "      <th>2021-08-25</th>\n",
       "      <td>1.068644e+13</td>\n",
       "    </tr>\n",
       "    <tr>\n",
       "      <th>2021-08-26</th>\n",
       "      <td>1.062042e+13</td>\n",
       "    </tr>\n",
       "    <tr>\n",
       "      <th>2021-08-27</th>\n",
       "      <td>1.067537e+13</td>\n",
       "    </tr>\n",
       "    <tr>\n",
       "      <th>2021-08-30</th>\n",
       "      <td>1.077121e+13</td>\n",
       "    </tr>\n",
       "  </tbody>\n",
       "</table>\n",
       "</div>"
      ],
      "text/plain": [
       "                     VWI\n",
       "Date                    \n",
       "2021-08-24  1.070812e+13\n",
       "2021-08-25  1.068644e+13\n",
       "2021-08-26  1.062042e+13\n",
       "2021-08-27  1.067537e+13\n",
       "2021-08-30  1.077121e+13"
      ]
     },
     "execution_count": 23,
     "metadata": {},
     "output_type": "execute_result"
    }
   ],
   "source": [
    "VWI = pd.DataFrame(VWI.rename('VWI')) # rename the column\n",
    "VWI.tail()\n"
   ]
  },
  {
   "cell_type": "markdown",
   "metadata": {},
   "source": [
    "## equal-weighted index:"
   ]
  },
  {
   "cell_type": "markdown",
   "metadata": {},
   "source": [
    "equal weighted: \n",
    "> 指數中的每一家公司，不論大小，在指數中的比重都相同"
   ]
  },
  {
   "cell_type": "code",
   "execution_count": 24,
   "metadata": {},
   "outputs": [],
   "source": [
    "EWI = df_prc.pct_change().mean(axis=1)\n",
    "# .mean() 表示將 pct_change 每個 row 都做平均 (也就是將各 column, i.e. 各股票在當天的漲跌相加，並取平均)\n",
    "# 因此，最後會只剩一個 Column"
   ]
  },
  {
   "cell_type": "code",
   "execution_count": 25,
   "metadata": {},
   "outputs": [
    {
     "data": {
      "text/plain": [
       "Date\n",
       "2021-06-30         NaN\n",
       "2021-07-01    0.002187\n",
       "2021-07-02    0.003872\n",
       "2021-07-06   -0.006684\n",
       "2021-07-07    0.003166\n",
       "dtype: float64"
      ]
     },
     "execution_count": 25,
     "metadata": {},
     "output_type": "execute_result"
    }
   ],
   "source": [
    "EWI.head()"
   ]
  },
  {
   "cell_type": "code",
   "execution_count": 26,
   "metadata": {},
   "outputs": [
    {
     "data": {
      "text/plain": [
       "Date\n",
       "2021-06-30    0.000000\n",
       "2021-07-01    0.002187\n",
       "2021-07-02    0.003872\n",
       "2021-07-06   -0.006684\n",
       "2021-07-07    0.003166\n",
       "dtype: float64"
      ]
     },
     "execution_count": 26,
     "metadata": {},
     "output_type": "execute_result"
    }
   ],
   "source": [
    "EWI[0] = 0 # 因為只有一個 column，所以只需 specify 一個數值??\n",
    "EWI.head()"
   ]
  },
  {
   "cell_type": "code",
   "execution_count": 27,
   "metadata": {},
   "outputs": [],
   "source": [
    "EWI = EWI + 1 # 將各天的百分比漲幅轉為\"剩多少價值\" (注意到我們前面已經把各股票的各天漲幅平均過了，所以現在討論的都是這個 equally weighted index，與個股無關)\n",
    "EWI = EWI.cumprod() # 將前一個 row 的數值 (剩餘價值比例) * 今日剩餘價值比例\n"
   ]
  },
  {
   "cell_type": "code",
   "execution_count": 28,
   "metadata": {},
   "outputs": [
    {
     "data": {
      "text/plain": [
       "pandas.core.series.Series"
      ]
     },
     "execution_count": 28,
     "metadata": {},
     "output_type": "execute_result"
    }
   ],
   "source": [
    "type(EWI)"
   ]
  },
  {
   "cell_type": "code",
   "execution_count": 29,
   "metadata": {},
   "outputs": [
    {
     "data": {
      "text/html": [
       "<div>\n",
       "<style scoped>\n",
       "    .dataframe tbody tr th:only-of-type {\n",
       "        vertical-align: middle;\n",
       "    }\n",
       "\n",
       "    .dataframe tbody tr th {\n",
       "        vertical-align: top;\n",
       "    }\n",
       "\n",
       "    .dataframe thead th {\n",
       "        text-align: right;\n",
       "    }\n",
       "</style>\n",
       "<table border=\"1\" class=\"dataframe\">\n",
       "  <thead>\n",
       "    <tr style=\"text-align: right;\">\n",
       "      <th></th>\n",
       "      <th>EWI</th>\n",
       "    </tr>\n",
       "    <tr>\n",
       "      <th>Date</th>\n",
       "      <th></th>\n",
       "    </tr>\n",
       "  </thead>\n",
       "  <tbody>\n",
       "    <tr>\n",
       "      <th>2021-08-24</th>\n",
       "      <td>1.023343</td>\n",
       "    </tr>\n",
       "    <tr>\n",
       "      <th>2021-08-25</th>\n",
       "      <td>1.025043</td>\n",
       "    </tr>\n",
       "    <tr>\n",
       "      <th>2021-08-26</th>\n",
       "      <td>1.018529</td>\n",
       "    </tr>\n",
       "    <tr>\n",
       "      <th>2021-08-27</th>\n",
       "      <td>1.025725</td>\n",
       "    </tr>\n",
       "    <tr>\n",
       "      <th>2021-08-30</th>\n",
       "      <td>1.024868</td>\n",
       "    </tr>\n",
       "  </tbody>\n",
       "</table>\n",
       "</div>"
      ],
      "text/plain": [
       "                 EWI\n",
       "Date                \n",
       "2021-08-24  1.023343\n",
       "2021-08-25  1.025043\n",
       "2021-08-26  1.018529\n",
       "2021-08-27  1.025725\n",
       "2021-08-30  1.024868"
      ]
     },
     "execution_count": 29,
     "metadata": {},
     "output_type": "execute_result"
    }
   ],
   "source": [
    "EWI = pd.DataFrame(EWI.rename(\"EWI\"))\n",
    "EWI.tail()"
   ]
  },
  {
   "cell_type": "code",
   "execution_count": 30,
   "metadata": {},
   "outputs": [
    {
     "data": {
      "text/plain": [
       "PWI    5.214087e+03\n",
       "VWI    1.010403e+13\n",
       "EWI    1.000000e+00\n",
       "Name: 2021-06-30 00:00:00, dtype: float64"
      ]
     },
     "execution_count": 30,
     "metadata": {},
     "output_type": "execute_result"
    }
   ],
   "source": [
    "egg4 = Index.join([PWI,VWI,EWI])\n",
    "egg4.loc['2021-06-30', ['PWI', 'VWI', 'EWI']]"
   ]
  },
  {
   "cell_type": "code",
   "execution_count": 31,
   "metadata": {},
   "outputs": [
    {
     "data": {
      "text/plain": [
       "Date\n",
       "2021-06-30    1.010403e+13\n",
       "2021-07-01    1.014385e+13\n",
       "2021-07-02    1.026373e+13\n",
       "2021-07-06    1.025808e+13\n",
       "2021-07-07    1.033280e+13\n",
       "Name: VWI, dtype: float64"
      ]
     },
     "execution_count": 31,
     "metadata": {},
     "output_type": "execute_result"
    }
   ],
   "source": [
    "egg4.VWI.head()"
   ]
  },
  {
   "cell_type": "code",
   "execution_count": 32,
   "metadata": {},
   "outputs": [
    {
     "data": {
      "text/plain": [
       "Date\n",
       "2021-06-30    1.000000\n",
       "2021-07-01    1.002187\n",
       "2021-07-02    1.006068\n",
       "2021-07-06    0.999344\n",
       "2021-07-07    1.002508\n",
       "Name: EWI, dtype: float64"
      ]
     },
     "execution_count": 32,
     "metadata": {},
     "output_type": "execute_result"
    }
   ],
   "source": [
    "egg4.EWI.head()"
   ]
  },
  {
   "cell_type": "code",
   "execution_count": 33,
   "metadata": {},
   "outputs": [
    {
     "data": {
      "text/html": [
       "<div>\n",
       "<style scoped>\n",
       "    .dataframe tbody tr th:only-of-type {\n",
       "        vertical-align: middle;\n",
       "    }\n",
       "\n",
       "    .dataframe tbody tr th {\n",
       "        vertical-align: top;\n",
       "    }\n",
       "\n",
       "    .dataframe thead th {\n",
       "        text-align: right;\n",
       "    }\n",
       "</style>\n",
       "<table border=\"1\" class=\"dataframe\">\n",
       "  <thead>\n",
       "    <tr style=\"text-align: right;\">\n",
       "      <th></th>\n",
       "      <th>^DJI</th>\n",
       "      <th>PWI</th>\n",
       "      <th>VWI</th>\n",
       "      <th>EWI</th>\n",
       "    </tr>\n",
       "    <tr>\n",
       "      <th>Date</th>\n",
       "      <th></th>\n",
       "      <th></th>\n",
       "      <th></th>\n",
       "      <th></th>\n",
       "    </tr>\n",
       "  </thead>\n",
       "  <tbody>\n",
       "    <tr>\n",
       "      <th>2021-06-30</th>\n",
       "      <td>100.000000</td>\n",
       "      <td>100.000000</td>\n",
       "      <td>100.000000</td>\n",
       "      <td>100.000000</td>\n",
       "    </tr>\n",
       "    <tr>\n",
       "      <th>2021-07-01</th>\n",
       "      <td>100.379739</td>\n",
       "      <td>100.388223</td>\n",
       "      <td>100.394187</td>\n",
       "      <td>100.218724</td>\n",
       "    </tr>\n",
       "    <tr>\n",
       "      <th>2021-07-02</th>\n",
       "      <td>100.822664</td>\n",
       "      <td>100.857055</td>\n",
       "      <td>101.580620</td>\n",
       "      <td>100.606816</td>\n",
       "    </tr>\n",
       "    <tr>\n",
       "      <th>2021-07-06</th>\n",
       "      <td>100.216968</td>\n",
       "      <td>100.252727</td>\n",
       "      <td>101.524636</td>\n",
       "      <td>99.934357</td>\n",
       "    </tr>\n",
       "    <tr>\n",
       "      <th>2021-07-07</th>\n",
       "      <td>100.519607</td>\n",
       "      <td>100.554889</td>\n",
       "      <td>102.264236</td>\n",
       "      <td>100.250761</td>\n",
       "    </tr>\n",
       "  </tbody>\n",
       "</table>\n",
       "</div>"
      ],
      "text/plain": [
       "                  ^DJI         PWI         VWI         EWI\n",
       "Date                                                      \n",
       "2021-06-30  100.000000  100.000000  100.000000  100.000000\n",
       "2021-07-01  100.379739  100.388223  100.394187  100.218724\n",
       "2021-07-02  100.822664  100.857055  101.580620  100.606816\n",
       "2021-07-06  100.216968  100.252727  101.524636   99.934357\n",
       "2021-07-07  100.519607  100.554889  102.264236  100.250761"
      ]
     },
     "execution_count": 33,
     "metadata": {},
     "output_type": "execute_result"
    }
   ],
   "source": [
    "egg4.divide(egg4.iloc[0] / 100).head()"
   ]
  },
  {
   "cell_type": "markdown",
   "metadata": {},
   "source": [
    "### So, implement to matplotlib..."
   ]
  },
  {
   "cell_type": "code",
   "execution_count": 34,
   "metadata": {},
   "outputs": [
    {
     "data": {
      "image/png": "[encoded data removed]",
      "text/plain": [
       "<Figure size 432x288 with 1 Axes>"
      ]
     },
     "metadata": {},
     "output_type": "display_data"
    }
   ],
   "source": [
    "import matplotlib.pyplot as plt\n",
    "TS = Index.join([PWI,VWI,EWI])\n",
    "TS = TS.divide(TS.iloc[0] / 100)\n",
    "plt.style.use('ggplot')\n",
    "fig = TS.plot(color=[\"green\",\"red\",\"blue\",\"yellow\"],alpha=0.5,linewidth=5)\n",
    "plt.title('Actual DJI versus PWI, VWI, and EWI')\n",
    "plt.legend(loc='best')\n",
    "plt.ylabel('Cumulative returns')\n",
    "plt.show()\n"
   ]
  },
  {
   "cell_type": "code",
   "execution_count": null,
   "metadata": {},
   "outputs": [],
   "source": []
  }
 ],
 "metadata": {
  "interpreter": {
   "hash": "7198513906d6aaf66baf3e06ce224262e622da469a4a98f026fdc23c003a0c5d"
  },
  "kernelspec": {
   "display_name": "Python 3.9.7 64-bit ('InvestnPortfolio': venv)",
   "name": "python3"
  },
  "language_info": {
   "codemirror_mode": {
    "name": "ipython",
    "version": 3
   },
   "file_extension": ".py",
   "mimetype": "text/x-python",
   "name": "python",
   "nbconvert_exporter": "python",
   "pygments_lexer": "ipython3",
   "version": "3.9.7"
  },
  "orig_nbformat": 4
 },
 "nbformat": 4,
 "nbformat_minor": 2
}
