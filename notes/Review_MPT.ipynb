{
 "cells": [
  {
   "cell_type": "markdown",
   "metadata": {},
   "source": [
    "複習筆記: 2021.10.31"
   ]
  },
  {
   "cell_type": "markdown",
   "metadata": {},
   "source": [
    "## 建構 Optimal Risky Portfolios (N Assets)"
   ]
  },
  {
   "cell_type": "markdown",
   "metadata": {},
   "source": [
    "### 創建虛擬標的"
   ]
  },
  {
   "cell_type": "code",
   "execution_count": 1,
   "metadata": {},
   "outputs": [
    {
     "data": {
      "text/html": [
       "<div>\n",
       "<style scoped>\n",
       "    .dataframe tbody tr th:only-of-type {\n",
       "        vertical-align: middle;\n",
       "    }\n",
       "\n",
       "    .dataframe tbody tr th {\n",
       "        vertical-align: top;\n",
       "    }\n",
       "\n",
       "    .dataframe thead th {\n",
       "        text-align: right;\n",
       "    }\n",
       "</style>\n",
       "<table border=\"1\" class=\"dataframe\">\n",
       "  <thead>\n",
       "    <tr style=\"text-align: right;\">\n",
       "      <th></th>\n",
       "      <th>A</th>\n",
       "      <th>B</th>\n",
       "      <th>C</th>\n",
       "    </tr>\n",
       "  </thead>\n",
       "  <tbody>\n",
       "    <tr>\n",
       "      <th>0</th>\n",
       "      <td>-0.049967</td>\n",
       "      <td>-0.017656</td>\n",
       "      <td>0.132227</td>\n",
       "    </tr>\n",
       "    <tr>\n",
       "      <th>1</th>\n",
       "      <td>-0.095784</td>\n",
       "      <td>-0.071821</td>\n",
       "      <td>0.373808</td>\n",
       "    </tr>\n",
       "    <tr>\n",
       "      <th>2</th>\n",
       "      <td>0.026249</td>\n",
       "      <td>0.324763</td>\n",
       "      <td>-0.018976</td>\n",
       "    </tr>\n",
       "    <tr>\n",
       "      <th>3</th>\n",
       "      <td>-0.292444</td>\n",
       "      <td>0.164978</td>\n",
       "      <td>0.244533</td>\n",
       "    </tr>\n",
       "    <tr>\n",
       "      <th>4</th>\n",
       "      <td>0.026992</td>\n",
       "      <td>0.166835</td>\n",
       "      <td>0.218756</td>\n",
       "    </tr>\n",
       "  </tbody>\n",
       "</table>\n",
       "</div>"
      ],
      "text/plain": [
       "          A         B         C\n",
       "0 -0.049967 -0.017656  0.132227\n",
       "1 -0.095784 -0.071821  0.373808\n",
       "2  0.026249  0.324763 -0.018976\n",
       "3 -0.292444  0.164978  0.244533\n",
       "4  0.026992  0.166835  0.218756"
      ]
     },
     "execution_count": 1,
     "metadata": {},
     "output_type": "execute_result"
    }
   ],
   "source": [
    "import numpy as np\n",
    "import pandas as pd\n",
    "\n",
    "# 創建 100 筆股票 A、B、C 的歷史平均數與標準差 (假設股票報酬為常態分佈)\n",
    "mu_A = 0.05\n",
    "sig_A = 0.15\n",
    "mu_B = 0.08\n",
    "sig_B = 0.20\n",
    "mu_C = 0.12\n",
    "sig_C = 0.225\n",
    "\n",
    "A = pd.DataFrame(np.random.normal(mu_A, sig_A, size=(100, 1)), columns=list('A'))\n",
    "B = pd.DataFrame(np.random.normal(mu_B, sig_B, size=(100, 1)), columns=list('B'))\n",
    "C = pd.DataFrame(np.random.normal(mu_C, sig_C, size=(100, 1)), columns=list('C'))\n",
    "\n",
    "df = pd.concat([A, B, C], axis=1)\n",
    "df.head()\n"
   ]
  },
  {
   "cell_type": "markdown",
   "metadata": {},
   "source": [
    "### 計算虛擬標的的 sample mean 與 variance-covariance matrix"
   ]
  },
  {
   "cell_type": "code",
   "execution_count": 4,
   "metadata": {},
   "outputs": [
    {
     "name": "stdout",
     "output_type": "stream",
     "text": [
      "Sample mean:\n",
      "A    0.044884\n",
      "B    0.050464\n",
      "C    0.102852\n",
      "dtype: float64\n",
      "Sample variance-covariance matrix:\n",
      "          A         B         C\n",
      "A  0.025361 -0.000349 -0.007047\n",
      "B -0.000349  0.046090  0.000957\n",
      "C -0.007047  0.000957  0.049778\n"
     ]
    }
   ],
   "source": [
    "R = df.mean()\n",
    "COV = df.cov()\n",
    "\n",
    "print('Sample mean:')\n",
    "print(R)\n",
    "print('Sample variance-covariance matrix:')\n",
    "print(COV)"
   ]
  },
  {
   "cell_type": "markdown",
   "metadata": {},
   "source": [
    "### 計算 minimun variance portfolio (MVP)"
   ]
  },
  {
   "cell_type": "markdown",
   "metadata": {},
   "source": [
    "目標是最小化投組變異數 ($\\sigma_{p}^{2}$)，作法是找出權重矩陣 (w) 【也就是決定 A, B, C 個要投資多少比例】  \n",
    "這裡會用到:  \n",
    "- 矩陣微分\n",
    "- Lagrangian method"
   ]
  },
  {
   "cell_type": "markdown",
   "metadata": {},
   "source": [
    "$$W_{GMVP} = \\frac{\\sum^{-1}1}{1^{T}\\sum^{-1}1}$$"
   ]
  },
  {
   "cell_type": "markdown",
   "metadata": {},
   "source": []
  },
  {
   "cell_type": "code",
   "execution_count": 12,
   "metadata": {},
   "outputs": [
    {
     "name": "stdout",
     "output_type": "stream",
     "text": [
      "W_GMVP\n",
      "[0.49579387 0.22665756 0.27754857]\n",
      "1.0\n",
      "ret_GMVP\n",
      "0.06223753279752023\n",
      "sig_GMVP:\n",
      "0.10266047776794197\n"
     ]
    }
   ],
   "source": [
    "from numpy.linalg import inv # inv = inverse\n",
    "import math\n",
    "\n",
    "ONE = np.ones(3) # 3*3 單位矩陣\n",
    "InvCOV = inv(COV) \n",
    "W_GMVP = (InvCOV @ ONE) / (ONE.T @ InvCOV @ ONE)\n",
    "print('W_GMVP')\n",
    "print(W_GMVP)\n",
    "print(np.sum(W_GMVP)) # 投組比例總和必須是 1\n",
    "\n",
    "ret_GMVP = W_GMVP @ R # 報酬率就是算出來的投組矩陣乘上個標的的期望報酬\n",
    "print('ret_GMVP')\n",
    "print(ret_GMVP)\n",
    "\n",
    "sig_GMVP = math.sqrt(W_GMVP.T @ COV @ W_GMVP) \n",
    "# 根據 Lecture 6 筆記第 6 頁，N 個 assets 的投組變異數為 W.T (var-cov matrix) W\n",
    "print('sig_GMVP:')\n",
    "print(sig_GMVP)"
   ]
  },
  {
   "cell_type": "markdown",
   "metadata": {},
   "source": [
    "### 計算 maximum Sharpe ratio portfolio (MSRP)"
   ]
  },
  {
   "cell_type": "markdown",
   "metadata": {},
   "source": [
    "MSRP 的特色:  \n",
    "- 投組內全部都是 risky assets\n",
    "- 是由效用函數對權重矩陣 (w) 的微分得出的   \n",
    "$$W_{MSRP} = \\frac{\\sum^{-1}[E[R]-r_{f}1]}{1^{T}\\sum^{-1}[E[R]-r_{f}1]}$$"
   ]
  },
  {
   "cell_type": "code",
   "execution_count": 15,
   "metadata": {},
   "outputs": [
    {
     "name": "stdout",
     "output_type": "stream",
     "text": [
      "MSRP:\n",
      "[0.39921397 0.17123159 0.42955444]\n",
      "ret_MSRP:\n",
      "0.07073973422553895\n",
      "sig_MSRP:\n",
      "0.10266047776794197\n"
     ]
    }
   ],
   "source": [
    "r_f = 0.01 # 假設 risk-free asset 的報酬率為 1%\n",
    "\n",
    "ONE = np.ones(3)\n",
    "ER = R - r_f # 矩陣減去常數，代表超額報酬\n",
    "InvCOV = inv(COV)\n",
    "\n",
    "W_MSRP = (InvCOV @ ER) / (ONE @ InvCOV @ ER)\n",
    "ret_MSRP = W_MSRP @ R\n",
    "sig_MSRP = math.sqrt(W_GMVP.T @ COV @ W_GMVP) \n",
    "\n",
    "SR_MSRP = (ret_MSRP - r_f)/sig_MSRP # 得到再 MSRP 那點上的斜率\n",
    "\n",
    "print('MSRP:')\n",
    "print(W_MSRP)\n",
    "print('ret_MSRP:')\n",
    "print(ret_MSRP)\n",
    "print('sig_MSRP:')\n",
    "print(sig_MSRP)"
   ]
  },
  {
   "cell_type": "markdown",
   "metadata": {},
   "source": [
    "### 追蹤整個 minimum variance frontier "
   ]
  },
  {
   "cell_type": "markdown",
   "metadata": {},
   "source": [
    "藉由更改 u，可以變動投組中 GMVP 與 MSRP 的比例，"
   ]
  },
  {
   "cell_type": "code",
   "execution_count": 20,
   "metadata": {},
   "outputs": [
    {
     "data": {
      "image/png": "[encoded data removed]",
      "text/plain": [
       "<Figure size 576x360 with 1 Axes>"
      ]
     },
     "metadata": {},
     "output_type": "display_data"
    }
   ],
   "source": [
    "W = np.linspa   ce(-2, 2, 100, endpoint=True) # 隨機取出兩不同投組的權重\n",
    "# 意思是最多可以放空 200% 的純 GMVP 組合，並作多 200% 的純 MSRP 組合\n",
    "ret_MVF = [] # MVF = minimum variance frontier，放 return 的資料 (等一下畫圖的 y 軸)\n",
    "sig_MVF = [] # 等一下畫圖的 x 軸\n",
    "\n",
    "for u in W:\n",
    "    ret_MVF.append(u*ret_GMVP + (1-u)*ret_MSRP)\n",
    "    sig_MVF.append(\n",
    "        math.sqrt(u**2 * sig_GMVP**2 + (1-u)**2 * sig_MSRP**2 + \n",
    "        2*u*(1-u)*np.cov()\n",
    "    )\n",
    "\n",
    "CAL_x = np.linspace(0, np.max(sig_MVF), 50, endpoint=50)\n",
    "CAL_y = r_f + SR_MSRP*CAL_x\n",
    "# 畫出在極大化 sharpe ratio 下的資本配置線\n",
    "\n",
    "# 將 MVF (由 linspace 隨機生成)、CAL (極大化 Sharpe ratio 的那條)、MSRP (CAL 與 MVF 相切點)、\n",
    "# GMVP (N 個 assets 的投資組合中，變異數最小的那一點)\n",
    "\n",
    "import matplotlib.pyplot as plt\n",
    "import matplotlib.ticker as mtick\n",
    "\n",
    "plt.style.use('seaborn')\n",
    "fig = plt.figure(figsize=(8, 5))\n",
    "ax = fig.add_subplot(1,1,1)\n",
    "\n",
    "plt.plot(sig_MVF, ret_MVF, color='xkcd:green', linewidth=2.5, alpha=0.5)\n",
    "plt.plot(CAL_x, CAL_y, color='xkcd:blue', linewidth=2.5, alpha=0.5)\n",
    "plt.plot(sig_MSRP, ret_MSRP, 'o', color='xkcd:gold', markersize=8)\n",
    "plt.plot(sig_GMVP, ret_GMVP, 'o', color='xkcd:green', markersize=8)\n",
    "\n",
    "plt.ylabel('Expected returns')\n",
    "plt.xlabel('Standard deviations')\n",
    "ax.yaxis.set_major_formatter(mtick.PercentFormatter(1.0))\n",
    "ax.xaxis.set_major_formatter(mtick.PercentFormatter(1.0))\n",
    "\n",
    "plt.legend(['MVF', 'CAL', 'MSRP', 'GMVP'], loc='best')\n",
    "plt.title('Optimal portfolios')\n",
    "plt.xlim([0, 0.2])\n",
    "plt.ylim([0, 0.15])\n",
    "plt.show()\n"
   ]
  },
  {
   "cell_type": "code",
   "execution_count": 23,
   "metadata": {},
   "outputs": [
    {
     "data": {
      "image/png": "[encoded data removed]",
      "text/plain": [
       "<Figure size 576x360 with 1 Axes>"
      ]
     },
     "metadata": {},
     "output_type": "display_data"
    }
   ],
   "source": [
    "W = np.linspace(-2, 2, 100, endpoint=True)\n",
    "ret_MVF = []\n",
    "sig_MVF = []\n",
    "for u in W:\n",
    "    ret_MVF.append(u*ret_GMVP + (1-u)*ret_MSRP)\n",
    "    sig_MVF.append(math.sqrt(u**2 * sig_GMVP**2 + (1-u)**2 * sig_MSRP**2 +\n",
    "    2*u*(1-u)*np.dot(W_GMVP, np.dot(COV, W_MSRP))))\n",
    "    CAL_x = np.linspace(0, np.max(sig_MVF), 50, endpoint=True)\n",
    "CAL_y = r_f + SR_MSRP*CAL_x\n",
    "import matplotlib.pyplot as plt\n",
    "import matplotlib.ticker as mtick\n",
    "plt.style.use('seaborn')\n",
    "fig = plt.figure(figsize=(8, 5))\n",
    "ax = fig.add_subplot(1,1,1)\n",
    "plt.plot(sig_MVF, ret_MVF, color='xkcd:green', linewidth=2.5, alpha=0.5)\n",
    "plt.plot(CAL_x, CAL_y, color='xkcd:blue', linewidth=2.5, alpha=0.5)\n",
    "plt.plot(sig_MSRP, ret_MSRP, 'o', color='xkcd:gold', markersize=8)\n",
    "plt.plot(sig_GMVP, ret_GMVP, 'o', color='xkcd:green', markersize=8)\n",
    "plt.ylabel('Expected returns')\n",
    "plt.xlabel('Standard deviations')\n",
    "ax.yaxis.set_major_formatter(mtick.PercentFormatter(1.0))\n",
    "ax.xaxis.set_major_formatter(mtick.PercentFormatter(1.0))\n",
    "plt.legend(['MVF', 'CAL', 'MSRP', 'GMVP'], loc='best')\n",
    "plt.title('Optimal portfolios')\n",
    "plt.xlim([0, 0.2])\n",
    "plt.ylim([0, 0.15])\n",
    "plt.show()"
   ]
  },
  {
   "cell_type": "code",
   "execution_count": null,
   "metadata": {},
   "outputs": [],
   "source": []
  }
 ],
 "metadata": {
  "interpreter": {
   "hash": "8c2e27c92537dbc993fdeb86cbd3be2d376845eda7ee9fbaba49b9f3cd36e9e0"
  },
  "kernelspec": {
   "display_name": "Python 3.9.7 64-bit ('InvestnPortfolio': venv)",
   "name": "python3"
  },
  "language_info": {
   "codemirror_mode": {
    "name": "ipython",
    "version": 3
   },
   "file_extension": ".py",
   "mimetype": "text/x-python",
   "name": "python",
   "nbconvert_exporter": "python",
   "pygments_lexer": "ipython3",
   "version": "3.9.7"
  },
  "orig_nbformat": 4
 },
 "nbformat": 4,
 "nbformat_minor": 2
}
