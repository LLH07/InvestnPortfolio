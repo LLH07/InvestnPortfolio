{
 "cells": [
  {
   "cell_type": "markdown",
   "metadata": {},
   "source": [
    "CAPM Note: 2021/12/13"
   ]
  },
  {
   "cell_type": "code",
   "execution_count": 2,
   "metadata": {},
   "outputs": [],
   "source": [
    "import numpy as np\n",
    "import pandas as pd\n",
    "import pandas_datareader as pdr\n",
    "\n",
    "factor = pdr.data.DataReader('F-F_Research_Data_Factors', 'famafrench', start='1-1-1926')[0]\n",
    "data = pdr.data.DataReader('Portfolios_Formed_on_BETA', 'famafrench', start='1-1-1926')\n"
   ]
  },
  {
   "cell_type": "markdown",
   "metadata": {},
   "source": [
    "---"
   ]
  },
  {
   "cell_type": "code",
   "execution_count": 3,
   "metadata": {},
   "outputs": [],
   "source": [
    "egg = pdr.data.DataReader('F-F_Research_Data_Factors', 'famafrench', start='1-1-1926')"
   ]
  },
  {
   "cell_type": "code",
   "execution_count": 4,
   "metadata": {},
   "outputs": [
    {
     "name": "stdout",
     "output_type": "stream",
     "text": [
      "<class 'dict'>\n",
      "3\n"
     ]
    }
   ],
   "source": [
    "print(type(egg))\n",
    "print(len(egg))"
   ]
  },
  {
   "cell_type": "code",
   "execution_count": 5,
   "metadata": {},
   "outputs": [
    {
     "name": "stdout",
     "output_type": "stream",
     "text": [
      "(0,          Mkt-RF   SMB   HML    RF\n",
      "Date                             \n",
      "1926-07    2.96 -2.38 -2.73  0.22\n",
      "1926-08    2.64 -1.47  4.14  0.25\n",
      "1926-09    0.36 -1.39  0.12  0.23\n",
      "1926-10   -3.24 -0.13  0.65  0.32\n",
      "1926-11    2.53 -0.16 -0.38  0.31\n",
      "...         ...   ...   ...   ...\n",
      "2021-06    2.75  1.80 -7.76  0.00\n",
      "2021-07    1.27 -3.96 -1.75  0.00\n",
      "2021-08    2.90 -0.48 -0.13  0.00\n",
      "2021-09   -4.37  0.80  5.09  0.00\n",
      "2021-10    6.65 -2.28 -0.45  0.00\n",
      "\n",
      "[1144 rows x 4 columns])\n"
     ]
    },
    {
     "data": {
      "text/plain": [
       "('DESCR',\n",
       " 'F-F Research Data Factors\\n-------------------------\\n\\nThis file was created by CMPT_ME_BEME_RETS using the 202110 CRSP database. The 1-month TBill return is from Ibbotson and Associates, Inc. Copyright 2021 Kenneth R. French\\n\\n  0 : (1144 rows x 4 cols)\\n  1 : Annual Factors: January-December (94 rows x 4 cols)')"
      ]
     },
     "execution_count": 5,
     "metadata": {},
     "output_type": "execute_result"
    }
   ],
   "source": [
    "v = [x for x in egg.items()]\n",
    "print(v[0])\n",
    "v[2]"
   ]
  },
  {
   "cell_type": "markdown",
   "metadata": {},
   "source": [
    "所以 ```factor``` 內存放的是 市場超額報酬、risk-free rate"
   ]
  },
  {
   "cell_type": "code",
   "execution_count": 6,
   "metadata": {},
   "outputs": [
    {
     "data": {
      "text/plain": [
       "dict"
      ]
     },
     "execution_count": 6,
     "metadata": {},
     "output_type": "execute_result"
    }
   ],
   "source": [
    "egg2 = pdr.data.DataReader('Portfolios_Formed_on_BETA', 'famafrench', start='1-1-1926')\n",
    "type(egg2)"
   ]
  },
  {
   "cell_type": "code",
   "execution_count": 7,
   "metadata": {},
   "outputs": [
    {
     "name": "stdout",
     "output_type": "stream",
     "text": [
      "('DESCR', 'Portfolios Formed on BETA\\n-------------------------\\n\\nThis file was created by CMPT_BETA_RETS using the 202110 CRSP database. It contains value- and equal-weighted returns for portfolios formed on BETA. The portfolios are constructed at the end of June. Beta is estimated using monthly returns for the past 60 months (requiring at least 24 months with non-missing returns). Beta is estimated using the Scholes-Williams method. Annual returns are from January to December. Missing data are indicated by -99.99 or -999. The break points include utilities and include financials. The portfolios include utilities and include financials. Copyright 2021 Kenneth R. French\\n\\n  0 : Value Weighted Returns -- Monthly (700 rows x 15 cols)\\n  1 : Equal Weighted Returns -- Monthly (700 rows x 15 cols)\\n  2 : Value Weighted Returns -- Annual from January to December (57 rows x 15 cols)\\n  3 : Equal Weighted Returns -- Annual from January to December (57 rows x 15 cols)\\n  4 : Number of Firms in Portfolios (700 rows x 15 cols)\\n  5 : Average Firm Size (700 rows x 15 cols)\\n  6 : Value-Weighted Average of Prior Beta (59 rows x 15 cols)')\n"
     ]
    }
   ],
   "source": [
    "v = [x for x in egg2.items()]\n",
    "\n",
    "print(v[7])"
   ]
  },
  {
   "cell_type": "code",
   "execution_count": 8,
   "metadata": {},
   "outputs": [
    {
     "data": {
      "text/plain": [
       "(0,\n",
       "          Lo 20  Qnt 2  Qnt 3  Qnt 4  Hi 20  Lo 10  Dec 2  Dec 3  Dec 4  Dec 5  \\\n",
       " Date                                                                            \n",
       " 1963-07   1.14  -0.10  -0.93  -0.93  -1.41   1.36   0.75   0.09  -0.29  -0.59   \n",
       " 1963-08   3.66   4.77   6.34   6.37   9.69   3.52   3.90   4.30   5.26   5.20   \n",
       " 1963-09  -2.78  -0.76  -0.71  -0.91  -2.73  -3.10  -2.24  -0.57  -0.96  -1.33   \n",
       " 1963-10   0.74   3.57   2.08   5.76   3.06   1.24  -0.13   1.99   5.16   2.35   \n",
       " 1963-11  -0.63  -0.24  -0.91  -0.82   0.13  -0.91  -0.15   1.59  -2.05  -1.00   \n",
       " ...        ...    ...    ...    ...    ...    ...    ...    ...    ...    ...   \n",
       " 2021-06   0.08   3.40   3.13   2.08   4.55   0.56  -0.28   4.35   2.29   0.01   \n",
       " 2021-07   1.78   3.38  -0.16   1.69  -4.07   2.74   1.28   3.26   3.51   0.08   \n",
       " 2021-08   2.03   3.63   0.74   4.21   4.31   2.15   1.97   3.11   4.22   0.92   \n",
       " 2021-09  -4.44  -5.94  -2.58  -3.94  -1.40  -4.58  -4.37  -5.11  -6.87  -2.58   \n",
       " 2021-10   4.85   7.22   4.76   6.99  15.71   4.36   5.12   8.20   6.11   6.01   \n",
       " \n",
       "          Dec 6  Dec 7  Dec 8  Dec 9  Hi 10  \n",
       " Date                                        \n",
       " 1963-07  -1.22  -0.42  -1.39  -1.91  -0.82  \n",
       " 1963-08   7.34   7.94   4.91   9.04  10.44  \n",
       " 1963-09  -0.17  -0.81  -1.00  -1.85  -3.73  \n",
       " 1963-10   1.86   6.81   4.78   3.12   2.98  \n",
       " 1963-11  -0.84  -1.14  -0.51  -0.21   0.52  \n",
       " ...        ...    ...    ...    ...    ...  \n",
       " 2021-06   4.92   4.35  -0.30   1.99   8.40  \n",
       " 2021-07  -0.39   3.10  -2.64  -1.80  -9.18  \n",
       " 2021-08   0.56   4.73   2.50   3.87   5.38  \n",
       " 2021-09  -2.57  -5.35   0.76  -0.44  -3.70  \n",
       " 2021-10   3.52   7.72   4.68  19.69   5.84  \n",
       " \n",
       " [700 rows x 15 columns])"
      ]
     },
     "execution_count": 8,
     "metadata": {},
     "output_type": "execute_result"
    }
   ],
   "source": [
    "v[0] # 這些是 return 的資料??"
   ]
  },
  {
   "cell_type": "markdown",
   "metadata": {},
   "source": [
    "---"
   ]
  },
  {
   "cell_type": "markdown",
   "metadata": {},
   "source": [
    "所以我們知道 factor 存放之後迴歸會用到的資料 (risk-free rate, 市場超額報酬等)  \n",
    "data 則是放 estimated 的 beta (FF 自己算的??)"
   ]
  },
  {
   "cell_type": "code",
   "execution_count": 9,
   "metadata": {},
   "outputs": [
    {
     "data": {
      "text/html": [
       "<div>\n",
       "<style scoped>\n",
       "    .dataframe tbody tr th:only-of-type {\n",
       "        vertical-align: middle;\n",
       "    }\n",
       "\n",
       "    .dataframe tbody tr th {\n",
       "        vertical-align: top;\n",
       "    }\n",
       "\n",
       "    .dataframe thead th {\n",
       "        text-align: right;\n",
       "    }\n",
       "</style>\n",
       "<table border=\"1\" class=\"dataframe\">\n",
       "  <thead>\n",
       "    <tr style=\"text-align: right;\">\n",
       "      <th></th>\n",
       "      <th>Lo 10</th>\n",
       "      <th>Dec 2</th>\n",
       "      <th>Dec 3</th>\n",
       "      <th>Dec 4</th>\n",
       "      <th>Dec 5</th>\n",
       "      <th>Dec 6</th>\n",
       "      <th>Dec 7</th>\n",
       "      <th>Dec 8</th>\n",
       "      <th>Dec 9</th>\n",
       "      <th>Hi 10</th>\n",
       "      <th>Mkt-RF</th>\n",
       "      <th>RF</th>\n",
       "    </tr>\n",
       "    <tr>\n",
       "      <th>Date</th>\n",
       "      <th></th>\n",
       "      <th></th>\n",
       "      <th></th>\n",
       "      <th></th>\n",
       "      <th></th>\n",
       "      <th></th>\n",
       "      <th></th>\n",
       "      <th></th>\n",
       "      <th></th>\n",
       "      <th></th>\n",
       "      <th></th>\n",
       "      <th></th>\n",
       "    </tr>\n",
       "  </thead>\n",
       "  <tbody>\n",
       "    <tr>\n",
       "      <th>1963-07</th>\n",
       "      <td>1.36</td>\n",
       "      <td>0.75</td>\n",
       "      <td>0.09</td>\n",
       "      <td>-0.29</td>\n",
       "      <td>-0.59</td>\n",
       "      <td>-1.22</td>\n",
       "      <td>-0.42</td>\n",
       "      <td>-1.39</td>\n",
       "      <td>-1.91</td>\n",
       "      <td>-0.82</td>\n",
       "      <td>-0.39</td>\n",
       "      <td>0.27</td>\n",
       "    </tr>\n",
       "    <tr>\n",
       "      <th>1963-08</th>\n",
       "      <td>3.52</td>\n",
       "      <td>3.90</td>\n",
       "      <td>4.30</td>\n",
       "      <td>5.26</td>\n",
       "      <td>5.20</td>\n",
       "      <td>7.34</td>\n",
       "      <td>7.94</td>\n",
       "      <td>4.91</td>\n",
       "      <td>9.04</td>\n",
       "      <td>10.44</td>\n",
       "      <td>5.07</td>\n",
       "      <td>0.25</td>\n",
       "    </tr>\n",
       "    <tr>\n",
       "      <th>1963-09</th>\n",
       "      <td>-3.10</td>\n",
       "      <td>-2.24</td>\n",
       "      <td>-0.57</td>\n",
       "      <td>-0.96</td>\n",
       "      <td>-1.33</td>\n",
       "      <td>-0.17</td>\n",
       "      <td>-0.81</td>\n",
       "      <td>-1.00</td>\n",
       "      <td>-1.85</td>\n",
       "      <td>-3.73</td>\n",
       "      <td>-1.57</td>\n",
       "      <td>0.27</td>\n",
       "    </tr>\n",
       "    <tr>\n",
       "      <th>1963-10</th>\n",
       "      <td>1.24</td>\n",
       "      <td>-0.13</td>\n",
       "      <td>1.99</td>\n",
       "      <td>5.16</td>\n",
       "      <td>2.35</td>\n",
       "      <td>1.86</td>\n",
       "      <td>6.81</td>\n",
       "      <td>4.78</td>\n",
       "      <td>3.12</td>\n",
       "      <td>2.98</td>\n",
       "      <td>2.53</td>\n",
       "      <td>0.29</td>\n",
       "    </tr>\n",
       "    <tr>\n",
       "      <th>1963-11</th>\n",
       "      <td>-0.91</td>\n",
       "      <td>-0.15</td>\n",
       "      <td>1.59</td>\n",
       "      <td>-2.05</td>\n",
       "      <td>-1.00</td>\n",
       "      <td>-0.84</td>\n",
       "      <td>-1.14</td>\n",
       "      <td>-0.51</td>\n",
       "      <td>-0.21</td>\n",
       "      <td>0.52</td>\n",
       "      <td>-0.85</td>\n",
       "      <td>0.27</td>\n",
       "    </tr>\n",
       "  </tbody>\n",
       "</table>\n",
       "</div>"
      ],
      "text/plain": [
       "         Lo 10  Dec 2  Dec 3  Dec 4  Dec 5  Dec 6  Dec 7  Dec 8  Dec 9  Hi 10  \\\n",
       "Date                                                                            \n",
       "1963-07   1.36   0.75   0.09  -0.29  -0.59  -1.22  -0.42  -1.39  -1.91  -0.82   \n",
       "1963-08   3.52   3.90   4.30   5.26   5.20   7.34   7.94   4.91   9.04  10.44   \n",
       "1963-09  -3.10  -2.24  -0.57  -0.96  -1.33  -0.17  -0.81  -1.00  -1.85  -3.73   \n",
       "1963-10   1.24  -0.13   1.99   5.16   2.35   1.86   6.81   4.78   3.12   2.98   \n",
       "1963-11  -0.91  -0.15   1.59  -2.05  -1.00  -0.84  -1.14  -0.51  -0.21   0.52   \n",
       "\n",
       "         Mkt-RF    RF  \n",
       "Date                   \n",
       "1963-07   -0.39  0.27  \n",
       "1963-08    5.07  0.25  \n",
       "1963-09   -1.57  0.27  \n",
       "1963-10    2.53  0.29  \n",
       "1963-11   -0.85  0.27  "
      ]
     },
     "execution_count": 9,
     "metadata": {},
     "output_type": "execute_result"
    }
   ],
   "source": [
    "df = data[0] # return 的資料\n",
    "start = '1926'\n",
    "finish = '2021'\n",
    "\n",
    "df = df.loc[start:finish,\"Lo 10\":\"Hi 10\"] # 只需要每 10 百分位數切割的資料\n",
    "df = df.join(factor[['Mkt-RF','RF']])\n",
    "df.head()\n"
   ]
  },
  {
   "cell_type": "markdown",
   "metadata": {},
   "source": [
    "## Linear Regression"
   ]
  },
  {
   "cell_type": "code",
   "execution_count": 10,
   "metadata": {},
   "outputs": [
    {
     "data": {
      "text/plain": [
       "Index(['Lo 10', 'Dec 2', 'Dec 3', 'Dec 4', 'Dec 5', 'Dec 6', 'Dec 7', 'Dec 8',\n",
       "       'Dec 9', 'Hi 10', 'Mkt-RF', 'RF'],\n",
       "      dtype='object')"
      ]
     },
     "execution_count": 10,
     "metadata": {},
     "output_type": "execute_result"
    }
   ],
   "source": [
    "df.columns"
   ]
  },
  {
   "cell_type": "code",
   "execution_count": 11,
   "metadata": {},
   "outputs": [],
   "source": [
    "import statsmodels.formula.api as smf\n",
    "Y = df['Hi 10'] - df['RF'] # 被解釋變數\n",
    "X = df['Mkt-RF'] # 解釋變數\n",
    "\n",
    "reg_df = pd.DataFrame([Y, X], index=['R', 'MKT']).T"
   ]
  },
  {
   "cell_type": "code",
   "execution_count": 12,
   "metadata": {},
   "outputs": [
    {
     "name": "stdout",
     "output_type": "stream",
     "text": [
      "<class 'pandas.core.series.Series'>\n"
     ]
    },
    {
     "data": {
      "text/plain": [
       "Date\n",
       "1963-07    -1.09\n",
       "1963-08    10.19\n",
       "1963-09    -4.00\n",
       "1963-10     2.69\n",
       "1963-11     0.25\n",
       "Freq: M, dtype: float64"
      ]
     },
     "execution_count": 12,
     "metadata": {},
     "output_type": "execute_result"
    }
   ],
   "source": [
    "print(type(Y)) # 把 data frame 的兩 columns 相減，就變成一個 series\n",
    "Y.head()"
   ]
  },
  {
   "cell_type": "code",
   "execution_count": 13,
   "metadata": {},
   "outputs": [
    {
     "data": {
      "text/html": [
       "<div>\n",
       "<style scoped>\n",
       "    .dataframe tbody tr th:only-of-type {\n",
       "        vertical-align: middle;\n",
       "    }\n",
       "\n",
       "    .dataframe tbody tr th {\n",
       "        vertical-align: top;\n",
       "    }\n",
       "\n",
       "    .dataframe thead th {\n",
       "        text-align: right;\n",
       "    }\n",
       "</style>\n",
       "<table border=\"1\" class=\"dataframe\">\n",
       "  <thead>\n",
       "    <tr style=\"text-align: right;\">\n",
       "      <th>Date</th>\n",
       "      <th>1963-07</th>\n",
       "      <th>1963-08</th>\n",
       "      <th>1963-09</th>\n",
       "      <th>1963-10</th>\n",
       "      <th>1963-11</th>\n",
       "      <th>1963-12</th>\n",
       "      <th>1964-01</th>\n",
       "      <th>1964-02</th>\n",
       "      <th>1964-03</th>\n",
       "      <th>1964-04</th>\n",
       "      <th>...</th>\n",
       "      <th>2021-01</th>\n",
       "      <th>2021-02</th>\n",
       "      <th>2021-03</th>\n",
       "      <th>2021-04</th>\n",
       "      <th>2021-05</th>\n",
       "      <th>2021-06</th>\n",
       "      <th>2021-07</th>\n",
       "      <th>2021-08</th>\n",
       "      <th>2021-09</th>\n",
       "      <th>2021-10</th>\n",
       "    </tr>\n",
       "  </thead>\n",
       "  <tbody>\n",
       "    <tr>\n",
       "      <th>R</th>\n",
       "      <td>-1.09</td>\n",
       "      <td>10.19</td>\n",
       "      <td>-4.00</td>\n",
       "      <td>2.69</td>\n",
       "      <td>0.25</td>\n",
       "      <td>0.91</td>\n",
       "      <td>0.65</td>\n",
       "      <td>3.55</td>\n",
       "      <td>5.78</td>\n",
       "      <td>-5.3</td>\n",
       "      <td>...</td>\n",
       "      <td>5.58</td>\n",
       "      <td>6.56</td>\n",
       "      <td>-4.23</td>\n",
       "      <td>4.33</td>\n",
       "      <td>-3.18</td>\n",
       "      <td>8.40</td>\n",
       "      <td>-9.18</td>\n",
       "      <td>5.38</td>\n",
       "      <td>-3.70</td>\n",
       "      <td>5.84</td>\n",
       "    </tr>\n",
       "    <tr>\n",
       "      <th>MKT</th>\n",
       "      <td>-0.39</td>\n",
       "      <td>5.07</td>\n",
       "      <td>-1.57</td>\n",
       "      <td>2.53</td>\n",
       "      <td>-0.85</td>\n",
       "      <td>1.83</td>\n",
       "      <td>2.24</td>\n",
       "      <td>1.54</td>\n",
       "      <td>1.41</td>\n",
       "      <td>0.1</td>\n",
       "      <td>...</td>\n",
       "      <td>-0.03</td>\n",
       "      <td>2.78</td>\n",
       "      <td>3.08</td>\n",
       "      <td>4.93</td>\n",
       "      <td>0.29</td>\n",
       "      <td>2.75</td>\n",
       "      <td>1.27</td>\n",
       "      <td>2.90</td>\n",
       "      <td>-4.37</td>\n",
       "      <td>6.65</td>\n",
       "    </tr>\n",
       "  </tbody>\n",
       "</table>\n",
       "<p>2 rows × 700 columns</p>\n",
       "</div>"
      ],
      "text/plain": [
       "Date  1963-07  1963-08  1963-09  1963-10  1963-11  1963-12  1964-01  1964-02  \\\n",
       "R       -1.09    10.19    -4.00     2.69     0.25     0.91     0.65     3.55   \n",
       "MKT     -0.39     5.07    -1.57     2.53    -0.85     1.83     2.24     1.54   \n",
       "\n",
       "Date  1964-03  1964-04  ...  2021-01  2021-02  2021-03  2021-04  2021-05  \\\n",
       "R        5.78     -5.3  ...     5.58     6.56    -4.23     4.33    -3.18   \n",
       "MKT      1.41      0.1  ...    -0.03     2.78     3.08     4.93     0.29   \n",
       "\n",
       "Date  2021-06  2021-07  2021-08  2021-09  2021-10  \n",
       "R        8.40    -9.18     5.38    -3.70     5.84  \n",
       "MKT      2.75     1.27     2.90    -4.37     6.65  \n",
       "\n",
       "[2 rows x 700 columns]"
      ]
     },
     "execution_count": 13,
     "metadata": {},
     "output_type": "execute_result"
    }
   ],
   "source": [
    "reg_df = pd.DataFrame([Y, X], index=['R', 'MKT'])\n",
    "reg_df"
   ]
  },
  {
   "cell_type": "code",
   "execution_count": 14,
   "metadata": {},
   "outputs": [
    {
     "data": {
      "text/html": [
       "<div>\n",
       "<style scoped>\n",
       "    .dataframe tbody tr th:only-of-type {\n",
       "        vertical-align: middle;\n",
       "    }\n",
       "\n",
       "    .dataframe tbody tr th {\n",
       "        vertical-align: top;\n",
       "    }\n",
       "\n",
       "    .dataframe thead th {\n",
       "        text-align: right;\n",
       "    }\n",
       "</style>\n",
       "<table border=\"1\" class=\"dataframe\">\n",
       "  <thead>\n",
       "    <tr style=\"text-align: right;\">\n",
       "      <th></th>\n",
       "      <th>R</th>\n",
       "      <th>MKT</th>\n",
       "    </tr>\n",
       "    <tr>\n",
       "      <th>Date</th>\n",
       "      <th></th>\n",
       "      <th></th>\n",
       "    </tr>\n",
       "  </thead>\n",
       "  <tbody>\n",
       "    <tr>\n",
       "      <th>1963-07</th>\n",
       "      <td>-1.09</td>\n",
       "      <td>-0.39</td>\n",
       "    </tr>\n",
       "    <tr>\n",
       "      <th>1963-08</th>\n",
       "      <td>10.19</td>\n",
       "      <td>5.07</td>\n",
       "    </tr>\n",
       "    <tr>\n",
       "      <th>1963-09</th>\n",
       "      <td>-4.00</td>\n",
       "      <td>-1.57</td>\n",
       "    </tr>\n",
       "    <tr>\n",
       "      <th>1963-10</th>\n",
       "      <td>2.69</td>\n",
       "      <td>2.53</td>\n",
       "    </tr>\n",
       "    <tr>\n",
       "      <th>1963-11</th>\n",
       "      <td>0.25</td>\n",
       "      <td>-0.85</td>\n",
       "    </tr>\n",
       "    <tr>\n",
       "      <th>...</th>\n",
       "      <td>...</td>\n",
       "      <td>...</td>\n",
       "    </tr>\n",
       "    <tr>\n",
       "      <th>2021-06</th>\n",
       "      <td>8.40</td>\n",
       "      <td>2.75</td>\n",
       "    </tr>\n",
       "    <tr>\n",
       "      <th>2021-07</th>\n",
       "      <td>-9.18</td>\n",
       "      <td>1.27</td>\n",
       "    </tr>\n",
       "    <tr>\n",
       "      <th>2021-08</th>\n",
       "      <td>5.38</td>\n",
       "      <td>2.90</td>\n",
       "    </tr>\n",
       "    <tr>\n",
       "      <th>2021-09</th>\n",
       "      <td>-3.70</td>\n",
       "      <td>-4.37</td>\n",
       "    </tr>\n",
       "    <tr>\n",
       "      <th>2021-10</th>\n",
       "      <td>5.84</td>\n",
       "      <td>6.65</td>\n",
       "    </tr>\n",
       "  </tbody>\n",
       "</table>\n",
       "<p>700 rows × 2 columns</p>\n",
       "</div>"
      ],
      "text/plain": [
       "             R   MKT\n",
       "Date                \n",
       "1963-07  -1.09 -0.39\n",
       "1963-08  10.19  5.07\n",
       "1963-09  -4.00 -1.57\n",
       "1963-10   2.69  2.53\n",
       "1963-11   0.25 -0.85\n",
       "...        ...   ...\n",
       "2021-06   8.40  2.75\n",
       "2021-07  -9.18  1.27\n",
       "2021-08   5.38  2.90\n",
       "2021-09  -3.70 -4.37\n",
       "2021-10   5.84  6.65\n",
       "\n",
       "[700 rows x 2 columns]"
      ]
     },
     "execution_count": 14,
     "metadata": {},
     "output_type": "execute_result"
    }
   ],
   "source": [
    "reg_df = reg_df.T # Y, X 結合會以上下交疊方式，即 columns 為時間，因此轉置讓時間變成 rows\n",
    "reg_df"
   ]
  },
  {
   "cell_type": "code",
   "execution_count": 15,
   "metadata": {},
   "outputs": [
    {
     "name": "stdout",
     "output_type": "stream",
     "text": [
      "                            OLS Regression Results                            \n",
      "==============================================================================\n",
      "Dep. Variable:                      R   R-squared:                       0.810\n",
      "Model:                            OLS   Adj. R-squared:                  0.809\n",
      "Method:                 Least Squares   F-statistic:                     2969.\n",
      "Date:                Wed, 15 Dec 2021   Prob (F-statistic):          1.19e-253\n",
      "Time:                        21:15:33   Log-Likelihood:                -1858.0\n",
      "No. Observations:                 700   AIC:                             3720.\n",
      "Df Residuals:                     698   BIC:                             3729.\n",
      "Df Model:                           1                                         \n",
      "Covariance Type:            nonrobust                                         \n",
      "==============================================================================\n",
      "                 coef    std err          t      P>|t|      [0.025      0.975]\n",
      "------------------------------------------------------------------------------\n",
      "Intercept     -0.1910      0.131     -1.454      0.146      -0.449       0.067\n",
      "MKT            1.5944      0.029     54.491      0.000       1.537       1.652\n",
      "==============================================================================\n",
      "Omnibus:                       49.320   Durbin-Watson:                   1.908\n",
      "Prob(Omnibus):                  0.000   Jarque-Bera (JB):               95.114\n",
      "Skew:                           0.453   Prob(JB):                     2.22e-21\n",
      "Kurtosis:                       4.562   Cond. No.                         4.53\n",
      "==============================================================================\n",
      "\n",
      "Notes:\n",
      "[1] Standard Errors assume that the covariance matrix of the errors is correctly specified.\n"
     ]
    }
   ],
   "source": [
    "TSR = smf.ols('R ~ 1 + MKT', data=reg_df).fit() # TSR = time series regression\n",
    "YHat = TSR.fittedvalues\n",
    "print(TSR.summary())"
   ]
  },
  {
   "cell_type": "code",
   "execution_count": 16,
   "metadata": {},
   "outputs": [
    {
     "data": {
      "text/plain": [
       "Date\n",
       "1963-07    -1.09\n",
       "1963-08    10.19\n",
       "1963-09    -4.00\n",
       "1963-10     2.69\n",
       "1963-11     0.25\n",
       "           ...  \n",
       "2021-06     8.40\n",
       "2021-07    -9.18\n",
       "2021-08     5.38\n",
       "2021-09    -3.70\n",
       "2021-10     5.84\n",
       "Freq: M, Length: 700, dtype: float64"
      ]
     },
     "execution_count": 16,
     "metadata": {},
     "output_type": "execute_result"
    }
   ],
   "source": [
    "Y # Y = excess return = market return - risk-free rate"
   ]
  },
  {
   "cell_type": "code",
   "execution_count": 17,
   "metadata": {},
   "outputs": [
    {
     "data": {
      "text/plain": [
       "Date\n",
       "1963-07    -0.812788\n",
       "1963-08     7.892671\n",
       "1963-09    -2.694188\n",
       "1963-10     3.842878\n",
       "1963-11    -1.546215\n",
       "             ...    \n",
       "2021-06     4.193648\n",
       "2021-07     1.833926\n",
       "2021-08     4.432809\n",
       "2021-09    -7.158526\n",
       "2021-10    10.411833\n",
       "Freq: M, Length: 700, dtype: float64"
      ]
     },
     "execution_count": 17,
     "metadata": {},
     "output_type": "execute_result"
    }
   ],
   "source": [
    "YHat # 迴歸式估出的"
   ]
  },
  {
   "cell_type": "markdown",
   "metadata": {},
   "source": [
    "## 視覺化用 F-F datasets 估出的 CAPM"
   ]
  },
  {
   "cell_type": "code",
   "execution_count": 18,
   "metadata": {},
   "outputs": [
    {
     "data": {
      "image/png": "[encoded data removed]",
      "text/plain": [
       "<Figure size 720x576 with 1 Axes>"
      ]
     },
     "metadata": {},
     "output_type": "display_data"
    }
   ],
   "source": [
    "import matplotlib.pyplot as plt\n",
    "plt.style.use('seaborn')\n",
    "\n",
    "fig = plt.figure(figsize=(10, 8))\n",
    "ax = fig.add_subplot(1,1,1)\n",
    "\n",
    "# 在 y = 0 的位置加一條 水平線 (horizontal line)\n",
    "plt.axhline(0, color='xkcd:gray', linestyle='-', label='_nolegend_', linewidth=1)\n",
    "# 在 x = 0 的位置加一條 垂直線 (vertical line)\n",
    "plt.axvline(0, color='xkcd:gray', linestyle='-', label='_nolegend_', linewidth=1)\n",
    "\n",
    "plt.plot(X,Y,'o', alpha=0.5, markersize=5)\n",
    "plt.plot(X,YHat, color='xkcd:orange', alpha=0.75)\n",
    "\n",
    "plt.ylabel('Excess returns of an asset')\n",
    "plt.xlabel('Excess returns of the market portfolio')\n",
    "plt.title('Scatter plot of data points and the regression line')\n",
    "plt.legend(['Data points', 'Regression line'], loc='best')\n",
    "plt.show()"
   ]
  },
  {
   "cell_type": "markdown",
   "metadata": {},
   "source": [
    "### 對全市場的標的迴歸:\n",
    "- 用全市場的平均 return "
   ]
  },
  {
   "cell_type": "code",
   "execution_count": 19,
   "metadata": {},
   "outputs": [],
   "source": [
    "import statsmodels.api as sm\n",
    "MKT = df['Mkt-RF']\n",
    "RF = df['RF']\n",
    "\n",
    "AvgMkt = MKT.mean()\n",
    "AvgRF = RF.mean()"
   ]
  },
  {
   "cell_type": "code",
   "execution_count": 20,
   "metadata": {},
   "outputs": [
    {
     "name": "stdout",
     "output_type": "stream",
     "text": [
      "<class 'pandas.core.series.Series'>\n"
     ]
    },
    {
     "data": {
      "text/plain": [
       "Date\n",
       "1963-07   -0.39\n",
       "1963-08    5.07\n",
       "1963-09   -1.57\n",
       "1963-10    2.53\n",
       "1963-11   -0.85\n",
       "           ... \n",
       "2021-06    2.75\n",
       "2021-07    1.27\n",
       "2021-08    2.90\n",
       "2021-09   -4.37\n",
       "2021-10    6.65\n",
       "Freq: M, Name: Mkt-RF, Length: 700, dtype: float64"
      ]
     },
     "execution_count": 20,
     "metadata": {},
     "output_type": "execute_result"
    }
   ],
   "source": [
    "print(type(MKT)) \n",
    "MKT # 存放各年分月份的報酬"
   ]
  },
  {
   "cell_type": "code",
   "execution_count": 21,
   "metadata": {},
   "outputs": [
    {
     "data": {
      "text/plain": [
       "0.5887"
      ]
     },
     "execution_count": 21,
     "metadata": {},
     "output_type": "execute_result"
    }
   ],
   "source": [
    "AvgMkt"
   ]
  },
  {
   "cell_type": "code",
   "execution_count": 22,
   "metadata": {},
   "outputs": [
    {
     "data": {
      "text/plain": [
       "0.3672"
      ]
     },
     "execution_count": 22,
     "metadata": {},
     "output_type": "execute_result"
    }
   ],
   "source": [
    "AvgRF # 各時間 risk-free rate 的平均"
   ]
  },
  {
   "cell_type": "code",
   "execution_count": 23,
   "metadata": {},
   "outputs": [],
   "source": [
    "BETA = []\n",
    "AvgR = [] # 放市場平均的 excess return (市場平均 return (AvgMkt) - 市場平均 risk-free (AvgRF))\n",
    "AvgRHat = [] # 放 迴歸線估計值"
   ]
  },
  {
   "cell_type": "code",
   "execution_count": 24,
   "metadata": {},
   "outputs": [
    {
     "data": {
      "text/html": [
       "<div>\n",
       "<style scoped>\n",
       "    .dataframe tbody tr th:only-of-type {\n",
       "        vertical-align: middle;\n",
       "    }\n",
       "\n",
       "    .dataframe tbody tr th {\n",
       "        vertical-align: top;\n",
       "    }\n",
       "\n",
       "    .dataframe thead th {\n",
       "        text-align: right;\n",
       "    }\n",
       "</style>\n",
       "<table border=\"1\" class=\"dataframe\">\n",
       "  <thead>\n",
       "    <tr style=\"text-align: right;\">\n",
       "      <th></th>\n",
       "      <th>Lo 10</th>\n",
       "      <th>Dec 2</th>\n",
       "      <th>Dec 3</th>\n",
       "      <th>Dec 4</th>\n",
       "      <th>Dec 5</th>\n",
       "      <th>Dec 6</th>\n",
       "      <th>Dec 7</th>\n",
       "      <th>Dec 8</th>\n",
       "      <th>Dec 9</th>\n",
       "      <th>Hi 10</th>\n",
       "      <th>Mkt-RF</th>\n",
       "      <th>RF</th>\n",
       "    </tr>\n",
       "    <tr>\n",
       "      <th>Date</th>\n",
       "      <th></th>\n",
       "      <th></th>\n",
       "      <th></th>\n",
       "      <th></th>\n",
       "      <th></th>\n",
       "      <th></th>\n",
       "      <th></th>\n",
       "      <th></th>\n",
       "      <th></th>\n",
       "      <th></th>\n",
       "      <th></th>\n",
       "      <th></th>\n",
       "    </tr>\n",
       "  </thead>\n",
       "  <tbody>\n",
       "    <tr>\n",
       "      <th>1963-07</th>\n",
       "      <td>1.36</td>\n",
       "      <td>0.75</td>\n",
       "      <td>0.09</td>\n",
       "      <td>-0.29</td>\n",
       "      <td>-0.59</td>\n",
       "      <td>-1.22</td>\n",
       "      <td>-0.42</td>\n",
       "      <td>-1.39</td>\n",
       "      <td>-1.91</td>\n",
       "      <td>-0.82</td>\n",
       "      <td>-0.39</td>\n",
       "      <td>0.27</td>\n",
       "    </tr>\n",
       "    <tr>\n",
       "      <th>1963-08</th>\n",
       "      <td>3.52</td>\n",
       "      <td>3.90</td>\n",
       "      <td>4.30</td>\n",
       "      <td>5.26</td>\n",
       "      <td>5.20</td>\n",
       "      <td>7.34</td>\n",
       "      <td>7.94</td>\n",
       "      <td>4.91</td>\n",
       "      <td>9.04</td>\n",
       "      <td>10.44</td>\n",
       "      <td>5.07</td>\n",
       "      <td>0.25</td>\n",
       "    </tr>\n",
       "    <tr>\n",
       "      <th>1963-09</th>\n",
       "      <td>-3.10</td>\n",
       "      <td>-2.24</td>\n",
       "      <td>-0.57</td>\n",
       "      <td>-0.96</td>\n",
       "      <td>-1.33</td>\n",
       "      <td>-0.17</td>\n",
       "      <td>-0.81</td>\n",
       "      <td>-1.00</td>\n",
       "      <td>-1.85</td>\n",
       "      <td>-3.73</td>\n",
       "      <td>-1.57</td>\n",
       "      <td>0.27</td>\n",
       "    </tr>\n",
       "    <tr>\n",
       "      <th>1963-10</th>\n",
       "      <td>1.24</td>\n",
       "      <td>-0.13</td>\n",
       "      <td>1.99</td>\n",
       "      <td>5.16</td>\n",
       "      <td>2.35</td>\n",
       "      <td>1.86</td>\n",
       "      <td>6.81</td>\n",
       "      <td>4.78</td>\n",
       "      <td>3.12</td>\n",
       "      <td>2.98</td>\n",
       "      <td>2.53</td>\n",
       "      <td>0.29</td>\n",
       "    </tr>\n",
       "    <tr>\n",
       "      <th>1963-11</th>\n",
       "      <td>-0.91</td>\n",
       "      <td>-0.15</td>\n",
       "      <td>1.59</td>\n",
       "      <td>-2.05</td>\n",
       "      <td>-1.00</td>\n",
       "      <td>-0.84</td>\n",
       "      <td>-1.14</td>\n",
       "      <td>-0.51</td>\n",
       "      <td>-0.21</td>\n",
       "      <td>0.52</td>\n",
       "      <td>-0.85</td>\n",
       "      <td>0.27</td>\n",
       "    </tr>\n",
       "    <tr>\n",
       "      <th>...</th>\n",
       "      <td>...</td>\n",
       "      <td>...</td>\n",
       "      <td>...</td>\n",
       "      <td>...</td>\n",
       "      <td>...</td>\n",
       "      <td>...</td>\n",
       "      <td>...</td>\n",
       "      <td>...</td>\n",
       "      <td>...</td>\n",
       "      <td>...</td>\n",
       "      <td>...</td>\n",
       "      <td>...</td>\n",
       "    </tr>\n",
       "    <tr>\n",
       "      <th>2021-06</th>\n",
       "      <td>0.56</td>\n",
       "      <td>-0.28</td>\n",
       "      <td>4.35</td>\n",
       "      <td>2.29</td>\n",
       "      <td>0.01</td>\n",
       "      <td>4.92</td>\n",
       "      <td>4.35</td>\n",
       "      <td>-0.30</td>\n",
       "      <td>1.99</td>\n",
       "      <td>8.40</td>\n",
       "      <td>2.75</td>\n",
       "      <td>0.00</td>\n",
       "    </tr>\n",
       "    <tr>\n",
       "      <th>2021-07</th>\n",
       "      <td>2.74</td>\n",
       "      <td>1.28</td>\n",
       "      <td>3.26</td>\n",
       "      <td>3.51</td>\n",
       "      <td>0.08</td>\n",
       "      <td>-0.39</td>\n",
       "      <td>3.10</td>\n",
       "      <td>-2.64</td>\n",
       "      <td>-1.80</td>\n",
       "      <td>-9.18</td>\n",
       "      <td>1.27</td>\n",
       "      <td>0.00</td>\n",
       "    </tr>\n",
       "    <tr>\n",
       "      <th>2021-08</th>\n",
       "      <td>2.15</td>\n",
       "      <td>1.97</td>\n",
       "      <td>3.11</td>\n",
       "      <td>4.22</td>\n",
       "      <td>0.92</td>\n",
       "      <td>0.56</td>\n",
       "      <td>4.73</td>\n",
       "      <td>2.50</td>\n",
       "      <td>3.87</td>\n",
       "      <td>5.38</td>\n",
       "      <td>2.90</td>\n",
       "      <td>0.00</td>\n",
       "    </tr>\n",
       "    <tr>\n",
       "      <th>2021-09</th>\n",
       "      <td>-4.58</td>\n",
       "      <td>-4.37</td>\n",
       "      <td>-5.11</td>\n",
       "      <td>-6.87</td>\n",
       "      <td>-2.58</td>\n",
       "      <td>-2.57</td>\n",
       "      <td>-5.35</td>\n",
       "      <td>0.76</td>\n",
       "      <td>-0.44</td>\n",
       "      <td>-3.70</td>\n",
       "      <td>-4.37</td>\n",
       "      <td>0.00</td>\n",
       "    </tr>\n",
       "    <tr>\n",
       "      <th>2021-10</th>\n",
       "      <td>4.36</td>\n",
       "      <td>5.12</td>\n",
       "      <td>8.20</td>\n",
       "      <td>6.11</td>\n",
       "      <td>6.01</td>\n",
       "      <td>3.52</td>\n",
       "      <td>7.72</td>\n",
       "      <td>4.68</td>\n",
       "      <td>19.69</td>\n",
       "      <td>5.84</td>\n",
       "      <td>6.65</td>\n",
       "      <td>0.00</td>\n",
       "    </tr>\n",
       "  </tbody>\n",
       "</table>\n",
       "<p>700 rows × 12 columns</p>\n",
       "</div>"
      ],
      "text/plain": [
       "         Lo 10  Dec 2  Dec 3  Dec 4  Dec 5  Dec 6  Dec 7  Dec 8  Dec 9  Hi 10  \\\n",
       "Date                                                                            \n",
       "1963-07   1.36   0.75   0.09  -0.29  -0.59  -1.22  -0.42  -1.39  -1.91  -0.82   \n",
       "1963-08   3.52   3.90   4.30   5.26   5.20   7.34   7.94   4.91   9.04  10.44   \n",
       "1963-09  -3.10  -2.24  -0.57  -0.96  -1.33  -0.17  -0.81  -1.00  -1.85  -3.73   \n",
       "1963-10   1.24  -0.13   1.99   5.16   2.35   1.86   6.81   4.78   3.12   2.98   \n",
       "1963-11  -0.91  -0.15   1.59  -2.05  -1.00  -0.84  -1.14  -0.51  -0.21   0.52   \n",
       "...        ...    ...    ...    ...    ...    ...    ...    ...    ...    ...   \n",
       "2021-06   0.56  -0.28   4.35   2.29   0.01   4.92   4.35  -0.30   1.99   8.40   \n",
       "2021-07   2.74   1.28   3.26   3.51   0.08  -0.39   3.10  -2.64  -1.80  -9.18   \n",
       "2021-08   2.15   1.97   3.11   4.22   0.92   0.56   4.73   2.50   3.87   5.38   \n",
       "2021-09  -4.58  -4.37  -5.11  -6.87  -2.58  -2.57  -5.35   0.76  -0.44  -3.70   \n",
       "2021-10   4.36   5.12   8.20   6.11   6.01   3.52   7.72   4.68  19.69   5.84   \n",
       "\n",
       "         Mkt-RF    RF  \n",
       "Date                   \n",
       "1963-07   -0.39  0.27  \n",
       "1963-08    5.07  0.25  \n",
       "1963-09   -1.57  0.27  \n",
       "1963-10    2.53  0.29  \n",
       "1963-11   -0.85  0.27  \n",
       "...         ...   ...  \n",
       "2021-06    2.75  0.00  \n",
       "2021-07    1.27  0.00  \n",
       "2021-08    2.90  0.00  \n",
       "2021-09   -4.37  0.00  \n",
       "2021-10    6.65  0.00  \n",
       "\n",
       "[700 rows x 12 columns]"
      ]
     },
     "execution_count": 24,
     "metadata": {},
     "output_type": "execute_result"
    }
   ],
   "source": [
    "df"
   ]
  },
  {
   "cell_type": "code",
   "execution_count": 35,
   "metadata": {},
   "outputs": [
    {
     "name": "stdout",
     "output_type": "stream",
     "text": [
      "<class 'pandas.core.series.Series'>\n",
      "<class 'pandas.core.series.Series'>\n",
      "<class 'pandas.core.series.Series'>\n",
      "const     0.115454\n",
      "Mkt-RF    0.730210\n",
      "dtype: float64\n",
      "<class 'pandas.core.series.Series'>\n",
      "<class 'pandas.core.series.Series'>\n",
      "<class 'pandas.core.series.Series'>\n",
      "<class 'pandas.core.series.Series'>\n",
      "<class 'pandas.core.series.Series'>\n",
      "<class 'pandas.core.series.Series'>\n",
      "<class 'pandas.core.series.Series'>\n",
      "<class 'pandas.core.series.Series'>\n"
     ]
    }
   ],
   "source": [
    "for c in range(10): # 因為 df 將全部資料以 10 個百分位呈現\n",
    "    R = df.iloc[:, c].subtract(RF, axis=0) # axis=0: column 對 column 相減\n",
    "    TSR = sm.OLS(R, sm.add_constant(MKT)).fit()\n",
    "    print(type(TSR.params))\n",
    "    if c==1: # 查看 params 是甚麼\n",
    "        print(type(TSR.params))\n",
    "        print(TSR.params)\n",
    "\n",
    "    BETA.append(TSR.params[1]) # 將模型預估的 beta 加入 BETA list 裡\n",
    " \n",
    "    AvgR.append(R.mean()) # 個股超額報酬\n",
    "    AvgRHat.append(AvgMkt * TSR.params[1]) # 市場超額報酬 * 模型預估的 beta\n"
   ]
  },
  {
   "cell_type": "code",
   "execution_count": 36,
   "metadata": {},
   "outputs": [
    {
     "name": "stdout",
     "output_type": "stream",
     "text": [
      "40\n",
      "40\n",
      "40\n"
     ]
    }
   ],
   "source": [
    "for i in range(1):\n",
    "    print(len(BETA))\n",
    "    print(len(AvgR))\n",
    "    print(len(AvgRHat))"
   ]
  },
  {
   "cell_type": "code",
   "execution_count": 32,
   "metadata": {},
   "outputs": [
    {
     "data": {
      "text/plain": [
       "Date\n",
       "1963-07   -0.39\n",
       "1963-08    5.07\n",
       "1963-09   -1.57\n",
       "1963-10    2.53\n",
       "1963-11   -0.85\n",
       "           ... \n",
       "2021-06    2.75\n",
       "2021-07    1.27\n",
       "2021-08    2.90\n",
       "2021-09   -4.37\n",
       "2021-10    6.65\n",
       "Freq: M, Name: Mkt-RF, Length: 700, dtype: float64"
      ]
     },
     "execution_count": 32,
     "metadata": {},
     "output_type": "execute_result"
    }
   ],
   "source": [
    "MKT"
   ]
  },
  {
   "cell_type": "markdown",
   "metadata": {},
   "source": [
    "##  Empirical security market line (Regression 後再 regress 一次)"
   ]
  },
  {
   "cell_type": "markdown",
   "metadata": {},
   "source": [
    "Once we have all the estimated betas, we can estimate the ```empirical security market line (SML)```\n",
    "as implied by the historical data.   \n",
    "\n",
    "To do so, we have to **regress the average excess returns $\\bar{R_i}$ of these portfolios on their respective estimated betas $\\hat\\beta_{i}$**.  \n",
    "\n",
    "This is also known as the cross-sectional regression (CSR):\n",
    "$$\n",
    "\\bar{R_i} = \\gamma + \\hat\\beta_{i}\\lambda + e\n",
    "$$\n",
    "The estimated $\\lambda$ is the price of risk (risk premium) of the CAPM beta (就是承擔多少單位的 beta 風險??)and it is the slope of the\n",
    "empirical SML."
   ]
  },
  {
   "cell_type": "code",
   "execution_count": 26,
   "metadata": {},
   "outputs": [],
   "source": [
    "CSR = sm.OLS(AvgR, sm.add_constant(BETA)).fit()"
   ]
  },
  {
   "cell_type": "markdown",
   "metadata": {},
   "source": [
    "## 將 empirical SML 與預估的 CAPM 畫出"
   ]
  },
  {
   "cell_type": "code",
   "execution_count": 27,
   "metadata": {},
   "outputs": [
    {
     "data": {
      "image/png": "[encoded data removed]",
      "text/plain": [
       "<Figure size 720x576 with 1 Axes>"
      ]
     },
     "metadata": {},
     "output_type": "display_data"
    }
   ],
   "source": [
    "import matplotlib.pyplot as plt\n",
    "plt.style.use('seaborn')\n",
    "fig = plt.figure(figsize=(10, 8))\n",
    "ax = fig.add_subplot(1,1,1)\n",
    "\n",
    "# 藍線放模型預估的 SML\n",
    "plt.plot(BETA, AvgRHat, color='xkcd:blue', linewidth=5, alpha=0.5)\n",
    "# 紅線放真實資料 (excess return)\n",
    "plt.plot(BETA, AvgR, 'o', color='xkcd:red', alpha=0.5, markersize=8)\n",
    "# 綠線是用真實資料得出的 SML\n",
    "plt.plot(BETA, CSR.fittedvalues, ':', color='xkcd:green', alpha=0.5, linewidth=5)\n",
    "\n",
    "# recall 筆記\n",
    "plt.ylabel('Average excess returns')\n",
    "plt.xlabel('Beta')\n",
    "\n",
    "plt.title('Security market line (SML)')\n",
    "plt.legend(['CAPM predicted SML', 'Average excess returns', 'Empirical SML'], loc='best')\n",
    "plt.show()"
   ]
  },
  {
   "cell_type": "code",
   "execution_count": null,
   "metadata": {},
   "outputs": [],
   "source": []
  }
 ],
 "metadata": {
  "interpreter": {
   "hash": "8c2e27c92537dbc993fdeb86cbd3be2d376845eda7ee9fbaba49b9f3cd36e9e0"
  },
  "kernelspec": {
   "display_name": "Python 3.9.7 64-bit ('InvestnPortfolio': venv)",
   "language": "python",
   "name": "python3"
  },
  "language_info": {
   "codemirror_mode": {
    "name": "ipython",
    "version": 3
   },
   "file_extension": ".py",
   "mimetype": "text/x-python",
   "name": "python",
   "nbconvert_exporter": "python",
   "pygments_lexer": "ipython3",
   "version": "3.9.7"
  },
  "orig_nbformat": 4
 },
 "nbformat": 4,
 "nbformat_minor": 2
}
