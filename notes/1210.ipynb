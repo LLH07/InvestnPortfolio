{
 "cells": [
  {
   "cell_type": "code",
   "execution_count": 1,
   "metadata": {},
   "outputs": [],
   "source": [
    "import pandas as pd\n",
    "import numpy as np\n",
    "import pandas_datareader as pdr\n",
    "asset = pdr.get_data_famafrench('5_Industry_Portfolios', start='2000', end='2020')\n",
    "factor = pdr.get_data_famafrench('F-F_Research_Data_Factors', start='2000', end='2020')\n",
    "\n",
    "asset = asset[0]/100\n",
    "factor = factor[0]/100"
   ]
  },
  {
   "cell_type": "code",
   "execution_count": 2,
   "metadata": {},
   "outputs": [
    {
     "data": {
      "text/html": [
       "<div>\n",
       "<style scoped>\n",
       "    .dataframe tbody tr th:only-of-type {\n",
       "        vertical-align: middle;\n",
       "    }\n",
       "\n",
       "    .dataframe tbody tr th {\n",
       "        vertical-align: top;\n",
       "    }\n",
       "\n",
       "    .dataframe thead th {\n",
       "        text-align: right;\n",
       "    }\n",
       "</style>\n",
       "<table border=\"1\" class=\"dataframe\">\n",
       "  <thead>\n",
       "    <tr style=\"text-align: right;\">\n",
       "      <th></th>\n",
       "      <th>Cnsmr</th>\n",
       "      <th>Manuf</th>\n",
       "      <th>HiTec</th>\n",
       "      <th>Hlth</th>\n",
       "      <th>Other</th>\n",
       "    </tr>\n",
       "    <tr>\n",
       "      <th>Date</th>\n",
       "      <th></th>\n",
       "      <th></th>\n",
       "      <th></th>\n",
       "      <th></th>\n",
       "      <th></th>\n",
       "    </tr>\n",
       "  </thead>\n",
       "  <tbody>\n",
       "    <tr>\n",
       "      <th>2000-01</th>\n",
       "      <td>-0.0795</td>\n",
       "      <td>-0.0496</td>\n",
       "      <td>-0.0454</td>\n",
       "      <td>0.0754</td>\n",
       "      <td>-0.0469</td>\n",
       "    </tr>\n",
       "    <tr>\n",
       "      <th>2000-02</th>\n",
       "      <td>-0.0511</td>\n",
       "      <td>-0.0475</td>\n",
       "      <td>0.1329</td>\n",
       "      <td>-0.0292</td>\n",
       "      <td>-0.0712</td>\n",
       "    </tr>\n",
       "    <tr>\n",
       "      <th>2000-03</th>\n",
       "      <td>0.1103</td>\n",
       "      <td>0.0819</td>\n",
       "      <td>0.0463</td>\n",
       "      <td>0.0030</td>\n",
       "      <td>0.1408</td>\n",
       "    </tr>\n",
       "  </tbody>\n",
       "</table>\n",
       "</div>"
      ],
      "text/plain": [
       "          Cnsmr   Manuf   HiTec   Hlth    Other\n",
       "Date                                           \n",
       "2000-01 -0.0795 -0.0496 -0.0454  0.0754 -0.0469\n",
       "2000-02 -0.0511 -0.0475  0.1329 -0.0292 -0.0712\n",
       "2000-03  0.1103  0.0819  0.0463  0.0030  0.1408"
      ]
     },
     "execution_count": 2,
     "metadata": {},
     "output_type": "execute_result"
    }
   ],
   "source": [
    "asset.head(3)"
   ]
  },
  {
   "cell_type": "code",
   "execution_count": 3,
   "metadata": {},
   "outputs": [
    {
     "data": {
      "text/html": [
       "<div>\n",
       "<style scoped>\n",
       "    .dataframe tbody tr th:only-of-type {\n",
       "        vertical-align: middle;\n",
       "    }\n",
       "\n",
       "    .dataframe tbody tr th {\n",
       "        vertical-align: top;\n",
       "    }\n",
       "\n",
       "    .dataframe thead th {\n",
       "        text-align: right;\n",
       "    }\n",
       "</style>\n",
       "<table border=\"1\" class=\"dataframe\">\n",
       "  <thead>\n",
       "    <tr style=\"text-align: right;\">\n",
       "      <th></th>\n",
       "      <th>Mkt-RF</th>\n",
       "      <th>SMB</th>\n",
       "      <th>HML</th>\n",
       "      <th>RF</th>\n",
       "    </tr>\n",
       "    <tr>\n",
       "      <th>Date</th>\n",
       "      <th></th>\n",
       "      <th></th>\n",
       "      <th></th>\n",
       "      <th></th>\n",
       "    </tr>\n",
       "  </thead>\n",
       "  <tbody>\n",
       "    <tr>\n",
       "      <th>2000-01</th>\n",
       "      <td>-0.0474</td>\n",
       "      <td>0.0579</td>\n",
       "      <td>-0.0189</td>\n",
       "      <td>0.0041</td>\n",
       "    </tr>\n",
       "    <tr>\n",
       "      <th>2000-02</th>\n",
       "      <td>0.0245</td>\n",
       "      <td>0.2148</td>\n",
       "      <td>-0.0981</td>\n",
       "      <td>0.0043</td>\n",
       "    </tr>\n",
       "    <tr>\n",
       "      <th>2000-03</th>\n",
       "      <td>0.0520</td>\n",
       "      <td>-0.1729</td>\n",
       "      <td>0.0823</td>\n",
       "      <td>0.0047</td>\n",
       "    </tr>\n",
       "  </tbody>\n",
       "</table>\n",
       "</div>"
      ],
      "text/plain": [
       "         Mkt-RF     SMB     HML      RF\n",
       "Date                                   \n",
       "2000-01 -0.0474  0.0579 -0.0189  0.0041\n",
       "2000-02  0.0245  0.2148 -0.0981  0.0043\n",
       "2000-03  0.0520 -0.1729  0.0823  0.0047"
      ]
     },
     "execution_count": 3,
     "metadata": {},
     "output_type": "execute_result"
    }
   ],
   "source": [
    "factor.head(3)"
   ]
  },
  {
   "cell_type": "code",
   "execution_count": 4,
   "metadata": {},
   "outputs": [
    {
     "data": {
      "text/html": [
       "<div>\n",
       "<style scoped>\n",
       "    .dataframe tbody tr th:only-of-type {\n",
       "        vertical-align: middle;\n",
       "    }\n",
       "\n",
       "    .dataframe tbody tr th {\n",
       "        vertical-align: top;\n",
       "    }\n",
       "\n",
       "    .dataframe thead th {\n",
       "        text-align: right;\n",
       "    }\n",
       "</style>\n",
       "<table border=\"1\" class=\"dataframe\">\n",
       "  <thead>\n",
       "    <tr style=\"text-align: right;\">\n",
       "      <th></th>\n",
       "      <th>Cnsmr</th>\n",
       "      <th>Manuf</th>\n",
       "      <th>HiTec</th>\n",
       "      <th>Hlth</th>\n",
       "      <th>Other</th>\n",
       "    </tr>\n",
       "    <tr>\n",
       "      <th>Date</th>\n",
       "      <th></th>\n",
       "      <th></th>\n",
       "      <th></th>\n",
       "      <th></th>\n",
       "      <th></th>\n",
       "    </tr>\n",
       "  </thead>\n",
       "  <tbody>\n",
       "    <tr>\n",
       "      <th>2000-01</th>\n",
       "      <td>0.9205</td>\n",
       "      <td>0.9504</td>\n",
       "      <td>0.9546</td>\n",
       "      <td>1.0754</td>\n",
       "      <td>0.9531</td>\n",
       "    </tr>\n",
       "    <tr>\n",
       "      <th>2000-02</th>\n",
       "      <td>0.9489</td>\n",
       "      <td>0.9525</td>\n",
       "      <td>1.1329</td>\n",
       "      <td>0.9708</td>\n",
       "      <td>0.9288</td>\n",
       "    </tr>\n",
       "    <tr>\n",
       "      <th>2000-03</th>\n",
       "      <td>1.1103</td>\n",
       "      <td>1.0819</td>\n",
       "      <td>1.0463</td>\n",
       "      <td>1.0030</td>\n",
       "      <td>1.1408</td>\n",
       "    </tr>\n",
       "  </tbody>\n",
       "</table>\n",
       "</div>"
      ],
      "text/plain": [
       "          Cnsmr   Manuf   HiTec   Hlth    Other\n",
       "Date                                           \n",
       "2000-01  0.9205  0.9504  0.9546  1.0754  0.9531\n",
       "2000-02  0.9489  0.9525  1.1329  0.9708  0.9288\n",
       "2000-03  1.1103  1.0819  1.0463  1.0030  1.1408"
      ]
     },
     "execution_count": 4,
     "metadata": {},
     "output_type": "execute_result"
    }
   ],
   "source": [
    "(1+asset).head(3) # 總報酬"
   ]
  },
  {
   "cell_type": "code",
   "execution_count": 10,
   "metadata": {},
   "outputs": [],
   "source": [
    "egg = (1+asset)\n",
    "egg2 = (1+asset).rolling(3).apply(np.prod)"
   ]
  },
  {
   "cell_type": "code",
   "execution_count": 13,
   "metadata": {},
   "outputs": [
    {
     "name": "stdout",
     "output_type": "stream",
     "text": [
      "          Cnsmr   Manuf   HiTec   Hlth    Other\n",
      "Date                                           \n",
      "2000-01  0.9205  0.9504  0.9546  1.0754  0.9531\n",
      "2000-02  0.9489  0.9525  1.1329  0.9708  0.9288\n",
      "2000-03  1.1103  1.0819  1.0463  1.0030  1.1408\n"
     ]
    },
    {
     "data": {
      "text/html": [
       "<div>\n",
       "<style scoped>\n",
       "    .dataframe tbody tr th:only-of-type {\n",
       "        vertical-align: middle;\n",
       "    }\n",
       "\n",
       "    .dataframe tbody tr th {\n",
       "        vertical-align: top;\n",
       "    }\n",
       "\n",
       "    .dataframe thead th {\n",
       "        text-align: right;\n",
       "    }\n",
       "</style>\n",
       "<table border=\"1\" class=\"dataframe\">\n",
       "  <thead>\n",
       "    <tr style=\"text-align: right;\">\n",
       "      <th></th>\n",
       "      <th>Cnsmr</th>\n",
       "      <th>Manuf</th>\n",
       "      <th>HiTec</th>\n",
       "      <th>Hlth</th>\n",
       "      <th>Other</th>\n",
       "    </tr>\n",
       "    <tr>\n",
       "      <th>Date</th>\n",
       "      <th></th>\n",
       "      <th></th>\n",
       "      <th></th>\n",
       "      <th></th>\n",
       "      <th></th>\n",
       "    </tr>\n",
       "  </thead>\n",
       "  <tbody>\n",
       "    <tr>\n",
       "      <th>2000-01</th>\n",
       "      <td>NaN</td>\n",
       "      <td>NaN</td>\n",
       "      <td>NaN</td>\n",
       "      <td>NaN</td>\n",
       "      <td>NaN</td>\n",
       "    </tr>\n",
       "    <tr>\n",
       "      <th>2000-02</th>\n",
       "      <td>NaN</td>\n",
       "      <td>NaN</td>\n",
       "      <td>NaN</td>\n",
       "      <td>NaN</td>\n",
       "      <td>NaN</td>\n",
       "    </tr>\n",
       "    <tr>\n",
       "      <th>2000-03</th>\n",
       "      <td>0.969805</td>\n",
       "      <td>0.979396</td>\n",
       "      <td>1.131538</td>\n",
       "      <td>1.04713</td>\n",
       "      <td>1.009881</td>\n",
       "    </tr>\n",
       "  </tbody>\n",
       "</table>\n",
       "</div>"
      ],
      "text/plain": [
       "            Cnsmr     Manuf     HiTec    Hlth      Other\n",
       "Date                                                    \n",
       "2000-01       NaN       NaN       NaN      NaN       NaN\n",
       "2000-02       NaN       NaN       NaN      NaN       NaN\n",
       "2000-03  0.969805  0.979396  1.131538  1.04713  1.009881"
      ]
     },
     "execution_count": 13,
     "metadata": {},
     "output_type": "execute_result"
    }
   ],
   "source": [
    "print(egg.head(3))\n",
    "egg2.head(3)"
   ]
  },
  {
   "cell_type": "code",
   "execution_count": 14,
   "metadata": {},
   "outputs": [
    {
     "data": {
      "text/plain": [
       "0.969805358235"
      ]
     },
     "execution_count": 14,
     "metadata": {},
     "output_type": "execute_result"
    }
   ],
   "source": [
    "0.9205*0.9489*1.1103  "
   ]
  },
  {
   "cell_type": "code",
   "execution_count": null,
   "metadata": {},
   "outputs": [],
   "source": [
    "# MOM: take last 11 months' cumulative return\n",
    "(1+asset).rolling(11).apply(np.prod).head(10)"
   ]
  },
  {
   "cell_type": "markdown",
   "metadata": {},
   "source": [
    "之後的步驟跟 Lecture 11 相似"
   ]
  },
  {
   "cell_type": "code",
   "execution_count": 16,
   "metadata": {},
   "outputs": [
    {
     "name": "stdout",
     "output_type": "stream",
     "text": [
      "             NoDur   Durbl   Manuf   Enrgy   HiTec   Telcm   Shops   Hlth   \\\n",
      "Date                                                                         \n",
      "2018-01-02 -0.0056  0.0159  0.0054  0.0167  0.0135  0.0153  0.0097  0.0140   \n",
      "2018-01-03 -0.0027  0.0064  0.0039  0.0135  0.0114 -0.0093  0.0057  0.0089   \n",
      "2018-01-04  0.0050  0.0124  0.0062  0.0042  0.0048  0.0020  0.0008 -0.0018   \n",
      "2018-01-05  0.0028  0.0066  0.0082 -0.0006  0.0101  0.0029  0.0101  0.0059   \n",
      "2018-01-08  0.0011  0.0088  0.0052  0.0053  0.0041 -0.0032  0.0048 -0.0048   \n",
      "\n",
      "             Utils   Other  \n",
      "Date                        \n",
      "2018-01-02 -0.0039  0.0043  \n",
      "2018-01-03 -0.0053  0.0052  \n",
      "2018-01-04 -0.0061  0.0076  \n",
      "2018-01-05 -0.0018  0.0059  \n",
      "2018-01-08  0.0081 -0.0005  \n",
      "------\n",
      "             NoDur   Durbl   Manuf   Enrgy   HiTec   Telcm   Shops   Hlth   \\\n",
      "Date                                                                         \n",
      "2018-01-02 -0.0056  0.0159  0.0054  0.0167  0.0135  0.0153  0.0097  0.0140   \n",
      "2018-01-03 -0.0027  0.0064  0.0039  0.0135  0.0114 -0.0093  0.0057  0.0089   \n",
      "2018-01-04  0.0050  0.0124  0.0062  0.0042  0.0048  0.0020  0.0008 -0.0018   \n",
      "2018-01-05  0.0028  0.0066  0.0082 -0.0006  0.0101  0.0029  0.0101  0.0059   \n",
      "2018-01-08  0.0011  0.0088  0.0052  0.0053  0.0041 -0.0032  0.0048 -0.0048   \n",
      "\n",
      "             Utils   Other  \n",
      "Date                        \n",
      "2018-01-02 -0.0039  0.0043  \n",
      "2018-01-03 -0.0053  0.0052  \n",
      "2018-01-04 -0.0061  0.0076  \n",
      "2018-01-05 -0.0018  0.0059  \n",
      "2018-01-08  0.0081 -0.0005  \n"
     ]
    }
   ],
   "source": [
    "asset_d = pdr.get_data_famafrench('10_Industry_Portfolios_daily', start='2018', end='2020')\n",
    "factor_d = pdr.get_data_famafrench('F-F_Research_Data_Factors_daily', start='2018', end='2020')\n",
    "asset_d = asset_d[0]/100\n",
    "factor_d = factor_d[0]/100\n",
    "\n",
    "print(asset_d.head(5))\n",
    "# resample daily to monthly\n",
    "asset_d.resample(\"M\").max().head()\n",
    "print('------')\n",
    "print(asset_d.head(5))"
   ]
  },
  {
   "cell_type": "code",
   "execution_count": null,
   "metadata": {},
   "outputs": [],
   "source": [
    "start_time = time.time()\n",
    "IVol = pd.DataFrame(index=asset_d.resample(\"M\").last().index, columns=asset_d.\n",
    ",→columns)\n",
    "ISkew = pd.DataFrame(index=asset_d.resample(\"M\").last().index, columns=asset_d.\n",
    ",→columns)\n",
    "for ym in tqdm(factor_d.index.strftime('%Y-%m').unique()): \n",
    "    # convert daily index YYYY-MM-DD into year-month format\n",
    "X = factor_d.loc[ym,\"Mkt-RF\":\"HML\"] # we only need these data (independent variable)\n",
    "X.insert(0, 'Const', 1.0) # include the alpha in the FF3 regression\n",
    "\n",
    "for c in ER_d.columns: # calculate with different industries\n",
    "Y = ER_d.loc[ym,c]\n",
    "res = sm.OLS(Y,X).fit()\n",
    "IVol.loc[ym,c] = np.sqrt(res.mse_resid)\n",
    "ISkew.loc[ym,c] = res.resid.skew()\n",
    "print(\"--- %s seconds ---\" % (time.time() - start_time))\n",
    "IVol.tail()"
   ]
  },
  {
   "cell_type": "code",
   "execution_count": null,
   "metadata": {},
   "outputs": [],
   "source": [
    "# ck for rollingOLS\n",
    "start_time = time.time()\n",
    "Coskew = pd.DataFrame(index=asset.index, columns=asset.columns)\n",
    "exog = factor[['Mkt-RF']]\n",
    "exog.insert(0, 'Const', 1.0)\n",
    "endog = asset.subtract(factor.RF, axis=0)\n",
    "winsize = 60\n",
    "for t in tqdm(range(winsize, len(exog)+1)):\n",
    "X = exog.iloc[t-winsize:t,:]\n",
    "Y = endog.iloc[t-winsize:t,:]\n",
    "eps_m = X['Mkt-RF'].subtract(X['Mkt-RF'].mean())\n",
    "for i in range(0, len(endog.columns)):\n",
    "res = sm.OLS(Y.iloc[:,i],X).fit()\n",
    "eps_i = res.resid\n",
    "Coskew.iloc[t-1,i] = np.mean(eps_i * (eps_m**2)) / (np.sqrt(np.\n",
    ",→mean(eps_i**2)) * np.mean(eps_m**2))\n",
    "print(\"--- %s seconds ---\" % (time.time() - start_time))\n",
    "Coskew.tail()"
   ]
  }
 ],
 "metadata": {
  "interpreter": {
   "hash": "8c2e27c92537dbc993fdeb86cbd3be2d376845eda7ee9fbaba49b9f3cd36e9e0"
  },
  "kernelspec": {
   "display_name": "Python 3.9.7 64-bit ('InvestnPortfolio': venv)",
   "language": "python",
   "name": "python3"
  },
  "language_info": {
   "codemirror_mode": {
    "name": "ipython",
    "version": 3
   },
   "file_extension": ".py",
   "mimetype": "text/x-python",
   "name": "python",
   "nbconvert_exporter": "python",
   "pygments_lexer": "ipython3",
   "version": "3.9.7"
  },
  "orig_nbformat": 4
 },
 "nbformat": 4,
 "nbformat_minor": 2
}
